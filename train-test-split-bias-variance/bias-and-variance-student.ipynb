{
 "cells": [
  {
   "cell_type": "markdown",
   "metadata": {},
   "source": [
    "<img src=\"http://imgur.com/1ZcRyrc.png\" style=\"float: left; margin: 20px; height: 55px\">\n",
    "\n",
    "# Train/Test Split and Bias and Variance\n",
    "\n",
    "_Authors: Joseph Nelson (DC), Kevin Markham (DC)_\n",
    "\n",
    "---"
   ]
  },
  {
   "cell_type": "markdown",
   "metadata": {},
   "source": [
    "<a id=\"learning-objectives\"></a>\n",
    "<a id=\"learning-objectives\"></a>\n",
    "<a id=\"learning-objectives\"></a>\n",
    "### Learning Objectives\n",
    "- Define error due to bias and error due to variance.\n",
    "- Identify the bias-variance trade-off.\n",
    "- Describe what overfitting and underfitting means in the context of model building.\n",
    "- Explain problems associated with over- and underfitting.\n",
    "- Grasp why train/test split is necessary.\n",
    "- Explore k-folds, LOOCV, and three split methods."
   ]
  },
  {
   "cell_type": "markdown",
   "metadata": {},
   "source": [
    "<a id=\"bias-and-variance-trade-off\"></a>\n",
    "# Section 1: Bias and Variance Trade-Off\n",
    "---\n",
    "\n",
    "The **bias-variance tradeoff** is widely used in machine learning as a conceptual way of comparing and contrasting different models. We only have a few methods that are able to compare all machine learning models. The others are more mathematical.\n",
    "\n",
    "**Bias** is error stemming from incorrect model assumptions.\n",
    "- Example: Assuming data is linear when it has a more complicated structure.\n",
    "\n",
    "**Variance** is error stemming from being overly sensitive from changes to the training data.\n",
    "- Example: Using the training set exactly (e.g. 1-NN) for a model results in a completely different model -- even if the training set differs only slightly.\n",
    "\n",
    "\n",
    "As model complexity **increases**:\n",
    "- Bias **decreases**. (The model can more accurately model complex structure in data.)\n",
    "- Variance **increases**. (The model identifies more complex structures, making it more sensitive to small changes in the training data.)"
   ]
  },
  {
   "cell_type": "markdown",
   "metadata": {},
   "source": [
    "<a id=\"bias-variance\"></a>\n",
    "### Bias? Variance?"
   ]
  },
  {
   "cell_type": "markdown",
   "metadata": {
    "collapsed": true
   },
   "source": [
    "**Conceptual Definitions**\n",
    "- **Bias**: How close are predictions to the actual values?\n",
    "  - Roughly, whether or not our model aims on target.\n",
    "  - If the model cannot represent the data's structure, our predictions could be consistent, but will not be accurate.\n",
    "- **Variance**: How variable are our predictions?\n",
    "  - Roughly, whether or not our model is reliable.\n",
    "  - We will make slightly different predictions given slightly different training sets."
   ]
  },
  {
   "cell_type": "markdown",
   "metadata": {},
   "source": [
    "![](./assets/biasVsVarianceImage.png)"
   ]
  },
  {
   "cell_type": "markdown",
   "metadata": {
    "collapsed": true
   },
   "source": [
    "- Visually, we are building a model where the bulls-eye is the goal.\n",
    "- Each individual hit is one prediction based on our model.\n",
    "- Critically, the success of our model (low variance, low bias) depends on the training data present."
   ]
  },
  {
   "cell_type": "markdown",
   "metadata": {},
   "source": [
    "<a id=\"exploring-the-bias-variance-tradeoff\"></a>\n",
    "### Exploring the Bias-Variance Trade-Off"
   ]
  },
  {
   "cell_type": "code",
   "execution_count": 1,
   "metadata": {},
   "outputs": [],
   "source": [
    "import pandas as pd\n",
    "import numpy as np\n",
    "import seaborn as sns\n",
    "import matplotlib.pyplot as plt\n",
    "\n",
    "# Allow plots to appear in the notebook.\n",
    "%matplotlib inline"
   ]
  },
  {
   "cell_type": "markdown",
   "metadata": {},
   "source": [
    "<a id=\"brain-and-body-weight-mammal-dataset\"></a>\n",
    "### Brain and Body Weight Mammal Data Set"
   ]
  },
  {
   "cell_type": "markdown",
   "metadata": {
    "collapsed": true
   },
   "source": [
    "This is a [data set](http://people.sc.fsu.edu/~jburkardt/datasets/regression/x01.txt) of the average weight of the body (in kg) and the brain (in g) for 62 mammal species. We'll use this dataset to investigate bias vs. variance. Let's read it into Pandas and take a quick look:"
   ]
  },
  {
   "cell_type": "code",
   "execution_count": 2,
   "metadata": {},
   "outputs": [
    {
     "data": {
      "text/html": [
       "<div>\n",
       "<style scoped>\n",
       "    .dataframe tbody tr th:only-of-type {\n",
       "        vertical-align: middle;\n",
       "    }\n",
       "\n",
       "    .dataframe tbody tr th {\n",
       "        vertical-align: top;\n",
       "    }\n",
       "\n",
       "    .dataframe thead th {\n",
       "        text-align: right;\n",
       "    }\n",
       "</style>\n",
       "<table border=\"1\" class=\"dataframe\">\n",
       "  <thead>\n",
       "    <tr style=\"text-align: right;\">\n",
       "      <th></th>\n",
       "      <th>brain</th>\n",
       "      <th>body</th>\n",
       "    </tr>\n",
       "  </thead>\n",
       "  <tbody>\n",
       "    <tr>\n",
       "      <th>0</th>\n",
       "      <td>3.385</td>\n",
       "      <td>44.5</td>\n",
       "    </tr>\n",
       "    <tr>\n",
       "      <th>1</th>\n",
       "      <td>0.480</td>\n",
       "      <td>15.5</td>\n",
       "    </tr>\n",
       "    <tr>\n",
       "      <th>2</th>\n",
       "      <td>1.350</td>\n",
       "      <td>8.1</td>\n",
       "    </tr>\n",
       "    <tr>\n",
       "      <th>3</th>\n",
       "      <td>465.000</td>\n",
       "      <td>423.0</td>\n",
       "    </tr>\n",
       "    <tr>\n",
       "      <th>4</th>\n",
       "      <td>36.330</td>\n",
       "      <td>119.5</td>\n",
       "    </tr>\n",
       "  </tbody>\n",
       "</table>\n",
       "</div>"
      ],
      "text/plain": [
       "     brain   body\n",
       "0    3.385   44.5\n",
       "1    0.480   15.5\n",
       "2    1.350    8.1\n",
       "3  465.000  423.0\n",
       "4   36.330  119.5"
      ]
     },
     "execution_count": 2,
     "metadata": {},
     "output_type": "execute_result"
    }
   ],
   "source": [
    "path = 'data/mammals.txt'\n",
    "cols = ['brain','body']\n",
    "mammals = pd.read_table(path, sep='\\t', names=cols, header=0)\n",
    "mammals.head()"
   ]
  },
  {
   "cell_type": "code",
   "execution_count": 3,
   "metadata": {},
   "outputs": [
    {
     "data": {
      "text/html": [
       "<div>\n",
       "<style scoped>\n",
       "    .dataframe tbody tr th:only-of-type {\n",
       "        vertical-align: middle;\n",
       "    }\n",
       "\n",
       "    .dataframe tbody tr th {\n",
       "        vertical-align: top;\n",
       "    }\n",
       "\n",
       "    .dataframe thead th {\n",
       "        text-align: right;\n",
       "    }\n",
       "</style>\n",
       "<table border=\"1\" class=\"dataframe\">\n",
       "  <thead>\n",
       "    <tr style=\"text-align: right;\">\n",
       "      <th></th>\n",
       "      <th>brain</th>\n",
       "      <th>body</th>\n",
       "    </tr>\n",
       "  </thead>\n",
       "  <tbody>\n",
       "    <tr>\n",
       "      <th>count</th>\n",
       "      <td>62.000000</td>\n",
       "      <td>62.000000</td>\n",
       "    </tr>\n",
       "    <tr>\n",
       "      <th>mean</th>\n",
       "      <td>198.789984</td>\n",
       "      <td>283.134194</td>\n",
       "    </tr>\n",
       "    <tr>\n",
       "      <th>std</th>\n",
       "      <td>899.158011</td>\n",
       "      <td>930.278942</td>\n",
       "    </tr>\n",
       "    <tr>\n",
       "      <th>min</th>\n",
       "      <td>0.005000</td>\n",
       "      <td>0.140000</td>\n",
       "    </tr>\n",
       "    <tr>\n",
       "      <th>25%</th>\n",
       "      <td>0.600000</td>\n",
       "      <td>4.250000</td>\n",
       "    </tr>\n",
       "    <tr>\n",
       "      <th>50%</th>\n",
       "      <td>3.342500</td>\n",
       "      <td>17.250000</td>\n",
       "    </tr>\n",
       "    <tr>\n",
       "      <th>75%</th>\n",
       "      <td>48.202500</td>\n",
       "      <td>166.000000</td>\n",
       "    </tr>\n",
       "    <tr>\n",
       "      <th>max</th>\n",
       "      <td>6654.000000</td>\n",
       "      <td>5712.000000</td>\n",
       "    </tr>\n",
       "  </tbody>\n",
       "</table>\n",
       "</div>"
      ],
      "text/plain": [
       "             brain         body\n",
       "count    62.000000    62.000000\n",
       "mean    198.789984   283.134194\n",
       "std     899.158011   930.278942\n",
       "min       0.005000     0.140000\n",
       "25%       0.600000     4.250000\n",
       "50%       3.342500    17.250000\n",
       "75%      48.202500   166.000000\n",
       "max    6654.000000  5712.000000"
      ]
     },
     "execution_count": 3,
     "metadata": {},
     "output_type": "execute_result"
    }
   ],
   "source": [
    "mammals.describe()"
   ]
  },
  {
   "cell_type": "markdown",
   "metadata": {},
   "source": [
    "We're going to focus on a smaller subset in which the body weight is less than 200 kg."
   ]
  },
  {
   "cell_type": "code",
   "execution_count": 4,
   "metadata": {},
   "outputs": [
    {
     "data": {
      "text/plain": [
       "(51, 2)"
      ]
     },
     "execution_count": 4,
     "metadata": {},
     "output_type": "execute_result"
    }
   ],
   "source": [
    "# Only keep rows in which the body weight is less than 200 kg.\n",
    "mammals = mammals[mammals.body < 200]\n",
    "mammals.shape"
   ]
  },
  {
   "cell_type": "markdown",
   "metadata": {
    "collapsed": true
   },
   "source": [
    "We're now going to pretend that there are only 51 mammal species in existence. In other words, we are pretending that this is the entire data set of brain and body weights for **every known mammal species**.\n",
    "\n",
    "Let's create a scatterplot (using [Seaborn](http://stanford.edu/~mwaskom/software/seaborn/)) to visualize the relationship between brain and body weight:"
   ]
  },
  {
   "cell_type": "code",
   "execution_count": 5,
   "metadata": {},
   "outputs": [
    {
     "data": {
      "image/png": "[encoded data removed]",
      "text/plain": [
       "<Figure size 360x360 with 1 Axes>"
      ]
     },
     "metadata": {
      "needs_background": "light"
     },
     "output_type": "display_data"
    }
   ],
   "source": [
    "sns.lmplot(x='body', y='brain', data=mammals, ci=None, fit_reg=False);\n",
    "plt.xlim(-10, 200);\n",
    "plt.ylim(-10, 250);"
   ]
  },
  {
   "cell_type": "markdown",
   "metadata": {
    "collapsed": true
   },
   "source": [
    "There appears to be a relationship between brain and body weight for mammals."
   ]
  },
  {
   "cell_type": "markdown",
   "metadata": {},
   "source": [
    "<a id=\"making-a-prediction\"></a>\n",
    "### Making a Prediction"
   ]
  },
  {
   "cell_type": "markdown",
   "metadata": {
    "collapsed": true
   },
   "source": [
    "Now let's pretend that a **new mammal species** is discovered. We measure the body weight of every member of this species we can find and calculate an **average body weight of 100 kgs**. We want to **predict the average brain weight** of this species (rather than measuring it directly). How might we do this?"
   ]
  },
  {
   "cell_type": "code",
   "execution_count": 6,
   "metadata": {},
   "outputs": [
    {
     "data": {
      "image/png": "[encoded data removed]",
      "text/plain": [
       "<Figure size 360x360 with 1 Axes>"
      ]
     },
     "metadata": {
      "needs_background": "light"
     },
     "output_type": "display_data"
    }
   ],
   "source": [
    "sns.lmplot(x='body', y='brain', data=mammals, ci=None);\n",
    "plt.xlim(-10, 200);\n",
    "plt.ylim(-10, 250);"
   ]
  },
  {
   "cell_type": "markdown",
   "metadata": {
    "collapsed": true
   },
   "source": [
    "We drew a straight line that appears to best capture the relationship between brain and body weight. So, we might predict that our new species has a brain weight of about 45 g, as that's the approximate y value when x=100.\n",
    "\n",
    "This is known as a \"linear model\" or a \"linear regression model.\""
   ]
  },
  {
   "cell_type": "markdown",
   "metadata": {
    "collapsed": true
   },
   "source": [
    "<a id=\"making-a-prediction-from-a-sample\"></a>\n",
    "## Making a Prediction From a Sample"
   ]
  },
  {
   "cell_type": "markdown",
   "metadata": {
    "collapsed": true
   },
   "source": [
    "Earlier, we assumed that this dataset contained every known mammal species. That's very convenient, but **in the real world, all you ever have is a sample of data**. This may sound like a contentious statement, but the point of machine learning is to generalize from a sample to the population. If you already have data for the entire population, then you have no need for machine learning -- you can apply statistics directly and get optimal answers!\n",
    "\n",
    "Here, a more realistic situation would be to only have brain and body weights for (let's say) half of the 51 known mammals.\n",
    "\n",
    "When that new mammal species (with a body weight of 100 kg) is discovered, we still want to make an accurate prediction for its brain weight, but this task might be more difficult, as we don't have all of the data we would ideally like to have.\n",
    "\n",
    "Let's simulate this situation by assigning each of the 51 observations to **either universe 1 or universe 2**:"
   ]
  },
  {
   "cell_type": "code",
   "execution_count": 8,
   "metadata": {},
   "outputs": [
    {
     "data": {
      "text/html": [
       "<div>\n",
       "<style scoped>\n",
       "    .dataframe tbody tr th:only-of-type {\n",
       "        vertical-align: middle;\n",
       "    }\n",
       "\n",
       "    .dataframe tbody tr th {\n",
       "        vertical-align: top;\n",
       "    }\n",
       "\n",
       "    .dataframe thead th {\n",
       "        text-align: right;\n",
       "    }\n",
       "</style>\n",
       "<table border=\"1\" class=\"dataframe\">\n",
       "  <thead>\n",
       "    <tr style=\"text-align: right;\">\n",
       "      <th></th>\n",
       "      <th>brain</th>\n",
       "      <th>body</th>\n",
       "      <th>universe</th>\n",
       "      <th>zoologist</th>\n",
       "    </tr>\n",
       "  </thead>\n",
       "  <tbody>\n",
       "    <tr>\n",
       "      <th>0</th>\n",
       "      <td>3.385</td>\n",
       "      <td>44.5</td>\n",
       "      <td>1</td>\n",
       "      <td>1</td>\n",
       "    </tr>\n",
       "    <tr>\n",
       "      <th>1</th>\n",
       "      <td>0.480</td>\n",
       "      <td>15.5</td>\n",
       "      <td>2</td>\n",
       "      <td>2</td>\n",
       "    </tr>\n",
       "    <tr>\n",
       "      <th>2</th>\n",
       "      <td>1.350</td>\n",
       "      <td>8.1</td>\n",
       "      <td>2</td>\n",
       "      <td>2</td>\n",
       "    </tr>\n",
       "    <tr>\n",
       "      <th>4</th>\n",
       "      <td>36.330</td>\n",
       "      <td>119.5</td>\n",
       "      <td>2</td>\n",
       "      <td>2</td>\n",
       "    </tr>\n",
       "    <tr>\n",
       "      <th>5</th>\n",
       "      <td>27.660</td>\n",
       "      <td>115.0</td>\n",
       "      <td>2</td>\n",
       "      <td>2</td>\n",
       "    </tr>\n",
       "  </tbody>\n",
       "</table>\n",
       "</div>"
      ],
      "text/plain": [
       "    brain   body  universe  zoologist\n",
       "0   3.385   44.5         1          1\n",
       "1   0.480   15.5         2          2\n",
       "2   1.350    8.1         2          2\n",
       "4  36.330  119.5         2          2\n",
       "5  27.660  115.0         2          2"
      ]
     },
     "execution_count": 8,
     "metadata": {},
     "output_type": "execute_result"
    }
   ],
   "source": [
    "# Set a random seed for reproducibility.\n",
    "np.random.seed(12342)\n",
    "\n",
    "# Randomly assign every observation to either universe 1 or universe 2.\n",
    "mammals['zoologist'] = np.random.randint(1, 3, len(mammals))\n",
    "mammals.head()"
   ]
  },
  {
   "cell_type": "markdown",
   "metadata": {
    "collapsed": true
   },
   "source": [
    "**Important:** We only live in one of the two universes. Both universes have 51 known mammal species, but each universe knows the brain and body weight for different species.\n",
    "\n",
    "We can now tell Seaborn to create two plots in which the left plot only uses the data from **universe 1** and the right plot only uses the data from **universe 2**:"
   ]
  },
  {
   "cell_type": "code",
   "execution_count": 9,
   "metadata": {},
   "outputs": [
    {
     "data": {
      "image/png": "[encoded data removed]",
      "text/plain": [
       "<Figure size 720x360 with 2 Axes>"
      ]
     },
     "metadata": {
      "needs_background": "light"
     },
     "output_type": "display_data"
    }
   ],
   "source": [
    "# col='universe' subsets the data by universe and creates two separate plots.\n",
    "sns.lmplot(x='body', y='brain', data=mammals, ci=None, col='zoologist');\n",
    "plt.xlim(-10, 200);\n",
    "plt.ylim(-10, 250);"
   ]
  },
  {
   "cell_type": "markdown",
   "metadata": {
    "collapsed": true
   },
   "source": [
    "The line looks pretty similar between the two plots, despite the fact that they used separate samples of data. In both cases, we would predict a brain weight of about 45 g.\n",
    "\n",
    "It's easier to see the degree of similarity by placing them on the same plot:"
   ]
  },
  {
   "cell_type": "code",
   "execution_count": 10,
   "metadata": {},
   "outputs": [
    {
     "data": {
      "image/png": "[encoded data removed]",
      "text/plain": [
       "<Figure size 412.375x360 with 1 Axes>"
      ]
     },
     "metadata": {
      "needs_background": "light"
     },
     "output_type": "display_data"
    }
   ],
   "source": [
    "# hue='universe' subsets the data by universe and creates a single plot.\n",
    "sns.lmplot(x='body', y='brain', data=mammals, ci=None, hue='zoologist');\n",
    "plt.xlim(-10, 200);\n",
    "plt.ylim(-10, 250);"
   ]
  },
  {
   "cell_type": "markdown",
   "metadata": {
    "collapsed": true
   },
   "source": [
    "So, what was the point of this exercise? This was a visual demonstration of a high-bias, low-variance model.\n",
    "\n",
    "- It's **high bias** because it doesn't fit the data particularly well.\n",
    "- It's **low variance** because it doesn't change much depending on which observations happen to be available in that universe."
   ]
  },
  {
   "cell_type": "markdown",
   "metadata": {
    "collapsed": true
   },
   "source": [
    "<a id=\"lets-try-something-completely-different\"></a>\n",
    "### Let's Try Something Completely Different"
   ]
  },
  {
   "cell_type": "markdown",
   "metadata": {
    "collapsed": true
   },
   "source": [
    "What would a **low bias, high variance** model look like? Let's try polynomial regression with an eighth-order polynomial."
   ]
  },
  {
   "cell_type": "code",
   "execution_count": 11,
   "metadata": {},
   "outputs": [
    {
     "data": {
      "image/png": "[encoded data removed]",
      "text/plain": [
       "<Figure size 720x360 with 2 Axes>"
      ]
     },
     "metadata": {
      "needs_background": "light"
     },
     "output_type": "display_data"
    }
   ],
   "source": [
    "sns.lmplot(x='body', y='brain', data=mammals, ci=None, col='zoologist', order=8);\n",
    "plt.xlim(-10, 200);\n",
    "plt.ylim(-10, 250);"
   ]
  },
  {
   "cell_type": "markdown",
   "metadata": {
    "collapsed": true
   },
   "source": [
    "- It's **low bias** because the models match the data effectively.\n",
    "- It's **high variance** because the models are widely different, depending on which observations happen to be available in that universe. (For a body weight of 100 kg, the brain weight prediction would be 40 kg in one universe and 0 kg in the other!)"
   ]
  },
  {
   "cell_type": "code",
   "execution_count": 12,
   "metadata": {
    "scrolled": true
   },
   "outputs": [
    {
     "data": {
      "image/png": "[encoded data removed]",
      "text/plain": [
       "<Figure size 412.375x360 with 1 Axes>"
      ]
     },
     "metadata": {
      "needs_background": "light"
     },
     "output_type": "display_data"
    }
   ],
   "source": [
    "sns.lmplot(x='body', y='brain', data=mammals, ci=None, hue='zoologist', order=8);\n",
    "plt.xlim(-10, 200);\n",
    "plt.ylim(-10, 250);"
   ]
  },
  {
   "cell_type": "markdown",
   "metadata": {
    "collapsed": true
   },
   "source": [
    "<a id=\"balancing-bias-and-variance\"></a>\n",
    "## Balancing Bias and Variance\n",
    "Can we find a middle ground?"
   ]
  },
  {
   "cell_type": "markdown",
   "metadata": {
    "collapsed": true
   },
   "source": [
    "Perhaps we can create a model that has **less bias than the linear model** and **less variance than the eighth order polynomial**?\n",
    "\n",
    "Let's try a second order polynomial instead:"
   ]
  },
  {
   "cell_type": "code",
   "execution_count": 13,
   "metadata": {},
   "outputs": [
    {
     "data": {
      "image/png": "[encoded data removed]",
      "text/plain": [
       "<Figure size 720x360 with 2 Axes>"
      ]
     },
     "metadata": {
      "needs_background": "light"
     },
     "output_type": "display_data"
    }
   ],
   "source": [
    "sns.lmplot(x='body', y='brain', data=mammals, ci=None, col='zoologist', order=2);\n",
    "plt.xlim(-10, 200);\n",
    "plt.ylim(-10, 250);"
   ]
  },
  {
   "cell_type": "code",
   "execution_count": 14,
   "metadata": {},
   "outputs": [
    {
     "data": {
      "image/png": "[encoded data removed]",
      "text/plain": [
       "<Figure size 412.375x360 with 1 Axes>"
      ]
     },
     "metadata": {
      "needs_background": "light"
     },
     "output_type": "display_data"
    }
   ],
   "source": [
    "sns.lmplot(x='body', y='brain', data=mammals, ci=None, hue='zoologist', order=2);\n",
    "plt.xlim(-10, 200);\n",
    "plt.ylim(-10, 250);"
   ]
  },
  {
   "cell_type": "markdown",
   "metadata": {
    "collapsed": true
   },
   "source": [
    "This seems better. In both the left and right plots, **it fits the data well, but not too well**.\n",
    "\n",
    "This is the essence of the **bias-variance trade-off**: You are seeking a model that appropriately balances bias and variance and thus will generalize to new data (known as \"out-of-sample\" data)."
   ]
  },
  {
   "cell_type": "markdown",
   "metadata": {
    "collapsed": true
   },
   "source": [
    "We want a model that best balances bias and variance. It\n",
    "should match our training data well (moderate bias) yet be low variance for out-of-sample data (moderate variance)."
   ]
  },
  {
   "cell_type": "markdown",
   "metadata": {
    "collapsed": true
   },
   "source": [
    "- Training error as a function of\n",
    "complexity.\n",
    "- Question: Why do we even\n",
    "care about variance if we\n",
    "know we can generate a\n",
    "more accurate model with\n",
    "higher complexity?"
   ]
  },
  {
   "cell_type": "markdown",
   "metadata": {},
   "source": [
    "### Can we obtain a zero-bias, zero-variance model?\n",
    "\n",
    "No! If there is any noise in the data-generating process, then a zero-variance model would not be learning from the data. Additionally, a model only has zero bias if the true relationship between the target and the features is hard-coded into it. If that were the case, you wouldn't be doing machine learning -- it would be similar to trying to predict today's temperature by using today's temperature!"
   ]
  },
  {
   "cell_type": "markdown",
   "metadata": {},
   "source": [
    "---\n",
    "\n",
    "<a id=\"train-test-split\"></a>\n",
    "## Section 2: Train-test-split"
   ]
  },
  {
   "cell_type": "markdown",
   "metadata": {},
   "source": [
    "For the rest of the lab, we will look at three evaluation procedures for predicting model out-of-sample accuracy:\n",
    "\n",
    "1. **Train on the entire dataset** should never be done to estimate model accuracy on out-of-sample data! After all, training error can be made arbitrarily small or large. You might train on the entire dataset as the very last step when a model is chosen, hoping to make the final model as accurate as possible. Or, you could use this to estimate the degree of overfitting.\n",
    "2. **Train-test-split** is useful if cross-validation is not practical (e.g. it takes too long to train). It is also useful for computing a quick confusion matrix. You could also use this as a final step after the model is finalized (often called evaluating the model against a **validation set**).\n",
    "3. **Cross-validation** is the gold standard for estimating accuracy and comparing accuracy across models.\n",
    "4. **Three-way split** combines cross-validation and the train-test-split. It takes an initial split to be used as a final validation set, then uses cross-validation on the rest."
   ]
  },
  {
   "cell_type": "markdown",
   "metadata": {},
   "source": [
    "We run into a problem when powerful models can perfectly fit the data on which they are trained. These models are **low bias** and **high variance**. However, we can't observe the variance of a model directly, because we only know how it fits the data we have rather than all potential samples.\n",
    "\n",
    "**Solution:** Create a procedure that **estimates** how well a model is likely to perform on out-of-sample data and use that to choose between models.\n",
    "\n",
    "\n",
    "**Note:** These procedures can be used with **any machine learning model**.\n"
   ]
  },
  {
   "cell_type": "markdown",
   "metadata": {
    "collapsed": true
   },
   "source": [
    "**The Holdout Method: Train/Test Split**\n",
    "- **Training set**: Used to train the classifier.\n",
    "- **Testing set**: Used to estimate the error rate of the trained classifier.\n",
    "- **Advantages**: Fast, simple, computationally inexpensive.\n",
    "- **Disadvantages** Eliminates data, imperfectly splits."
   ]
  },
  {
   "cell_type": "markdown",
   "metadata": {
    "collapsed": true
   },
   "source": [
    "<a id=\"evaluation-procedure--train-and-test-on-the-entire-dataset-do-not-do-this\"></a>\n",
    "### Evaluation Procedure #1: Train and Test on the Entire Data Set (Do Not Do This)"
   ]
  },
  {
   "cell_type": "markdown",
   "metadata": {
    "collapsed": true
   },
   "source": [
    "1. Train the model on the **entire data set**.\n",
    "2. Test the model on the **same data set** and evaluate how well we did by comparing the **predicted** response values with the **true** response values."
   ]
  },
  {
   "cell_type": "markdown",
   "metadata": {},
   "source": [
    "#### Load in the Boston data."
   ]
  },
  {
   "cell_type": "code",
   "execution_count": 15,
   "metadata": {},
   "outputs": [],
   "source": [
    "import pandas as pd\n",
    "import numpy as np\n",
    "from sklearn.datasets import load_boston\n",
    "\n",
    "boston = load_boston()"
   ]
  },
  {
   "cell_type": "code",
   "execution_count": 16,
   "metadata": {},
   "outputs": [
    {
     "name": "stdout",
     "output_type": "stream",
     "text": [
      ".. _boston_dataset:\n",
      "\n",
      "Boston house prices dataset\n",
      "---------------------------\n",
      "\n",
      "**Data Set Characteristics:**  \n",
      "\n",
      "    :Number of Instances: 506 \n",
      "\n",
      "    :Number of Attributes: 13 numeric/categorical predictive. Median Value (attribute 14) is usually the target.\n",
      "\n",
      "    :Attribute Information (in order):\n",
      "        - CRIM     per capita crime rate by town\n",
      "        - ZN       proportion of residential land zoned for lots over 25,000 sq.ft.\n",
      "        - INDUS    proportion of non-retail business acres per town\n",
      "        - CHAS     Charles River dummy variable (= 1 if tract bounds river; 0 otherwise)\n",
      "        - NOX      nitric oxides concentration (parts per 10 million)\n",
      "        - RM       average number of rooms per dwelling\n",
      "        - AGE      proportion of owner-occupied units built prior to 1940\n",
      "        - DIS      weighted distances to five Boston employment centres\n",
      "        - RAD      index of accessibility to radial highways\n",
      "        - TAX      full-value property-tax rate per $10,000\n",
      "        - PTRATIO  pupil-teacher ratio by town\n",
      "        - B        1000(Bk - 0.63)^2 where Bk is the proportion of blacks by town\n",
      "        - LSTAT    % lower status of the population\n",
      "        - MEDV     Median value of owner-occupied homes in $1000's\n",
      "\n",
      "    :Missing Attribute Values: None\n",
      "\n",
      "    :Creator: Harrison, D. and Rubinfeld, D.L.\n",
      "\n",
      "This is a copy of UCI ML housing dataset.\n",
      "https://archive.ics.uci.edu/ml/machine-learning-databases/housing/\n",
      "\n",
      "\n",
      "This dataset was taken from the StatLib library which is maintained at Carnegie Mellon University.\n",
      "\n",
      "The Boston house-price data of Harrison, D. and Rubinfeld, D.L. 'Hedonic\n",
      "prices and the demand for clean air', J. Environ. Economics & Management,\n",
      "vol.5, 81-102, 1978.   Used in Belsley, Kuh & Welsch, 'Regression diagnostics\n",
      "...', Wiley, 1980.   N.B. Various transformations are used in the table on\n",
      "pages 244-261 of the latter.\n",
      "\n",
      "The Boston house-price data has been used in many machine learning papers that address regression\n",
      "problems.   \n",
      "     \n",
      ".. topic:: References\n",
      "\n",
      "   - Belsley, Kuh & Welsch, 'Regression diagnostics: Identifying Influential Data and Sources of Collinearity', Wiley, 1980. 244-261.\n",
      "   - Quinlan,R. (1993). Combining Instance-Based and Model-Based Learning. In Proceedings on the Tenth International Conference of Machine Learning, 236-243, University of Massachusetts, Amherst. Morgan Kaufmann.\n",
      "\n"
     ]
    }
   ],
   "source": [
    "print(boston.DESCR)"
   ]
  },
  {
   "cell_type": "markdown",
   "metadata": {},
   "source": [
    "#### Create X and y variable to stores the feature matrix and response from the Boston data."
   ]
  },
  {
   "cell_type": "code",
   "execution_count": 17,
   "metadata": {},
   "outputs": [],
   "source": [
    "# Create a DataFrame for both parts of data; don't forget to assign column names.\n",
    "X = pd.DataFrame(boston.data, columns=boston.feature_names)\n",
    "y = pd.DataFrame(boston.target, columns=['MEDV'])"
   ]
  },
  {
   "cell_type": "markdown",
   "metadata": {},
   "source": [
    "#### Concatenate y and X, then overwrite the Boston variable."
   ]
  },
  {
   "cell_type": "code",
   "execution_count": 18,
   "metadata": {},
   "outputs": [],
   "source": [
    "boston = pd.concat([y, X], axis=1)"
   ]
  },
  {
   "cell_type": "markdown",
   "metadata": {},
   "source": [
    "#### Perform basic EDA to make sure the data are in order."
   ]
  },
  {
   "cell_type": "code",
   "execution_count": 19,
   "metadata": {},
   "outputs": [
    {
     "data": {
      "text/plain": [
       "MEDV       0\n",
       "CRIM       0\n",
       "ZN         0\n",
       "INDUS      0\n",
       "CHAS       0\n",
       "NOX        0\n",
       "RM         0\n",
       "AGE        0\n",
       "DIS        0\n",
       "RAD        0\n",
       "TAX        0\n",
       "PTRATIO    0\n",
       "B          0\n",
       "LSTAT      0\n",
       "dtype: int64"
      ]
     },
     "execution_count": 19,
     "metadata": {},
     "output_type": "execute_result"
    }
   ],
   "source": [
    "boston.isnull().sum()"
   ]
  },
  {
   "cell_type": "code",
   "execution_count": 20,
   "metadata": {},
   "outputs": [
    {
     "data": {
      "text/plain": [
       "MEDV       float64\n",
       "CRIM       float64\n",
       "ZN         float64\n",
       "INDUS      float64\n",
       "CHAS       float64\n",
       "NOX        float64\n",
       "RM         float64\n",
       "AGE        float64\n",
       "DIS        float64\n",
       "RAD        float64\n",
       "TAX        float64\n",
       "PTRATIO    float64\n",
       "B          float64\n",
       "LSTAT      float64\n",
       "dtype: object"
      ]
     },
     "execution_count": 20,
     "metadata": {},
     "output_type": "execute_result"
    }
   ],
   "source": [
    "boston.dtypes"
   ]
  },
  {
   "cell_type": "code",
   "execution_count": 21,
   "metadata": {},
   "outputs": [
    {
     "data": {
      "text/html": [
       "<div>\n",
       "<style scoped>\n",
       "    .dataframe tbody tr th:only-of-type {\n",
       "        vertical-align: middle;\n",
       "    }\n",
       "\n",
       "    .dataframe tbody tr th {\n",
       "        vertical-align: top;\n",
       "    }\n",
       "\n",
       "    .dataframe thead th {\n",
       "        text-align: right;\n",
       "    }\n",
       "</style>\n",
       "<table border=\"1\" class=\"dataframe\">\n",
       "  <thead>\n",
       "    <tr style=\"text-align: right;\">\n",
       "      <th></th>\n",
       "      <th>MEDV</th>\n",
       "      <th>CRIM</th>\n",
       "      <th>ZN</th>\n",
       "      <th>INDUS</th>\n",
       "      <th>CHAS</th>\n",
       "      <th>NOX</th>\n",
       "      <th>RM</th>\n",
       "      <th>AGE</th>\n",
       "      <th>DIS</th>\n",
       "      <th>RAD</th>\n",
       "      <th>TAX</th>\n",
       "      <th>PTRATIO</th>\n",
       "      <th>B</th>\n",
       "      <th>LSTAT</th>\n",
       "    </tr>\n",
       "  </thead>\n",
       "  <tbody>\n",
       "    <tr>\n",
       "      <th>count</th>\n",
       "      <td>506.000000</td>\n",
       "      <td>506.000000</td>\n",
       "      <td>506.000000</td>\n",
       "      <td>506.000000</td>\n",
       "      <td>506.000000</td>\n",
       "      <td>506.000000</td>\n",
       "      <td>506.000000</td>\n",
       "      <td>506.000000</td>\n",
       "      <td>506.000000</td>\n",
       "      <td>506.000000</td>\n",
       "      <td>506.000000</td>\n",
       "      <td>506.000000</td>\n",
       "      <td>506.000000</td>\n",
       "      <td>506.000000</td>\n",
       "    </tr>\n",
       "    <tr>\n",
       "      <th>mean</th>\n",
       "      <td>22.532806</td>\n",
       "      <td>3.613524</td>\n",
       "      <td>11.363636</td>\n",
       "      <td>11.136779</td>\n",
       "      <td>0.069170</td>\n",
       "      <td>0.554695</td>\n",
       "      <td>6.284634</td>\n",
       "      <td>68.574901</td>\n",
       "      <td>3.795043</td>\n",
       "      <td>9.549407</td>\n",
       "      <td>408.237154</td>\n",
       "      <td>18.455534</td>\n",
       "      <td>356.674032</td>\n",
       "      <td>12.653063</td>\n",
       "    </tr>\n",
       "    <tr>\n",
       "      <th>std</th>\n",
       "      <td>9.197104</td>\n",
       "      <td>8.601545</td>\n",
       "      <td>23.322453</td>\n",
       "      <td>6.860353</td>\n",
       "      <td>0.253994</td>\n",
       "      <td>0.115878</td>\n",
       "      <td>0.702617</td>\n",
       "      <td>28.148861</td>\n",
       "      <td>2.105710</td>\n",
       "      <td>8.707259</td>\n",
       "      <td>168.537116</td>\n",
       "      <td>2.164946</td>\n",
       "      <td>91.294864</td>\n",
       "      <td>7.141062</td>\n",
       "    </tr>\n",
       "    <tr>\n",
       "      <th>min</th>\n",
       "      <td>5.000000</td>\n",
       "      <td>0.006320</td>\n",
       "      <td>0.000000</td>\n",
       "      <td>0.460000</td>\n",
       "      <td>0.000000</td>\n",
       "      <td>0.385000</td>\n",
       "      <td>3.561000</td>\n",
       "      <td>2.900000</td>\n",
       "      <td>1.129600</td>\n",
       "      <td>1.000000</td>\n",
       "      <td>187.000000</td>\n",
       "      <td>12.600000</td>\n",
       "      <td>0.320000</td>\n",
       "      <td>1.730000</td>\n",
       "    </tr>\n",
       "    <tr>\n",
       "      <th>25%</th>\n",
       "      <td>17.025000</td>\n",
       "      <td>0.082045</td>\n",
       "      <td>0.000000</td>\n",
       "      <td>5.190000</td>\n",
       "      <td>0.000000</td>\n",
       "      <td>0.449000</td>\n",
       "      <td>5.885500</td>\n",
       "      <td>45.025000</td>\n",
       "      <td>2.100175</td>\n",
       "      <td>4.000000</td>\n",
       "      <td>279.000000</td>\n",
       "      <td>17.400000</td>\n",
       "      <td>375.377500</td>\n",
       "      <td>6.950000</td>\n",
       "    </tr>\n",
       "    <tr>\n",
       "      <th>50%</th>\n",
       "      <td>21.200000</td>\n",
       "      <td>0.256510</td>\n",
       "      <td>0.000000</td>\n",
       "      <td>9.690000</td>\n",
       "      <td>0.000000</td>\n",
       "      <td>0.538000</td>\n",
       "      <td>6.208500</td>\n",
       "      <td>77.500000</td>\n",
       "      <td>3.207450</td>\n",
       "      <td>5.000000</td>\n",
       "      <td>330.000000</td>\n",
       "      <td>19.050000</td>\n",
       "      <td>391.440000</td>\n",
       "      <td>11.360000</td>\n",
       "    </tr>\n",
       "    <tr>\n",
       "      <th>75%</th>\n",
       "      <td>25.000000</td>\n",
       "      <td>3.677083</td>\n",
       "      <td>12.500000</td>\n",
       "      <td>18.100000</td>\n",
       "      <td>0.000000</td>\n",
       "      <td>0.624000</td>\n",
       "      <td>6.623500</td>\n",
       "      <td>94.075000</td>\n",
       "      <td>5.188425</td>\n",
       "      <td>24.000000</td>\n",
       "      <td>666.000000</td>\n",
       "      <td>20.200000</td>\n",
       "      <td>396.225000</td>\n",
       "      <td>16.955000</td>\n",
       "    </tr>\n",
       "    <tr>\n",
       "      <th>max</th>\n",
       "      <td>50.000000</td>\n",
       "      <td>88.976200</td>\n",
       "      <td>100.000000</td>\n",
       "      <td>27.740000</td>\n",
       "      <td>1.000000</td>\n",
       "      <td>0.871000</td>\n",
       "      <td>8.780000</td>\n",
       "      <td>100.000000</td>\n",
       "      <td>12.126500</td>\n",
       "      <td>24.000000</td>\n",
       "      <td>711.000000</td>\n",
       "      <td>22.000000</td>\n",
       "      <td>396.900000</td>\n",
       "      <td>37.970000</td>\n",
       "    </tr>\n",
       "  </tbody>\n",
       "</table>\n",
       "</div>"
      ],
      "text/plain": [
       "             MEDV        CRIM          ZN       INDUS        CHAS         NOX  \\\n",
       "count  506.000000  506.000000  506.000000  506.000000  506.000000  506.000000   \n",
       "mean    22.532806    3.613524   11.363636   11.136779    0.069170    0.554695   \n",
       "std      9.197104    8.601545   23.322453    6.860353    0.253994    0.115878   \n",
       "min      5.000000    0.006320    0.000000    0.460000    0.000000    0.385000   \n",
       "25%     17.025000    0.082045    0.000000    5.190000    0.000000    0.449000   \n",
       "50%     21.200000    0.256510    0.000000    9.690000    0.000000    0.538000   \n",
       "75%     25.000000    3.677083   12.500000   18.100000    0.000000    0.624000   \n",
       "max     50.000000   88.976200  100.000000   27.740000    1.000000    0.871000   \n",
       "\n",
       "               RM         AGE         DIS         RAD         TAX     PTRATIO  \\\n",
       "count  506.000000  506.000000  506.000000  506.000000  506.000000  506.000000   \n",
       "mean     6.284634   68.574901    3.795043    9.549407  408.237154   18.455534   \n",
       "std      0.702617   28.148861    2.105710    8.707259  168.537116    2.164946   \n",
       "min      3.561000    2.900000    1.129600    1.000000  187.000000   12.600000   \n",
       "25%      5.885500   45.025000    2.100175    4.000000  279.000000   17.400000   \n",
       "50%      6.208500   77.500000    3.207450    5.000000  330.000000   19.050000   \n",
       "75%      6.623500   94.075000    5.188425   24.000000  666.000000   20.200000   \n",
       "max      8.780000  100.000000   12.126500   24.000000  711.000000   22.000000   \n",
       "\n",
       "                B       LSTAT  \n",
       "count  506.000000  506.000000  \n",
       "mean   356.674032   12.653063  \n",
       "std     91.294864    7.141062  \n",
       "min      0.320000    1.730000  \n",
       "25%    375.377500    6.950000  \n",
       "50%    391.440000   11.360000  \n",
       "75%    396.225000   16.955000  \n",
       "max    396.900000   37.970000  "
      ]
     },
     "execution_count": 21,
     "metadata": {},
     "output_type": "execute_result"
    }
   ],
   "source": [
    "boston.describe()"
   ]
  },
  {
   "cell_type": "markdown",
   "metadata": {},
   "source": [
    "#### Prepare a feature matrix (X) and response (y)  for scikit-learn."
   ]
  },
  {
   "cell_type": "code",
   "execution_count": 22,
   "metadata": {},
   "outputs": [],
   "source": [
    "# create feature matrix (X)\n",
    "feature_cols = boston.columns.drop(['MEDV'])\n",
    "X = boston[feature_cols]\n",
    "\n",
    "# create response vector (y)\n",
    "y = boston.MEDV"
   ]
  },
  {
   "cell_type": "markdown",
   "metadata": {},
   "source": [
    "#### Import linear regression, instantiate, fit, and preview predictions."
   ]
  },
  {
   "cell_type": "code",
   "execution_count": 23,
   "metadata": {},
   "outputs": [
    {
     "data": {
      "text/plain": [
       "LinearRegression(copy_X=True, fit_intercept=True, n_jobs=None, normalize=False)"
      ]
     },
     "execution_count": 23,
     "metadata": {},
     "output_type": "execute_result"
    }
   ],
   "source": [
    "# Import the class.\n",
    "from sklearn.linear_model import LinearRegression\n",
    "\n",
    "# Instantiate the model.\n",
    "lr = LinearRegression()\n",
    "\n",
    "# Train the model on the entire data set.\n",
    "lr.fit(X, y)"
   ]
  },
  {
   "cell_type": "markdown",
   "metadata": {},
   "source": [
    "#### Store the predicted response values."
   ]
  },
  {
   "cell_type": "code",
   "execution_count": 24,
   "metadata": {},
   "outputs": [],
   "source": [
    "y_pred = lr.predict(X)"
   ]
  },
  {
   "cell_type": "markdown",
   "metadata": {
    "collapsed": true
   },
   "source": [
    "To evaluate a model, we also need an **evaluation metric:**\n",
    "\n",
    "- A numeric calculation used to **quantify** the performance of a model.\n",
    "- The appropriate metric depends on the **goals** of your problem.\n",
    "\n",
    "The most common choices for regression problems are:\n",
    "\n",
    "- **R-squared**: The percentage of variation explained by the model (a \"reward function,\" as higher is better).\n",
    "- **Mean squared error**: The average squared distance between the prediction and the correct answer (a \"loss function,\" as lower is better).\n",
    "\n",
    "In this case, we'll use mean squared error because it is more interpretable in a predictive context."
   ]
  },
  {
   "cell_type": "markdown",
   "metadata": {},
   "source": [
    "#### Compute mean squared error using a function from `metrics`."
   ]
  },
  {
   "cell_type": "code",
   "execution_count": 25,
   "metadata": {},
   "outputs": [
    {
     "name": "stdout",
     "output_type": "stream",
     "text": [
      "R-Squared: 0.7406426641094095\n",
      "MSE: 21.894831181729202\n"
     ]
    }
   ],
   "source": [
    "print('R-Squared: ' + str(lr.score(X,y)))\n",
    "\n",
    "from sklearn import metrics\n",
    "\n",
    "print('MSE: ' + str(metrics.mean_squared_error(y, y_pred)))"
   ]
  },
  {
   "cell_type": "markdown",
   "metadata": {
    "collapsed": true
   },
   "source": [
    "This is known as the **training mean squared error** because we are evaluating the model based on the same data we used to train the model."
   ]
  },
  {
   "cell_type": "markdown",
   "metadata": {},
   "source": [
    "<a id=\"problems-with-training-and-testing-on-the-same-data\"></a>\n",
    "### Problems With Training and Testing on the Same Data\n",
    "\n",
    "- Our goal is to estimate likely performance of a model on **out-of-sample data**.\n",
    "- But, maximizing the training mean squared error rewards **overly complex models** that won't necessarily generalize.\n",
    "- Unnecessarily complex models **overfit** the training data.\n",
    "    - They will do well when tested using the in-sample data.\n",
    "    - They may do poorly with out-of-sample data.\n",
    "    - They learn the \"noise\" in the data rather than the \"signal.\"\n",
    "    - From Quora: [What is an intuitive explanation of overfitting?](http://www.quora.com/What-is-an-intuitive-explanation-of-overfitting/answer/Jessica-Su)\n",
    "\n",
    "**Thus, the training MSE is not a good estimate of the out-of-sample MSE.**"
   ]
  },
  {
   "cell_type": "markdown",
   "metadata": {},
   "source": [
    "<a id=\"evaluation-procedure--traintest-split\"></a>\n",
    "### Evaluation procedure #2: Train/Test Split"
   ]
  },
  {
   "cell_type": "markdown",
   "metadata": {
    "collapsed": true
   },
   "source": [
    "1. Split the data set into two pieces: a **training set** and a **testing set**.\n",
    "2. Train the model on the **training set**.\n",
    "3. Test the model on the **testing set** and evaluate how well we did.\n",
    "\n",
    "Often a good rule-of-thumb is 70% training/30% test, but this can vary based on the size of your dataset. For example, with a small dataset you would need to use as much training data as possible (in return, your test accuracy will be more variable).\n",
    "\n",
    "What does this accomplish?\n",
    "\n",
    "- Models can be trained and tested on **different data** (We treat testing data like out-of-sample data).\n",
    "- Response values are known for the testing set and thus **predictions can be evaluated**.\n",
    "\n",
    "This is known as the **testing mean squared error** because we are evaluating the model on an independent \"test set\" that was not used during model training.\n",
    "\n",
    "**The testing MSE is a better estimate of out-of-sample performance than the training MSE.**"
   ]
  },
  {
   "cell_type": "markdown",
   "metadata": {},
   "source": [
    "## Exercise\n",
    "\n",
    "#### 1) Build a linear regression model for the Boston housing dataset using train_test_split. Initially make the split 70/30 and evaluate the model by calculating the MSE"
   ]
  },
  {
   "cell_type": "code",
   "execution_count": 28,
   "metadata": {},
   "outputs": [],
   "source": [
    "from sklearn.model_selection import train_test_split"
   ]
  },
  {
   "cell_type": "code",
   "execution_count": null,
   "metadata": {},
   "outputs": [],
   "source": [
    "# A:"
   ]
  },
  {
   "cell_type": "markdown",
   "metadata": {},
   "source": [
    "Click here for solution\n",
    "\n",
    "<span style ='color:white'>\n",
    "\n",
    "X_train, X_test, y_train, y_test = train_test_split(X,y,train_size=0.7)\n",
    "\n",
    "lr_tts=LinearRegression().fit(X_train,y_train)\n",
    "\n",
    "y_pred=lr_tts.predict(X_test)\n",
    "\n",
    "print('Test MSE: ' + str(metrics.mean_squared_error(y_pred,y_test)))"
   ]
  },
  {
   "cell_type": "markdown",
   "metadata": {},
   "source": [
    "#### Try changing the `train_size` parameter to see what effect this has on your model"
   ]
  },
  {
   "cell_type": "markdown",
   "metadata": {
    "collapsed": true
   },
   "source": [
    "#### 2) Explore the `random_state` Parameter\n",
    "\n",
    "The `random_state` is a pseudo-random number that allows us to reproduce our results every time we run them. However, it makes it impossible to predict what are exact results will be if we chose a new `random_state`.\n",
    "\n",
    "`random_state` is very useful for testing that your model was made correctly since it provides you with the same split each time. However, **make sure you remove it if you are testing for model variability!**"
   ]
  },
  {
   "cell_type": "code",
   "execution_count": 29,
   "metadata": {},
   "outputs": [
    {
     "name": "stdout",
     "output_type": "stream",
     "text": [
      "        CRIM   ZN  INDUS  CHAS    NOX     RM   AGE     DIS  RAD    TAX  \\\n",
      "340  0.06151  0.0   5.19   0.0  0.515  5.968  58.5  4.8122  5.0  224.0   \n",
      "\n",
      "     PTRATIO      B  LSTAT  \n",
      "340     20.2  396.9   9.29  \n"
     ]
    }
   ],
   "source": [
    "# WITHOUT a random_state parameter:\n",
    "#  (If you run this code several times, you get different results!)\n",
    "X_train, X_test, y_train, y_test = train_test_split(X, y)\n",
    "\n",
    "# Print the first element of each object.\n",
    "print(X_train.head(1))"
   ]
  },
  {
   "cell_type": "code",
   "execution_count": 30,
   "metadata": {},
   "outputs": [
    {
     "name": "stdout",
     "output_type": "stream",
     "text": [
      "        CRIM   ZN  INDUS  CHAS    NOX    RM   AGE     DIS  RAD    TAX  \\\n",
      "502  0.04527  0.0  11.93   0.0  0.573  6.12  76.7  2.2875  1.0  273.0   \n",
      "\n",
      "     PTRATIO      B  LSTAT  \n",
      "502     21.0  396.9   9.08  \n",
      "        CRIM    ZN  INDUS  CHAS    NOX     RM   AGE     DIS  RAD    TAX  \\\n",
      "307  0.04932  33.0   2.18   0.0  0.472  6.849  70.3  3.1827  7.0  222.0   \n",
      "\n",
      "     PTRATIO      B  LSTAT  \n",
      "307     18.4  396.9   7.53  \n",
      "502    20.6\n",
      "Name: MEDV, dtype: float64\n",
      "307    28.2\n",
      "Name: MEDV, dtype: float64\n"
     ]
    }
   ],
   "source": [
    "# WITH a random_state parameter:\n",
    "#  (Same split every time! Note you can change the random state to any integer.)\n",
    "X_train, X_test, y_train, y_test = train_test_split(X, y, random_state=1)\n",
    "\n",
    "# Print the first element of each object.\n",
    "print(X_train.head(1))\n",
    "print(X_test.head(1))\n",
    "print(y_train.head(1))\n",
    "print(y_test.head(1))"
   ]
  },
  {
   "cell_type": "markdown",
   "metadata": {},
   "source": [
    "#### 3) Go back to Step 1 and try adding new variables and transformations. Try using StandardScaler."
   ]
  },
  {
   "cell_type": "markdown",
   "metadata": {},
   "source": [
    "- **Training error**: Decreases as model complexity increases (lower value of k).\n",
    "- **Testing error**: Is minimized at the optimum model complexity."
   ]
  },
  {
   "cell_type": "code",
   "execution_count": null,
   "metadata": {},
   "outputs": [],
   "source": [
    "# A:"
   ]
  },
  {
   "cell_type": "markdown",
   "metadata": {},
   "source": [
    "<a id=\"k-folds-cross-validation\"></a>\n",
    "## Section 3: K-Folds Cross-Validation\n",
    "---"
   ]
  },
  {
   "cell_type": "markdown",
   "metadata": {
    "collapsed": true
   },
   "source": [
    "Train/test split provides us with helpful tool, but it's a shame that we are tossing out a large chunk of our data for testing purposes.\n",
    "\n",
    "**How can we use the maximum amount of our data points while still ensuring model integrity?**\n",
    "\n",
    "1. Split our data into a number of different pieces (folds).\n",
    "2. Train using `k-1` folds for training and a different fold for testing.\n",
    "3. Average our model against EACH of those iterations.\n",
    "4. Choose our model and TEST it against the final fold.\n",
    "5. Average all test accuracies to get the estimated out-of-sample accuracy.\n",
    "\n",
    "Although this may sound complicated, we are just training the model on k separate train-test-splits, then taking the average of the resulting test accuracies!"
   ]
  },
  {
   "cell_type": "markdown",
   "metadata": {},
   "source": [
    "![](./assets/cross_validation_diagram.png)"
   ]
  },
  {
   "cell_type": "markdown",
   "metadata": {},
   "source": [
    "<a id=\"intro-to-cross-validation-with-the-boston-data\"></a>\n",
    "### Exercise: Cross-Validation With the Boston Data"
   ]
  },
  {
   "cell_type": "markdown",
   "metadata": {},
   "source": [
    "#### 1) Run the code below for a demonstration of how cross validation works"
   ]
  },
  {
   "cell_type": "code",
   "execution_count": 32,
   "metadata": {},
   "outputs": [
    {
     "name": "stdout",
     "output_type": "stream",
     "text": [
      "~~~~ CROSS VALIDATION each fold ~~~~\n",
      "Model 1\n",
      "MSE: 26.794196892457688\n",
      "R2: 0.73548105226294\n",
      "\n",
      "Model 2\n",
      "MSE: 25.1809332432185\n",
      "R2: 0.7393228956433233\n",
      "\n",
      "Model 3\n",
      "MSE: 19.170156694199896\n",
      "R2: 0.7366976523259148\n",
      "\n",
      "Model 4\n",
      "MSE: 25.94030273134489\n",
      "R2: 0.7395371462992024\n",
      "\n",
      "Model 5\n",
      "MSE: 22.083814416326618\n",
      "R2: 0.7388385189411304\n",
      "\n",
      "~~~~ SUMMARY OF CROSS VALIDATION ~~~~\n",
      "Mean of MSE for all folds: 23.83388079550952\n",
      "Mean of R2 for all folds: 0.7379754530945022\n"
     ]
    }
   ],
   "source": [
    "from sklearn import model_selection\n",
    "kf = model_selection.KFold(n_splits=5, shuffle=True)\n",
    "\n",
    "mse_values = []\n",
    "scores = []\n",
    "n = 0\n",
    "\n",
    "print(\"~~~~ CROSS VALIDATION each fold ~~~~\")\n",
    "for train_index, test_index in kf.split(X, y):\n",
    "    lr = LinearRegression().fit(X.iloc[train_index], y.iloc[train_index])\n",
    "    \n",
    "    mse_values.append(metrics.mean_squared_error(y.iloc[test_index], lr.predict(X.iloc[test_index])))\n",
    "    scores.append(lr.score(X, y))\n",
    "    \n",
    "    n += 1\n",
    "    \n",
    "    print('Model {}'.format(n))\n",
    "    print('MSE: {}'.format(mse_values[n-1]))\n",
    "    print('R2: {}\\n'.format(scores[n-1]))\n",
    "\n",
    "\n",
    "print(\"~~~~ SUMMARY OF CROSS VALIDATION ~~~~\")\n",
    "print('Mean of MSE for all folds: {}'.format(np.mean(mse_values)))\n",
    "print('Mean of R2 for all folds: {}'.format(np.mean(scores)))"
   ]
  },
  {
   "cell_type": "markdown",
   "metadata": {},
   "source": [
    "#### 2) Create a cross-validation with five folds and return the score for each model, and the average score"
   ]
  },
  {
   "cell_type": "code",
   "execution_count": null,
   "metadata": {},
   "outputs": [],
   "source": [
    "from sklearn.model_selection import cross_val_score, KFold"
   ]
  },
  {
   "cell_type": "code",
   "execution_count": null,
   "metadata": {},
   "outputs": [],
   "source": [
    "# A:"
   ]
  },
  {
   "cell_type": "markdown",
   "metadata": {},
   "source": [
    "Click here for solution\n",
    "\n",
    "<span style ='color:white'>\n",
    "\n",
    "lr=LinearRegression()\n",
    "print(cross_val_score(lr,X,y))\n",
    "print(cross_val_score(lr,X,y).mean())"
   ]
  },
  {
   "cell_type": "markdown",
   "metadata": {},
   "source": [
    "#### Extend: Write a loop that cycles through 2 to 10 folds, calculating the average score for each. Which number of folds produces the best average score?"
   ]
  },
  {
   "cell_type": "code",
   "execution_count": null,
   "metadata": {},
   "outputs": [],
   "source": [
    "# A:"
   ]
  },
  {
   "cell_type": "markdown",
   "metadata": {},
   "source": [
    "Click here for solution\n",
    "\n",
    "<span style ='color:white'>\n",
    "\n",
    "for n in range(2,11):\n",
    "    kf=KFold(n_splits=n,shuffle=True)\n",
    "    print(str(n) + ' folds average score: ' + str(cross_val_score(lr,X,y,cv=kf).mean()))"
   ]
  },
  {
   "cell_type": "markdown",
   "metadata": {},
   "source": [
    "While the cross-validated approach here generated more overall error, which of the two approaches would predict new data more accurately — the single model or the cross-validated, averaged one? Why?\n",
    "\n"
   ]
  },
  {
   "cell_type": "code",
   "execution_count": null,
   "metadata": {},
   "outputs": [],
   "source": [
    "# A:"
   ]
  },
  {
   "cell_type": "markdown",
   "metadata": {},
   "source": [
    "<a id=\"three-way-data-split\"></a>\n",
    "## Section 4: Three-Way Data Split\n",
    "---\n",
    "\n",
    "The most common workflow is actually a combination of train/test split and cross-validation. We take a train/test split on our data right away and try not spend a lot of time using the testing data set. Instead, we take our training data and tune our models using cross-validation. When we think we are done, we do one last test on the testing data to make sure we haven't accidently overfit to our training data.\n",
    "\n",
    "**If you tune hyperparameters via cross-validation, you should never use cross-validation on the same dataset to estimate OOS accuracy!** Using cross-validation in this way, the entire dataset was used to tune hyperparameters. So, this invalidates our condition above -- where we assumed the test set is a pretend \"out-of-sample\" dataset that was not used to train our model! So, we would expect the accuracy on this test set to be artificially inflated as compared to actual \"out-of-sample\" data.\n",
    "\n",
    "Even with good evaluation procedures, it is incredible easy to overfit our models by including features that will not be available during production or leak information about our testing data in other ways."
   ]
  },
  {
   "cell_type": "markdown",
   "metadata": {},
   "source": [
    "![](./assets/Train-Test-Split-CV.png)"
   ]
  },
  {
   "cell_type": "markdown",
   "metadata": {
    "collapsed": true
   },
   "source": [
    "- If model selection and true error estimates are to be computed simultaneously, three disjointed data sets are best.\n",
    "    - **Training set**: A set of examples used for learning – what parameters of the classifier?\n",
    "    - **Validation set**: A set of examples used to tune the parameters of the classifier.\n",
    "    - **Testing set**: A set of examples used ONLY to assess the performance of the fully trained classifier.\n",
    "- Validation and testing must be separate data sets. Once you have the final model set, you cannot do any additional tuning after testing."
   ]
  },
  {
   "cell_type": "markdown",
   "metadata": {},
   "source": [
    "### Exploring RidgeCV\n",
    "\n",
    "Run the code below to see how we can do a three-way split"
   ]
  },
  {
   "cell_type": "code",
   "execution_count": 33,
   "metadata": {},
   "outputs": [],
   "source": [
    "from sklearn.linear_model import RidgeCV"
   ]
  },
  {
   "cell_type": "code",
   "execution_count": 34,
   "metadata": {},
   "outputs": [],
   "source": [
    "# Create our train/test split as usual\n",
    "X_train, X_test, y_train, y_test=train_test_split(X,y,train_size=0.7)"
   ]
  },
  {
   "cell_type": "code",
   "execution_count": 35,
   "metadata": {},
   "outputs": [],
   "source": [
    "# Build our estimator and define what levels of alpha we want it to test when tuning, with 5 cross-folds\n",
    "ridge=RidgeCV(alphas=[0.1,1.0,10.0],cv=5)"
   ]
  },
  {
   "cell_type": "code",
   "execution_count": 36,
   "metadata": {},
   "outputs": [
    {
     "data": {
      "text/plain": [
       "RidgeCV(alphas=array([ 0.1,  1. , 10. ]), cv=5, fit_intercept=True,\n",
       "        gcv_mode=None, normalize=False, scoring=None, store_cv_values=False)"
      ]
     },
     "execution_count": 36,
     "metadata": {},
     "output_type": "execute_result"
    }
   ],
   "source": [
    "# Fit our training data\n",
    "ridge.fit(X_train,y_train)"
   ]
  },
  {
   "cell_type": "code",
   "execution_count": 37,
   "metadata": {},
   "outputs": [
    {
     "data": {
      "text/plain": [
       "0.6738969294308764"
      ]
     },
     "execution_count": 37,
     "metadata": {},
     "output_type": "execute_result"
    }
   ],
   "source": [
    "# Test our tuned model with our held back testing set\n",
    "ridge.score(X_test,y_test)"
   ]
  },
  {
   "cell_type": "code",
   "execution_count": 38,
   "metadata": {},
   "outputs": [
    {
     "data": {
      "text/plain": [
       "0.1"
      ]
     },
     "execution_count": 38,
     "metadata": {},
     "output_type": "execute_result"
    }
   ],
   "source": [
    "# What alpha did the estimator decide on?\n",
    "ridge.alpha_"
   ]
  },
  {
   "cell_type": "markdown",
   "metadata": {},
   "source": [
    "### Exploring LassoCV\n",
    "\n",
    "Run the code below to see how we can do a three-way split with Lasso"
   ]
  },
  {
   "cell_type": "code",
   "execution_count": 39,
   "metadata": {},
   "outputs": [],
   "source": [
    "from sklearn.linear_model import LassoCV"
   ]
  },
  {
   "cell_type": "code",
   "execution_count": 40,
   "metadata": {},
   "outputs": [],
   "source": [
    "# Create our train/test split as usual\n",
    "X_train, X_test, y_train, y_test=train_test_split(X,y,train_size=0.7)"
   ]
  },
  {
   "cell_type": "code",
   "execution_count": 41,
   "metadata": {},
   "outputs": [],
   "source": [
    "# Build estimator with various alphas and fit training data for cross validation\n",
    "lasso=LassoCV(alphas=[0.1,0.5,1.0],cv=5).fit(X_train,y_train)"
   ]
  },
  {
   "cell_type": "code",
   "execution_count": 42,
   "metadata": {},
   "outputs": [
    {
     "data": {
      "text/plain": [
       "0.7431364601147743"
      ]
     },
     "execution_count": 42,
     "metadata": {},
     "output_type": "execute_result"
    }
   ],
   "source": [
    "# Test estimator with held back data\n",
    "lasso.score(X_test,y_test)"
   ]
  },
  {
   "cell_type": "code",
   "execution_count": 43,
   "metadata": {},
   "outputs": [
    {
     "data": {
      "text/plain": [
       "0.1"
      ]
     },
     "execution_count": 43,
     "metadata": {},
     "output_type": "execute_result"
    }
   ],
   "source": [
    "# Which alpha was best?\n",
    "lasso.alpha_"
   ]
  },
  {
   "cell_type": "markdown",
   "metadata": {},
   "source": [
    "### Extension: Exploring GridSearchCV\n",
    "\n",
    "Gridsearch is a power cross validation tool that allows us to tune multiple hyper-parameters. Note, that this can sometimes take a long time to run, depending on the complexity of the model. This can be used for any estimator.\n",
    "\n",
    "Run the code below to see how it works"
   ]
  },
  {
   "cell_type": "code",
   "execution_count": 44,
   "metadata": {},
   "outputs": [],
   "source": [
    "from sklearn.model_selection import GridSearchCV"
   ]
  },
  {
   "cell_type": "markdown",
   "metadata": {},
   "source": [
    "To use gridsearch we need to define what estimator we are using and create a dictionary of the hyper-parameters we would like to tune, including what values they are being tuned to. The following example shows how we can fine tune the LassoCV estimator if we wanted to try different values for `max_iter`."
   ]
  },
  {
   "cell_type": "code",
   "execution_count": 45,
   "metadata": {},
   "outputs": [],
   "source": [
    "# Define the estimator we would like to use\n",
    "estimator=LassoCV()\n",
    "# Create dictionary of hyper-parameters we would like to tune\n",
    "params={'max_iter':[10,100,1000]}"
   ]
  },
  {
   "cell_type": "code",
   "execution_count": 46,
   "metadata": {},
   "outputs": [],
   "source": [
    "# Build the GridSearchCV cross validation with estimator and parameters to be tuned, define number of crossfolds\n",
    "grid=GridSearchCV(estimator,params,cv=5)"
   ]
  },
  {
   "cell_type": "code",
   "execution_count": 47,
   "metadata": {},
   "outputs": [
    {
     "name": "stderr",
     "output_type": "stream",
     "text": [
      "C:\\Users\\Alastair Tyson\\anaconda3\\lib\\site-packages\\sklearn\\linear_model\\_coordinate_descent.py:472: ConvergenceWarning: Objective did not converge. You might want to increase the number of iterations. Duality gap: 8.858601460315185, tolerance: 2.049291610619469\n",
      "  tol, rng, random, positive)\n",
      "C:\\Users\\Alastair Tyson\\anaconda3\\lib\\site-packages\\sklearn\\linear_model\\_coordinate_descent.py:472: ConvergenceWarning: Objective did not converge. You might want to increase the number of iterations. Duality gap: 10.15774594090908, tolerance: 2.049291610619469\n",
      "  tol, rng, random, positive)\n",
      "C:\\Users\\Alastair Tyson\\anaconda3\\lib\\site-packages\\sklearn\\linear_model\\_coordinate_descent.py:472: ConvergenceWarning: Objective did not converge. You might want to increase the number of iterations. Duality gap: 9.957459992752774, tolerance: 2.049291610619469\n",
      "  tol, rng, random, positive)\n",
      "C:\\Users\\Alastair Tyson\\anaconda3\\lib\\site-packages\\sklearn\\linear_model\\_coordinate_descent.py:472: ConvergenceWarning: Objective did not converge. You might want to increase the number of iterations. Duality gap: 9.510676901274564, tolerance: 2.049291610619469\n",
      "  tol, rng, random, positive)\n",
      "C:\\Users\\Alastair Tyson\\anaconda3\\lib\\site-packages\\sklearn\\linear_model\\_coordinate_descent.py:472: ConvergenceWarning: Objective did not converge. You might want to increase the number of iterations. Duality gap: 9.032864370661628, tolerance: 2.049291610619469\n",
      "  tol, rng, random, positive)\n",
      "C:\\Users\\Alastair Tyson\\anaconda3\\lib\\site-packages\\sklearn\\linear_model\\_coordinate_descent.py:472: ConvergenceWarning: Objective did not converge. You might want to increase the number of iterations. Duality gap: 8.376316666573985, tolerance: 2.049291610619469\n",
      "  tol, rng, random, positive)\n",
      "C:\\Users\\Alastair Tyson\\anaconda3\\lib\\site-packages\\sklearn\\linear_model\\_coordinate_descent.py:472: ConvergenceWarning: Objective did not converge. You might want to increase the number of iterations. Duality gap: 8.029566081797384, tolerance: 2.049291610619469\n",
      "  tol, rng, random, positive)\n",
      "C:\\Users\\Alastair Tyson\\anaconda3\\lib\\site-packages\\sklearn\\linear_model\\_coordinate_descent.py:472: ConvergenceWarning: Objective did not converge. You might want to increase the number of iterations. Duality gap: 7.708039032329907, tolerance: 2.049291610619469\n",
      "  tol, rng, random, positive)\n",
      "C:\\Users\\Alastair Tyson\\anaconda3\\lib\\site-packages\\sklearn\\linear_model\\_coordinate_descent.py:472: ConvergenceWarning: Objective did not converge. You might want to increase the number of iterations. Duality gap: 7.356617138563706, tolerance: 2.049291610619469\n",
      "  tol, rng, random, positive)\n",
      "C:\\Users\\Alastair Tyson\\anaconda3\\lib\\site-packages\\sklearn\\linear_model\\_coordinate_descent.py:472: ConvergenceWarning: Objective did not converge. You might want to increase the number of iterations. Duality gap: 7.249386807406154, tolerance: 2.049291610619469\n",
      "  tol, rng, random, positive)\n",
      "C:\\Users\\Alastair Tyson\\anaconda3\\lib\\site-packages\\sklearn\\linear_model\\_coordinate_descent.py:472: ConvergenceWarning: Objective did not converge. You might want to increase the number of iterations. Duality gap: 7.11678389174358, tolerance: 2.049291610619469\n",
      "  tol, rng, random, positive)\n",
      "C:\\Users\\Alastair Tyson\\anaconda3\\lib\\site-packages\\sklearn\\linear_model\\_coordinate_descent.py:472: ConvergenceWarning: Objective did not converge. You might want to increase the number of iterations. Duality gap: 6.954144761978569, tolerance: 2.049291610619469\n",
      "  tol, rng, random, positive)\n",
      "C:\\Users\\Alastair Tyson\\anaconda3\\lib\\site-packages\\sklearn\\linear_model\\_coordinate_descent.py:472: ConvergenceWarning: Objective did not converge. You might want to increase the number of iterations. Duality gap: 12.838044408177666, tolerance: 2.049291610619469\n",
      "  tol, rng, random, positive)\n",
      "C:\\Users\\Alastair Tyson\\anaconda3\\lib\\site-packages\\sklearn\\linear_model\\_coordinate_descent.py:472: ConvergenceWarning: Objective did not converge. You might want to increase the number of iterations. Duality gap: 17.157152816138478, tolerance: 2.049291610619469\n",
      "  tol, rng, random, positive)\n",
      "C:\\Users\\Alastair Tyson\\anaconda3\\lib\\site-packages\\sklearn\\linear_model\\_coordinate_descent.py:472: ConvergenceWarning: Objective did not converge. You might want to increase the number of iterations. Duality gap: 53.317857023808756, tolerance: 2.049291610619469\n",
      "  tol, rng, random, positive)\n",
      "C:\\Users\\Alastair Tyson\\anaconda3\\lib\\site-packages\\sklearn\\linear_model\\_coordinate_descent.py:472: ConvergenceWarning: Objective did not converge. You might want to increase the number of iterations. Duality gap: 65.01607849256834, tolerance: 2.049291610619469\n",
      "  tol, rng, random, positive)\n",
      "C:\\Users\\Alastair Tyson\\anaconda3\\lib\\site-packages\\sklearn\\linear_model\\_coordinate_descent.py:472: ConvergenceWarning: Objective did not converge. You might want to increase the number of iterations. Duality gap: 72.30133818091053, tolerance: 2.049291610619469\n",
      "  tol, rng, random, positive)\n",
      "C:\\Users\\Alastair Tyson\\anaconda3\\lib\\site-packages\\sklearn\\linear_model\\_coordinate_descent.py:472: ConvergenceWarning: Objective did not converge. You might want to increase the number of iterations. Duality gap: 75.49094747519484, tolerance: 2.049291610619469\n",
      "  tol, rng, random, positive)\n",
      "C:\\Users\\Alastair Tyson\\anaconda3\\lib\\site-packages\\sklearn\\linear_model\\_coordinate_descent.py:472: ConvergenceWarning: Objective did not converge. You might want to increase the number of iterations. Duality gap: 76.9569739922299, tolerance: 2.049291610619469\n",
      "  tol, rng, random, positive)\n",
      "C:\\Users\\Alastair Tyson\\anaconda3\\lib\\site-packages\\sklearn\\linear_model\\_coordinate_descent.py:472: ConvergenceWarning: Objective did not converge. You might want to increase the number of iterations. Duality gap: 77.46078041884903, tolerance: 2.049291610619469\n",
      "  tol, rng, random, positive)\n",
      "C:\\Users\\Alastair Tyson\\anaconda3\\lib\\site-packages\\sklearn\\linear_model\\_coordinate_descent.py:472: ConvergenceWarning: Objective did not converge. You might want to increase the number of iterations. Duality gap: 77.26432870946883, tolerance: 2.049291610619469\n",
      "  tol, rng, random, positive)\n",
      "C:\\Users\\Alastair Tyson\\anaconda3\\lib\\site-packages\\sklearn\\linear_model\\_coordinate_descent.py:472: ConvergenceWarning: Objective did not converge. You might want to increase the number of iterations. Duality gap: 76.51873305382833, tolerance: 2.049291610619469\n",
      "  tol, rng, random, positive)\n",
      "C:\\Users\\Alastair Tyson\\anaconda3\\lib\\site-packages\\sklearn\\linear_model\\_coordinate_descent.py:472: ConvergenceWarning: Objective did not converge. You might want to increase the number of iterations. Duality gap: 75.33765031895018, tolerance: 2.049291610619469\n",
      "  tol, rng, random, positive)\n",
      "C:\\Users\\Alastair Tyson\\anaconda3\\lib\\site-packages\\sklearn\\linear_model\\_coordinate_descent.py:472: ConvergenceWarning: Objective did not converge. You might want to increase the number of iterations. Duality gap: 7.480558986851975, tolerance: 2.049291610619469\n",
      "  tol, rng, random, positive)\n",
      "C:\\Users\\Alastair Tyson\\anaconda3\\lib\\site-packages\\sklearn\\linear_model\\_coordinate_descent.py:472: ConvergenceWarning: Objective did not converge. You might want to increase the number of iterations. Duality gap: 4.037381487969469, tolerance: 2.049291610619469\n",
      "  tol, rng, random, positive)\n",
      "C:\\Users\\Alastair Tyson\\anaconda3\\lib\\site-packages\\sklearn\\linear_model\\_coordinate_descent.py:472: ConvergenceWarning: Objective did not converge. You might want to increase the number of iterations. Duality gap: 3.0772607007984334, tolerance: 1.7097984955752215\n",
      "  tol, rng, random, positive)\n",
      "C:\\Users\\Alastair Tyson\\anaconda3\\lib\\site-packages\\sklearn\\linear_model\\_coordinate_descent.py:472: ConvergenceWarning: Objective did not converge. You might want to increase the number of iterations. Duality gap: 3.2730251276570925, tolerance: 1.7097984955752215\n",
      "  tol, rng, random, positive)\n",
      "C:\\Users\\Alastair Tyson\\anaconda3\\lib\\site-packages\\sklearn\\linear_model\\_coordinate_descent.py:472: ConvergenceWarning: Objective did not converge. You might want to increase the number of iterations. Duality gap: 3.12921689434188, tolerance: 1.7097984955752215\n",
      "  tol, rng, random, positive)\n",
      "C:\\Users\\Alastair Tyson\\anaconda3\\lib\\site-packages\\sklearn\\linear_model\\_coordinate_descent.py:472: ConvergenceWarning: Objective did not converge. You might want to increase the number of iterations. Duality gap: 2.959058743195783, tolerance: 1.7097984955752215\n",
      "  tol, rng, random, positive)\n",
      "C:\\Users\\Alastair Tyson\\anaconda3\\lib\\site-packages\\sklearn\\linear_model\\_coordinate_descent.py:472: ConvergenceWarning: Objective did not converge. You might want to increase the number of iterations. Duality gap: 3.001882565804408, tolerance: 1.7097984955752215\n",
      "  tol, rng, random, positive)\n",
      "C:\\Users\\Alastair Tyson\\anaconda3\\lib\\site-packages\\sklearn\\linear_model\\_coordinate_descent.py:472: ConvergenceWarning: Objective did not converge. You might want to increase the number of iterations. Duality gap: 3.340435062405959, tolerance: 1.7097984955752215\n",
      "  tol, rng, random, positive)\n",
      "C:\\Users\\Alastair Tyson\\anaconda3\\lib\\site-packages\\sklearn\\linear_model\\_coordinate_descent.py:472: ConvergenceWarning: Objective did not converge. You might want to increase the number of iterations. Duality gap: 3.224264765333828, tolerance: 1.7097984955752215\n",
      "  tol, rng, random, positive)\n",
      "C:\\Users\\Alastair Tyson\\anaconda3\\lib\\site-packages\\sklearn\\linear_model\\_coordinate_descent.py:472: ConvergenceWarning: Objective did not converge. You might want to increase the number of iterations. Duality gap: 3.064783484041982, tolerance: 1.7097984955752215\n",
      "  tol, rng, random, positive)\n",
      "C:\\Users\\Alastair Tyson\\anaconda3\\lib\\site-packages\\sklearn\\linear_model\\_coordinate_descent.py:472: ConvergenceWarning: Objective did not converge. You might want to increase the number of iterations. Duality gap: 2.9059246756660286, tolerance: 1.7097984955752215\n",
      "  tol, rng, random, positive)\n",
      "C:\\Users\\Alastair Tyson\\anaconda3\\lib\\site-packages\\sklearn\\linear_model\\_coordinate_descent.py:472: ConvergenceWarning: Objective did not converge. You might want to increase the number of iterations. Duality gap: 6.342904806435399, tolerance: 1.7097984955752215\n",
      "  tol, rng, random, positive)\n",
      "C:\\Users\\Alastair Tyson\\anaconda3\\lib\\site-packages\\sklearn\\linear_model\\_coordinate_descent.py:472: ConvergenceWarning: Objective did not converge. You might want to increase the number of iterations. Duality gap: 10.309115234318597, tolerance: 1.7097984955752215\n",
      "  tol, rng, random, positive)\n",
      "C:\\Users\\Alastair Tyson\\anaconda3\\lib\\site-packages\\sklearn\\linear_model\\_coordinate_descent.py:472: ConvergenceWarning: Objective did not converge. You might want to increase the number of iterations. Duality gap: 10.58432168505351, tolerance: 1.7097984955752215\n",
      "  tol, rng, random, positive)\n",
      "C:\\Users\\Alastair Tyson\\anaconda3\\lib\\site-packages\\sklearn\\linear_model\\_coordinate_descent.py:472: ConvergenceWarning: Objective did not converge. You might want to increase the number of iterations. Duality gap: 10.5027326185118, tolerance: 1.7097984955752215\n",
      "  tol, rng, random, positive)\n",
      "C:\\Users\\Alastair Tyson\\anaconda3\\lib\\site-packages\\sklearn\\linear_model\\_coordinate_descent.py:472: ConvergenceWarning: Objective did not converge. You might want to increase the number of iterations. Duality gap: 25.89690191725458, tolerance: 1.7097984955752215\n",
      "  tol, rng, random, positive)\n",
      "C:\\Users\\Alastair Tyson\\anaconda3\\lib\\site-packages\\sklearn\\linear_model\\_coordinate_descent.py:472: ConvergenceWarning: Objective did not converge. You might want to increase the number of iterations. Duality gap: 129.80706582199218, tolerance: 1.7097984955752215\n",
      "  tol, rng, random, positive)\n",
      "C:\\Users\\Alastair Tyson\\anaconda3\\lib\\site-packages\\sklearn\\linear_model\\_coordinate_descent.py:472: ConvergenceWarning: Objective did not converge. You might want to increase the number of iterations. Duality gap: 147.7303265118153, tolerance: 1.7097984955752215\n",
      "  tol, rng, random, positive)\n",
      "C:\\Users\\Alastair Tyson\\anaconda3\\lib\\site-packages\\sklearn\\linear_model\\_coordinate_descent.py:472: ConvergenceWarning: Objective did not converge. You might want to increase the number of iterations. Duality gap: 204.1491550825467, tolerance: 1.7097984955752215\n",
      "  tol, rng, random, positive)\n",
      "C:\\Users\\Alastair Tyson\\anaconda3\\lib\\site-packages\\sklearn\\linear_model\\_coordinate_descent.py:472: ConvergenceWarning: Objective did not converge. You might want to increase the number of iterations. Duality gap: 52.090351401366206, tolerance: 1.7097984955752215\n",
      "  tol, rng, random, positive)\n",
      "C:\\Users\\Alastair Tyson\\anaconda3\\lib\\site-packages\\sklearn\\linear_model\\_coordinate_descent.py:472: ConvergenceWarning: Objective did not converge. You might want to increase the number of iterations. Duality gap: 11.51553867799521, tolerance: 1.7097984955752215\n",
      "  tol, rng, random, positive)\n",
      "C:\\Users\\Alastair Tyson\\anaconda3\\lib\\site-packages\\sklearn\\linear_model\\_coordinate_descent.py:472: ConvergenceWarning: Objective did not converge. You might want to increase the number of iterations. Duality gap: 12.272239038523367, tolerance: 1.7097984955752215\n",
      "  tol, rng, random, positive)\n",
      "C:\\Users\\Alastair Tyson\\anaconda3\\lib\\site-packages\\sklearn\\linear_model\\_coordinate_descent.py:472: ConvergenceWarning: Objective did not converge. You might want to increase the number of iterations. Duality gap: 50.929311615129336, tolerance: 1.7097984955752215\n",
      "  tol, rng, random, positive)\n",
      "C:\\Users\\Alastair Tyson\\anaconda3\\lib\\site-packages\\sklearn\\linear_model\\_coordinate_descent.py:472: ConvergenceWarning: Objective did not converge. You might want to increase the number of iterations. Duality gap: 154.37312916612245, tolerance: 1.7097984955752215\n",
      "  tol, rng, random, positive)\n",
      "C:\\Users\\Alastair Tyson\\anaconda3\\lib\\site-packages\\sklearn\\linear_model\\_coordinate_descent.py:472: ConvergenceWarning: Objective did not converge. You might want to increase the number of iterations. Duality gap: 167.2281834412197, tolerance: 1.7097984955752215\n",
      "  tol, rng, random, positive)\n",
      "C:\\Users\\Alastair Tyson\\anaconda3\\lib\\site-packages\\sklearn\\linear_model\\_coordinate_descent.py:472: ConvergenceWarning: Objective did not converge. You might want to increase the number of iterations. Duality gap: 163.59492098805367, tolerance: 1.7097984955752215\n",
      "  tol, rng, random, positive)\n",
      "C:\\Users\\Alastair Tyson\\anaconda3\\lib\\site-packages\\sklearn\\linear_model\\_coordinate_descent.py:472: ConvergenceWarning: Objective did not converge. You might want to increase the number of iterations. Duality gap: 161.21043367624316, tolerance: 1.7097984955752215\n",
      "  tol, rng, random, positive)\n",
      "C:\\Users\\Alastair Tyson\\anaconda3\\lib\\site-packages\\sklearn\\linear_model\\_coordinate_descent.py:472: ConvergenceWarning: Objective did not converge. You might want to increase the number of iterations. Duality gap: 158.25645945649921, tolerance: 1.7097984955752215\n",
      "  tol, rng, random, positive)\n",
      "C:\\Users\\Alastair Tyson\\anaconda3\\lib\\site-packages\\sklearn\\linear_model\\_coordinate_descent.py:472: ConvergenceWarning: Objective did not converge. You might want to increase the number of iterations. Duality gap: 3.2533783932249207, tolerance: 1.9645035973451326\n",
      "  tol, rng, random, positive)\n",
      "C:\\Users\\Alastair Tyson\\anaconda3\\lib\\site-packages\\sklearn\\linear_model\\_coordinate_descent.py:472: ConvergenceWarning: Objective did not converge. You might want to increase the number of iterations. Duality gap: 6.371869150721977, tolerance: 1.9645035973451326\n",
      "  tol, rng, random, positive)\n",
      "C:\\Users\\Alastair Tyson\\anaconda3\\lib\\site-packages\\sklearn\\linear_model\\_coordinate_descent.py:472: ConvergenceWarning: Objective did not converge. You might want to increase the number of iterations. Duality gap: 4.737020469077834, tolerance: 1.9645035973451326\n",
      "  tol, rng, random, positive)\n",
      "C:\\Users\\Alastair Tyson\\anaconda3\\lib\\site-packages\\sklearn\\linear_model\\_coordinate_descent.py:472: ConvergenceWarning: Objective did not converge. You might want to increase the number of iterations. Duality gap: 3.9362513328687783, tolerance: 1.9645035973451326\n",
      "  tol, rng, random, positive)\n",
      "C:\\Users\\Alastair Tyson\\anaconda3\\lib\\site-packages\\sklearn\\linear_model\\_coordinate_descent.py:472: ConvergenceWarning: Objective did not converge. You might want to increase the number of iterations. Duality gap: 8.849120634240535, tolerance: 1.9645035973451326\n",
      "  tol, rng, random, positive)\n",
      "C:\\Users\\Alastair Tyson\\anaconda3\\lib\\site-packages\\sklearn\\linear_model\\_coordinate_descent.py:472: ConvergenceWarning: Objective did not converge. You might want to increase the number of iterations. Duality gap: 8.477318367448788, tolerance: 1.9645035973451326\n",
      "  tol, rng, random, positive)\n",
      "C:\\Users\\Alastair Tyson\\anaconda3\\lib\\site-packages\\sklearn\\linear_model\\_coordinate_descent.py:472: ConvergenceWarning: Objective did not converge. You might want to increase the number of iterations. Duality gap: 8.562937766990217, tolerance: 1.9645035973451326\n",
      "  tol, rng, random, positive)\n",
      "C:\\Users\\Alastair Tyson\\anaconda3\\lib\\site-packages\\sklearn\\linear_model\\_coordinate_descent.py:472: ConvergenceWarning: Objective did not converge. You might want to increase the number of iterations. Duality gap: 12.174340129922712, tolerance: 1.9645035973451326\n",
      "  tol, rng, random, positive)\n",
      "C:\\Users\\Alastair Tyson\\anaconda3\\lib\\site-packages\\sklearn\\linear_model\\_coordinate_descent.py:472: ConvergenceWarning: Objective did not converge. You might want to increase the number of iterations. Duality gap: 13.450852384226891, tolerance: 1.9645035973451326\n",
      "  tol, rng, random, positive)\n",
      "C:\\Users\\Alastair Tyson\\anaconda3\\lib\\site-packages\\sklearn\\linear_model\\_coordinate_descent.py:472: ConvergenceWarning: Objective did not converge. You might want to increase the number of iterations. Duality gap: 13.733224281493676, tolerance: 1.9645035973451326\n",
      "  tol, rng, random, positive)\n",
      "C:\\Users\\Alastair Tyson\\anaconda3\\lib\\site-packages\\sklearn\\linear_model\\_coordinate_descent.py:472: ConvergenceWarning: Objective did not converge. You might want to increase the number of iterations. Duality gap: 13.816262276444832, tolerance: 1.9645035973451326\n",
      "  tol, rng, random, positive)\n",
      "C:\\Users\\Alastair Tyson\\anaconda3\\lib\\site-packages\\sklearn\\linear_model\\_coordinate_descent.py:472: ConvergenceWarning: Objective did not converge. You might want to increase the number of iterations. Duality gap: 13.765202182461508, tolerance: 1.9645035973451326\n",
      "  tol, rng, random, positive)\n",
      "C:\\Users\\Alastair Tyson\\anaconda3\\lib\\site-packages\\sklearn\\linear_model\\_coordinate_descent.py:472: ConvergenceWarning: Objective did not converge. You might want to increase the number of iterations. Duality gap: 13.60994953727095, tolerance: 1.9645035973451326\n",
      "  tol, rng, random, positive)\n",
      "C:\\Users\\Alastair Tyson\\anaconda3\\lib\\site-packages\\sklearn\\linear_model\\_coordinate_descent.py:472: ConvergenceWarning: Objective did not converge. You might want to increase the number of iterations. Duality gap: 25.886123790702186, tolerance: 1.9645035973451326\n",
      "  tol, rng, random, positive)\n",
      "C:\\Users\\Alastair Tyson\\anaconda3\\lib\\site-packages\\sklearn\\linear_model\\_coordinate_descent.py:472: ConvergenceWarning: Objective did not converge. You might want to increase the number of iterations. Duality gap: 49.537916480286185, tolerance: 1.9645035973451326\n",
      "  tol, rng, random, positive)\n",
      "C:\\Users\\Alastair Tyson\\anaconda3\\lib\\site-packages\\sklearn\\linear_model\\_coordinate_descent.py:472: ConvergenceWarning: Objective did not converge. You might want to increase the number of iterations. Duality gap: 54.36158006018832, tolerance: 1.9645035973451326\n",
      "  tol, rng, random, positive)\n",
      "C:\\Users\\Alastair Tyson\\anaconda3\\lib\\site-packages\\sklearn\\linear_model\\_coordinate_descent.py:472: ConvergenceWarning: Objective did not converge. You might want to increase the number of iterations. Duality gap: 56.75554877261857, tolerance: 1.9645035973451326\n",
      "  tol, rng, random, positive)\n",
      "C:\\Users\\Alastair Tyson\\anaconda3\\lib\\site-packages\\sklearn\\linear_model\\_coordinate_descent.py:472: ConvergenceWarning: Objective did not converge. You might want to increase the number of iterations. Duality gap: 57.36415873095757, tolerance: 1.9645035973451326\n",
      "  tol, rng, random, positive)\n",
      "C:\\Users\\Alastair Tyson\\anaconda3\\lib\\site-packages\\sklearn\\linear_model\\_coordinate_descent.py:472: ConvergenceWarning: Objective did not converge. You might want to increase the number of iterations. Duality gap: 57.26632566943499, tolerance: 1.9645035973451326\n",
      "  tol, rng, random, positive)\n",
      "C:\\Users\\Alastair Tyson\\anaconda3\\lib\\site-packages\\sklearn\\linear_model\\_coordinate_descent.py:472: ConvergenceWarning: Objective did not converge. You might want to increase the number of iterations. Duality gap: 56.71936522217584, tolerance: 1.9645035973451326\n",
      "  tol, rng, random, positive)\n",
      "C:\\Users\\Alastair Tyson\\anaconda3\\lib\\site-packages\\sklearn\\linear_model\\_coordinate_descent.py:472: ConvergenceWarning: Objective did not converge. You might want to increase the number of iterations. Duality gap: 55.831967192754746, tolerance: 1.9645035973451326\n",
      "  tol, rng, random, positive)\n",
      "C:\\Users\\Alastair Tyson\\anaconda3\\lib\\site-packages\\sklearn\\linear_model\\_coordinate_descent.py:472: ConvergenceWarning: Objective did not converge. You might want to increase the number of iterations. Duality gap: 6.208414841536069, tolerance: 1.9645035973451326\n",
      "  tol, rng, random, positive)\n",
      "C:\\Users\\Alastair Tyson\\anaconda3\\lib\\site-packages\\sklearn\\linear_model\\_coordinate_descent.py:472: ConvergenceWarning: Objective did not converge. You might want to increase the number of iterations. Duality gap: 2.9973482452151075, tolerance: 1.9645035973451326\n",
      "  tol, rng, random, positive)\n",
      "C:\\Users\\Alastair Tyson\\anaconda3\\lib\\site-packages\\sklearn\\linear_model\\_coordinate_descent.py:472: ConvergenceWarning: Objective did not converge. You might want to increase the number of iterations. Duality gap: 4.586046649308628, tolerance: 1.9200602290748903\n",
      "  tol, rng, random, positive)\n",
      "C:\\Users\\Alastair Tyson\\anaconda3\\lib\\site-packages\\sklearn\\linear_model\\_coordinate_descent.py:472: ConvergenceWarning: Objective did not converge. You might want to increase the number of iterations. Duality gap: 5.038593821371251, tolerance: 1.9200602290748903\n",
      "  tol, rng, random, positive)\n",
      "C:\\Users\\Alastair Tyson\\anaconda3\\lib\\site-packages\\sklearn\\linear_model\\_coordinate_descent.py:472: ConvergenceWarning: Objective did not converge. You might want to increase the number of iterations. Duality gap: 5.207504684063679, tolerance: 1.9200602290748903\n",
      "  tol, rng, random, positive)\n",
      "C:\\Users\\Alastair Tyson\\anaconda3\\lib\\site-packages\\sklearn\\linear_model\\_coordinate_descent.py:472: ConvergenceWarning: Objective did not converge. You might want to increase the number of iterations. Duality gap: 2.4012061842513504, tolerance: 1.9200602290748903\n",
      "  tol, rng, random, positive)\n",
      "C:\\Users\\Alastair Tyson\\anaconda3\\lib\\site-packages\\sklearn\\linear_model\\_coordinate_descent.py:472: ConvergenceWarning: Objective did not converge. You might want to increase the number of iterations. Duality gap: 2.1044548159025, tolerance: 1.9200602290748903\n",
      "  tol, rng, random, positive)\n",
      "C:\\Users\\Alastair Tyson\\anaconda3\\lib\\site-packages\\sklearn\\linear_model\\_coordinate_descent.py:472: ConvergenceWarning: Objective did not converge. You might want to increase the number of iterations. Duality gap: 9.326486061088872, tolerance: 1.9200602290748903\n",
      "  tol, rng, random, positive)\n",
      "C:\\Users\\Alastair Tyson\\anaconda3\\lib\\site-packages\\sklearn\\linear_model\\_coordinate_descent.py:472: ConvergenceWarning: Objective did not converge. You might want to increase the number of iterations. Duality gap: 8.949102694743488, tolerance: 1.9200602290748903\n",
      "  tol, rng, random, positive)\n",
      "C:\\Users\\Alastair Tyson\\anaconda3\\lib\\site-packages\\sklearn\\linear_model\\_coordinate_descent.py:472: ConvergenceWarning: Objective did not converge. You might want to increase the number of iterations. Duality gap: 8.929353255807655, tolerance: 1.9200602290748903\n",
      "  tol, rng, random, positive)\n",
      "C:\\Users\\Alastair Tyson\\anaconda3\\lib\\site-packages\\sklearn\\linear_model\\_coordinate_descent.py:472: ConvergenceWarning: Objective did not converge. You might want to increase the number of iterations. Duality gap: 8.82688044250608, tolerance: 1.9200602290748903\n",
      "  tol, rng, random, positive)\n",
      "C:\\Users\\Alastair Tyson\\anaconda3\\lib\\site-packages\\sklearn\\linear_model\\_coordinate_descent.py:472: ConvergenceWarning: Objective did not converge. You might want to increase the number of iterations. Duality gap: 8.669112865529314, tolerance: 1.9200602290748903\n",
      "  tol, rng, random, positive)\n",
      "C:\\Users\\Alastair Tyson\\anaconda3\\lib\\site-packages\\sklearn\\linear_model\\_coordinate_descent.py:472: ConvergenceWarning: Objective did not converge. You might want to increase the number of iterations. Duality gap: 8.469078232400534, tolerance: 1.9200602290748903\n",
      "  tol, rng, random, positive)\n",
      "C:\\Users\\Alastair Tyson\\anaconda3\\lib\\site-packages\\sklearn\\linear_model\\_coordinate_descent.py:472: ConvergenceWarning: Objective did not converge. You might want to increase the number of iterations. Duality gap: 8.236654714951328, tolerance: 1.9200602290748903\n",
      "  tol, rng, random, positive)\n",
      "C:\\Users\\Alastair Tyson\\anaconda3\\lib\\site-packages\\sklearn\\linear_model\\_coordinate_descent.py:472: ConvergenceWarning: Objective did not converge. You might want to increase the number of iterations. Duality gap: 7.9800160150298325, tolerance: 1.9200602290748903\n",
      "  tol, rng, random, positive)\n",
      "C:\\Users\\Alastair Tyson\\anaconda3\\lib\\site-packages\\sklearn\\linear_model\\_coordinate_descent.py:472: ConvergenceWarning: Objective did not converge. You might want to increase the number of iterations. Duality gap: 7.705990389324143, tolerance: 1.9200602290748903\n",
      "  tol, rng, random, positive)\n",
      "C:\\Users\\Alastair Tyson\\anaconda3\\lib\\site-packages\\sklearn\\linear_model\\_coordinate_descent.py:472: ConvergenceWarning: Objective did not converge. You might want to increase the number of iterations. Duality gap: 14.095238429765232, tolerance: 1.9200602290748903\n",
      "  tol, rng, random, positive)\n",
      "C:\\Users\\Alastair Tyson\\anaconda3\\lib\\site-packages\\sklearn\\linear_model\\_coordinate_descent.py:472: ConvergenceWarning: Objective did not converge. You might want to increase the number of iterations. Duality gap: 138.90616528057035, tolerance: 1.9200602290748903\n",
      "  tol, rng, random, positive)\n",
      "C:\\Users\\Alastair Tyson\\anaconda3\\lib\\site-packages\\sklearn\\linear_model\\_coordinate_descent.py:472: ConvergenceWarning: Objective did not converge. You might want to increase the number of iterations. Duality gap: 175.02117258778253, tolerance: 1.9200602290748903\n",
      "  tol, rng, random, positive)\n",
      "C:\\Users\\Alastair Tyson\\anaconda3\\lib\\site-packages\\sklearn\\linear_model\\_coordinate_descent.py:472: ConvergenceWarning: Objective did not converge. You might want to increase the number of iterations. Duality gap: 177.4056108791483, tolerance: 1.9200602290748903\n",
      "  tol, rng, random, positive)\n",
      "C:\\Users\\Alastair Tyson\\anaconda3\\lib\\site-packages\\sklearn\\linear_model\\_coordinate_descent.py:472: ConvergenceWarning: Objective did not converge. You might want to increase the number of iterations. Duality gap: 181.07655538139625, tolerance: 1.9200602290748903\n",
      "  tol, rng, random, positive)\n",
      "C:\\Users\\Alastair Tyson\\anaconda3\\lib\\site-packages\\sklearn\\linear_model\\_coordinate_descent.py:472: ConvergenceWarning: Objective did not converge. You might want to increase the number of iterations. Duality gap: 182.57201349515344, tolerance: 1.9200602290748903\n",
      "  tol, rng, random, positive)\n",
      "C:\\Users\\Alastair Tyson\\anaconda3\\lib\\site-packages\\sklearn\\linear_model\\_coordinate_descent.py:472: ConvergenceWarning: Objective did not converge. You might want to increase the number of iterations. Duality gap: 182.5980898036114, tolerance: 1.9200602290748903\n",
      "  tol, rng, random, positive)\n",
      "C:\\Users\\Alastair Tyson\\anaconda3\\lib\\site-packages\\sklearn\\linear_model\\_coordinate_descent.py:472: ConvergenceWarning: Objective did not converge. You might want to increase the number of iterations. Duality gap: 181.46149702737785, tolerance: 1.9200602290748903\n",
      "  tol, rng, random, positive)\n",
      "C:\\Users\\Alastair Tyson\\anaconda3\\lib\\site-packages\\sklearn\\linear_model\\_coordinate_descent.py:472: ConvergenceWarning: Objective did not converge. You might want to increase the number of iterations. Duality gap: 179.39483163558907, tolerance: 1.9200602290748903\n",
      "  tol, rng, random, positive)\n",
      "C:\\Users\\Alastair Tyson\\anaconda3\\lib\\site-packages\\sklearn\\linear_model\\_coordinate_descent.py:472: ConvergenceWarning: Objective did not converge. You might want to increase the number of iterations. Duality gap: 176.59230054696127, tolerance: 1.9200602290748903\n",
      "  tol, rng, random, positive)\n",
      "C:\\Users\\Alastair Tyson\\anaconda3\\lib\\site-packages\\sklearn\\linear_model\\_coordinate_descent.py:472: ConvergenceWarning: Objective did not converge. You might want to increase the number of iterations. Duality gap: 173.21753808362973, tolerance: 1.9200602290748903\n",
      "  tol, rng, random, positive)\n",
      "C:\\Users\\Alastair Tyson\\anaconda3\\lib\\site-packages\\sklearn\\linear_model\\_coordinate_descent.py:472: ConvergenceWarning: Objective did not converge. You might want to increase the number of iterations. Duality gap: 5.817055116442134, tolerance: 1.9303640264317183\n",
      "  tol, rng, random, positive)\n",
      "C:\\Users\\Alastair Tyson\\anaconda3\\lib\\site-packages\\sklearn\\linear_model\\_coordinate_descent.py:472: ConvergenceWarning: Objective did not converge. You might want to increase the number of iterations. Duality gap: 6.41491289239093, tolerance: 1.9303640264317183\n",
      "  tol, rng, random, positive)\n",
      "C:\\Users\\Alastair Tyson\\anaconda3\\lib\\site-packages\\sklearn\\linear_model\\_coordinate_descent.py:472: ConvergenceWarning: Objective did not converge. You might want to increase the number of iterations. Duality gap: 4.5822964920462255, tolerance: 1.9303640264317183\n",
      "  tol, rng, random, positive)\n",
      "C:\\Users\\Alastair Tyson\\anaconda3\\lib\\site-packages\\sklearn\\linear_model\\_coordinate_descent.py:472: ConvergenceWarning: Objective did not converge. You might want to increase the number of iterations. Duality gap: 4.31430105160689, tolerance: 1.9303640264317183\n",
      "  tol, rng, random, positive)\n",
      "C:\\Users\\Alastair Tyson\\anaconda3\\lib\\site-packages\\sklearn\\linear_model\\_coordinate_descent.py:472: ConvergenceWarning: Objective did not converge. You might want to increase the number of iterations. Duality gap: 4.247799264308924, tolerance: 1.9303640264317183\n",
      "  tol, rng, random, positive)\n",
      "C:\\Users\\Alastair Tyson\\anaconda3\\lib\\site-packages\\sklearn\\linear_model\\_coordinate_descent.py:472: ConvergenceWarning: Objective did not converge. You might want to increase the number of iterations. Duality gap: 4.184046242968179, tolerance: 1.9303640264317183\n",
      "  tol, rng, random, positive)\n",
      "C:\\Users\\Alastair Tyson\\anaconda3\\lib\\site-packages\\sklearn\\linear_model\\_coordinate_descent.py:472: ConvergenceWarning: Objective did not converge. You might want to increase the number of iterations. Duality gap: 4.100466606681039, tolerance: 1.9303640264317183\n",
      "  tol, rng, random, positive)\n",
      "C:\\Users\\Alastair Tyson\\anaconda3\\lib\\site-packages\\sklearn\\linear_model\\_coordinate_descent.py:472: ConvergenceWarning: Objective did not converge. You might want to increase the number of iterations. Duality gap: 3.9983952645334284, tolerance: 1.9303640264317183\n",
      "  tol, rng, random, positive)\n",
      "C:\\Users\\Alastair Tyson\\anaconda3\\lib\\site-packages\\sklearn\\linear_model\\_coordinate_descent.py:472: ConvergenceWarning: Objective did not converge. You might want to increase the number of iterations. Duality gap: 6.470893324667486, tolerance: 1.9303640264317183\n",
      "  tol, rng, random, positive)\n",
      "C:\\Users\\Alastair Tyson\\anaconda3\\lib\\site-packages\\sklearn\\linear_model\\_coordinate_descent.py:472: ConvergenceWarning: Objective did not converge. You might want to increase the number of iterations. Duality gap: 16.700807359777173, tolerance: 1.9303640264317183\n",
      "  tol, rng, random, positive)\n",
      "C:\\Users\\Alastair Tyson\\anaconda3\\lib\\site-packages\\sklearn\\linear_model\\_coordinate_descent.py:472: ConvergenceWarning: Objective did not converge. You might want to increase the number of iterations. Duality gap: 16.722879000717512, tolerance: 1.9303640264317183\n",
      "  tol, rng, random, positive)\n",
      "C:\\Users\\Alastair Tyson\\anaconda3\\lib\\site-packages\\sklearn\\linear_model\\_coordinate_descent.py:472: ConvergenceWarning: Objective did not converge. You might want to increase the number of iterations. Duality gap: 29.3702749168433, tolerance: 1.9303640264317183\n",
      "  tol, rng, random, positive)\n",
      "C:\\Users\\Alastair Tyson\\anaconda3\\lib\\site-packages\\sklearn\\linear_model\\_coordinate_descent.py:472: ConvergenceWarning: Objective did not converge. You might want to increase the number of iterations. Duality gap: 58.25070958457036, tolerance: 1.9303640264317183\n",
      "  tol, rng, random, positive)\n",
      "C:\\Users\\Alastair Tyson\\anaconda3\\lib\\site-packages\\sklearn\\linear_model\\_coordinate_descent.py:472: ConvergenceWarning: Objective did not converge. You might want to increase the number of iterations. Duality gap: 61.50536214341628, tolerance: 1.9303640264317183\n",
      "  tol, rng, random, positive)\n",
      "C:\\Users\\Alastair Tyson\\anaconda3\\lib\\site-packages\\sklearn\\linear_model\\_coordinate_descent.py:472: ConvergenceWarning: Objective did not converge. You might want to increase the number of iterations. Duality gap: 64.60769121883732, tolerance: 1.9303640264317183\n",
      "  tol, rng, random, positive)\n",
      "C:\\Users\\Alastair Tyson\\anaconda3\\lib\\site-packages\\sklearn\\linear_model\\_coordinate_descent.py:472: ConvergenceWarning: Objective did not converge. You might want to increase the number of iterations. Duality gap: 66.05449482227414, tolerance: 1.9303640264317183\n",
      "  tol, rng, random, positive)\n",
      "C:\\Users\\Alastair Tyson\\anaconda3\\lib\\site-packages\\sklearn\\linear_model\\_coordinate_descent.py:472: ConvergenceWarning: Objective did not converge. You might want to increase the number of iterations. Duality gap: 66.63513044255706, tolerance: 1.9303640264317183\n",
      "  tol, rng, random, positive)\n",
      "C:\\Users\\Alastair Tyson\\anaconda3\\lib\\site-packages\\sklearn\\linear_model\\_coordinate_descent.py:472: ConvergenceWarning: Objective did not converge. You might want to increase the number of iterations. Duality gap: 66.58190464988729, tolerance: 1.9303640264317183\n",
      "  tol, rng, random, positive)\n",
      "C:\\Users\\Alastair Tyson\\anaconda3\\lib\\site-packages\\sklearn\\linear_model\\_coordinate_descent.py:472: ConvergenceWarning: Objective did not converge. You might want to increase the number of iterations. Duality gap: 66.02585963763067, tolerance: 1.9303640264317183\n",
      "  tol, rng, random, positive)\n",
      "C:\\Users\\Alastair Tyson\\anaconda3\\lib\\site-packages\\sklearn\\linear_model\\_coordinate_descent.py:472: ConvergenceWarning: Objective did not converge. You might want to increase the number of iterations. Duality gap: 65.06853935513664, tolerance: 1.9303640264317183\n",
      "  tol, rng, random, positive)\n",
      "C:\\Users\\Alastair Tyson\\anaconda3\\lib\\site-packages\\sklearn\\linear_model\\_coordinate_descent.py:472: ConvergenceWarning: Objective did not converge. You might want to increase the number of iterations. Duality gap: 12.31211718632403, tolerance: 1.9303640264317183\n",
      "  tol, rng, random, positive)\n",
      "C:\\Users\\Alastair Tyson\\anaconda3\\lib\\site-packages\\sklearn\\linear_model\\_coordinate_descent.py:472: ConvergenceWarning: Objective did not converge. You might want to increase the number of iterations. Duality gap: 5.720660593654429, tolerance: 1.9303640264317183\n",
      "  tol, rng, random, positive)\n",
      "C:\\Users\\Alastair Tyson\\anaconda3\\lib\\site-packages\\sklearn\\linear_model\\_coordinate_descent.py:472: ConvergenceWarning: Objective did not converge. You might want to increase the number of iterations. Duality gap: 6.040710723805205, tolerance: 1.9303640264317183\n",
      "  tol, rng, random, positive)\n",
      "C:\\Users\\Alastair Tyson\\anaconda3\\lib\\site-packages\\sklearn\\linear_model\\_coordinate_descent.py:476: ConvergenceWarning: Objective did not converge. You might want to increase the number of iterations. Duality gap: 3844.733548556779, tolerance: 2.3967824240282685\n",
      "  positive)\n",
      "C:\\Users\\Alastair Tyson\\anaconda3\\lib\\site-packages\\sklearn\\linear_model\\_coordinate_descent.py:472: ConvergenceWarning: Objective did not converge. You might want to increase the number of iterations. Duality gap: 6.516895616950933, tolerance: 2.2005873849557522\n",
      "  tol, rng, random, positive)\n",
      "C:\\Users\\Alastair Tyson\\anaconda3\\lib\\site-packages\\sklearn\\linear_model\\_coordinate_descent.py:472: ConvergenceWarning: Objective did not converge. You might want to increase the number of iterations. Duality gap: 11.8604270713804, tolerance: 2.2005873849557522\n",
      "  tol, rng, random, positive)\n",
      "C:\\Users\\Alastair Tyson\\anaconda3\\lib\\site-packages\\sklearn\\linear_model\\_coordinate_descent.py:472: ConvergenceWarning: Objective did not converge. You might want to increase the number of iterations. Duality gap: 12.299306116983644, tolerance: 2.2005873849557522\n",
      "  tol, rng, random, positive)\n",
      "C:\\Users\\Alastair Tyson\\anaconda3\\lib\\site-packages\\sklearn\\linear_model\\_coordinate_descent.py:472: ConvergenceWarning: Objective did not converge. You might want to increase the number of iterations. Duality gap: 11.867937193090256, tolerance: 2.2005873849557522\n",
      "  tol, rng, random, positive)\n",
      "C:\\Users\\Alastair Tyson\\anaconda3\\lib\\site-packages\\sklearn\\linear_model\\_coordinate_descent.py:472: ConvergenceWarning: Objective did not converge. You might want to increase the number of iterations. Duality gap: 11.301829869677022, tolerance: 2.2005873849557522\n",
      "  tol, rng, random, positive)\n",
      "C:\\Users\\Alastair Tyson\\anaconda3\\lib\\site-packages\\sklearn\\linear_model\\_coordinate_descent.py:472: ConvergenceWarning: Objective did not converge. You might want to increase the number of iterations. Duality gap: 10.731317203944855, tolerance: 2.2005873849557522\n",
      "  tol, rng, random, positive)\n",
      "C:\\Users\\Alastair Tyson\\anaconda3\\lib\\site-packages\\sklearn\\linear_model\\_coordinate_descent.py:472: ConvergenceWarning: Objective did not converge. You might want to increase the number of iterations. Duality gap: 10.179714307621907, tolerance: 2.2005873849557522\n",
      "  tol, rng, random, positive)\n",
      "C:\\Users\\Alastair Tyson\\anaconda3\\lib\\site-packages\\sklearn\\linear_model\\_coordinate_descent.py:472: ConvergenceWarning: Objective did not converge. You might want to increase the number of iterations. Duality gap: 10.358103204504005, tolerance: 2.2005873849557522\n",
      "  tol, rng, random, positive)\n",
      "C:\\Users\\Alastair Tyson\\anaconda3\\lib\\site-packages\\sklearn\\linear_model\\_coordinate_descent.py:472: ConvergenceWarning: Objective did not converge. You might want to increase the number of iterations. Duality gap: 9.82645863363723, tolerance: 2.2005873849557522\n",
      "  tol, rng, random, positive)\n",
      "C:\\Users\\Alastair Tyson\\anaconda3\\lib\\site-packages\\sklearn\\linear_model\\_coordinate_descent.py:472: ConvergenceWarning: Objective did not converge. You might want to increase the number of iterations. Duality gap: 9.609315801433695, tolerance: 2.2005873849557522\n",
      "  tol, rng, random, positive)\n",
      "C:\\Users\\Alastair Tyson\\anaconda3\\lib\\site-packages\\sklearn\\linear_model\\_coordinate_descent.py:472: ConvergenceWarning: Objective did not converge. You might want to increase the number of iterations. Duality gap: 8.751651747212236, tolerance: 2.2005873849557522\n",
      "  tol, rng, random, positive)\n",
      "C:\\Users\\Alastair Tyson\\anaconda3\\lib\\site-packages\\sklearn\\linear_model\\_coordinate_descent.py:472: ConvergenceWarning: Objective did not converge. You might want to increase the number of iterations. Duality gap: 8.625478267760627, tolerance: 2.2005873849557522\n",
      "  tol, rng, random, positive)\n",
      "C:\\Users\\Alastair Tyson\\anaconda3\\lib\\site-packages\\sklearn\\linear_model\\_coordinate_descent.py:472: ConvergenceWarning: Objective did not converge. You might want to increase the number of iterations. Duality gap: 8.428297068024222, tolerance: 2.2005873849557522\n",
      "  tol, rng, random, positive)\n",
      "C:\\Users\\Alastair Tyson\\anaconda3\\lib\\site-packages\\sklearn\\linear_model\\_coordinate_descent.py:472: ConvergenceWarning: Objective did not converge. You might want to increase the number of iterations. Duality gap: 11.099381709485897, tolerance: 2.2005873849557522\n",
      "  tol, rng, random, positive)\n",
      "C:\\Users\\Alastair Tyson\\anaconda3\\lib\\site-packages\\sklearn\\linear_model\\_coordinate_descent.py:472: ConvergenceWarning: Objective did not converge. You might want to increase the number of iterations. Duality gap: 13.100338589965759, tolerance: 2.2005873849557522\n",
      "  tol, rng, random, positive)\n",
      "C:\\Users\\Alastair Tyson\\anaconda3\\lib\\site-packages\\sklearn\\linear_model\\_coordinate_descent.py:472: ConvergenceWarning: Objective did not converge. You might want to increase the number of iterations. Duality gap: 16.39027749030538, tolerance: 2.2005873849557522\n",
      "  tol, rng, random, positive)\n",
      "C:\\Users\\Alastair Tyson\\anaconda3\\lib\\site-packages\\sklearn\\linear_model\\_coordinate_descent.py:472: ConvergenceWarning: Objective did not converge. You might want to increase the number of iterations. Duality gap: 18.02385094895726, tolerance: 2.2005873849557522\n",
      "  tol, rng, random, positive)\n",
      "C:\\Users\\Alastair Tyson\\anaconda3\\lib\\site-packages\\sklearn\\linear_model\\_coordinate_descent.py:472: ConvergenceWarning: Objective did not converge. You might want to increase the number of iterations. Duality gap: 48.76392969606604, tolerance: 2.2005873849557522\n",
      "  tol, rng, random, positive)\n",
      "C:\\Users\\Alastair Tyson\\anaconda3\\lib\\site-packages\\sklearn\\linear_model\\_coordinate_descent.py:472: ConvergenceWarning: Objective did not converge. You might want to increase the number of iterations. Duality gap: 47.67773191996457, tolerance: 2.2005873849557522\n",
      "  tol, rng, random, positive)\n",
      "C:\\Users\\Alastair Tyson\\anaconda3\\lib\\site-packages\\sklearn\\linear_model\\_coordinate_descent.py:472: ConvergenceWarning: Objective did not converge. You might want to increase the number of iterations. Duality gap: 39.80650077234441, tolerance: 2.2005873849557522\n",
      "  tol, rng, random, positive)\n",
      "C:\\Users\\Alastair Tyson\\anaconda3\\lib\\site-packages\\sklearn\\linear_model\\_coordinate_descent.py:472: ConvergenceWarning: Objective did not converge. You might want to increase the number of iterations. Duality gap: 41.29441267057973, tolerance: 2.2005873849557522\n",
      "  tol, rng, random, positive)\n",
      "C:\\Users\\Alastair Tyson\\anaconda3\\lib\\site-packages\\sklearn\\linear_model\\_coordinate_descent.py:472: ConvergenceWarning: Objective did not converge. You might want to increase the number of iterations. Duality gap: 40.75439188257769, tolerance: 2.2005873849557522\n",
      "  tol, rng, random, positive)\n",
      "C:\\Users\\Alastair Tyson\\anaconda3\\lib\\site-packages\\sklearn\\linear_model\\_coordinate_descent.py:472: ConvergenceWarning: Objective did not converge. You might want to increase the number of iterations. Duality gap: 40.02510658342089, tolerance: 2.2005873849557522\n",
      "  tol, rng, random, positive)\n",
      "C:\\Users\\Alastair Tyson\\anaconda3\\lib\\site-packages\\sklearn\\linear_model\\_coordinate_descent.py:472: ConvergenceWarning: Objective did not converge. You might want to increase the number of iterations. Duality gap: 39.11368514109836, tolerance: 2.2005873849557522\n",
      "  tol, rng, random, positive)\n",
      "C:\\Users\\Alastair Tyson\\anaconda3\\lib\\site-packages\\sklearn\\linear_model\\_coordinate_descent.py:472: ConvergenceWarning: Objective did not converge. You might want to increase the number of iterations. Duality gap: 38.065093375940705, tolerance: 2.2005873849557522\n",
      "  tol, rng, random, positive)\n",
      "C:\\Users\\Alastair Tyson\\anaconda3\\lib\\site-packages\\sklearn\\linear_model\\_coordinate_descent.py:472: ConvergenceWarning: Objective did not converge. You might want to increase the number of iterations. Duality gap: 6.655554630155166, tolerance: 1.838064159292036\n",
      "  tol, rng, random, positive)\n",
      "C:\\Users\\Alastair Tyson\\anaconda3\\lib\\site-packages\\sklearn\\linear_model\\_coordinate_descent.py:472: ConvergenceWarning: Objective did not converge. You might want to increase the number of iterations. Duality gap: 9.798947788277474, tolerance: 1.838064159292036\n",
      "  tol, rng, random, positive)\n",
      "C:\\Users\\Alastair Tyson\\anaconda3\\lib\\site-packages\\sklearn\\linear_model\\_coordinate_descent.py:472: ConvergenceWarning: Objective did not converge. You might want to increase the number of iterations. Duality gap: 10.160091660527542, tolerance: 1.838064159292036\n",
      "  tol, rng, random, positive)\n",
      "C:\\Users\\Alastair Tyson\\anaconda3\\lib\\site-packages\\sklearn\\linear_model\\_coordinate_descent.py:472: ConvergenceWarning: Objective did not converge. You might want to increase the number of iterations. Duality gap: 9.850303754259585, tolerance: 1.838064159292036\n",
      "  tol, rng, random, positive)\n",
      "C:\\Users\\Alastair Tyson\\anaconda3\\lib\\site-packages\\sklearn\\linear_model\\_coordinate_descent.py:472: ConvergenceWarning: Objective did not converge. You might want to increase the number of iterations. Duality gap: 9.432062654444962, tolerance: 1.838064159292036\n",
      "  tol, rng, random, positive)\n",
      "C:\\Users\\Alastair Tyson\\anaconda3\\lib\\site-packages\\sklearn\\linear_model\\_coordinate_descent.py:472: ConvergenceWarning: Objective did not converge. You might want to increase the number of iterations. Duality gap: 9.001315766123298, tolerance: 1.838064159292036\n",
      "  tol, rng, random, positive)\n",
      "C:\\Users\\Alastair Tyson\\anaconda3\\lib\\site-packages\\sklearn\\linear_model\\_coordinate_descent.py:472: ConvergenceWarning: Objective did not converge. You might want to increase the number of iterations. Duality gap: 8.576817354934064, tolerance: 1.838064159292036\n",
      "  tol, rng, random, positive)\n",
      "C:\\Users\\Alastair Tyson\\anaconda3\\lib\\site-packages\\sklearn\\linear_model\\_coordinate_descent.py:472: ConvergenceWarning: Objective did not converge. You might want to increase the number of iterations. Duality gap: 7.628039313575755, tolerance: 1.838064159292036\n",
      "  tol, rng, random, positive)\n",
      "C:\\Users\\Alastair Tyson\\anaconda3\\lib\\site-packages\\sklearn\\linear_model\\_coordinate_descent.py:472: ConvergenceWarning: Objective did not converge. You might want to increase the number of iterations. Duality gap: 6.509166554322292, tolerance: 1.838064159292036\n",
      "  tol, rng, random, positive)\n",
      "C:\\Users\\Alastair Tyson\\anaconda3\\lib\\site-packages\\sklearn\\linear_model\\_coordinate_descent.py:472: ConvergenceWarning: Objective did not converge. You might want to increase the number of iterations. Duality gap: 6.749891775945798, tolerance: 1.838064159292036\n",
      "  tol, rng, random, positive)\n",
      "C:\\Users\\Alastair Tyson\\anaconda3\\lib\\site-packages\\sklearn\\linear_model\\_coordinate_descent.py:472: ConvergenceWarning: Objective did not converge. You might want to increase the number of iterations. Duality gap: 6.708413336950798, tolerance: 1.838064159292036\n",
      "  tol, rng, random, positive)\n",
      "C:\\Users\\Alastair Tyson\\anaconda3\\lib\\site-packages\\sklearn\\linear_model\\_coordinate_descent.py:472: ConvergenceWarning: Objective did not converge. You might want to increase the number of iterations. Duality gap: 6.591290307250347, tolerance: 1.838064159292036\n",
      "  tol, rng, random, positive)\n",
      "C:\\Users\\Alastair Tyson\\anaconda3\\lib\\site-packages\\sklearn\\linear_model\\_coordinate_descent.py:472: ConvergenceWarning: Objective did not converge. You might want to increase the number of iterations. Duality gap: 6.437197215141168, tolerance: 1.838064159292036\n",
      "  tol, rng, random, positive)\n",
      "C:\\Users\\Alastair Tyson\\anaconda3\\lib\\site-packages\\sklearn\\linear_model\\_coordinate_descent.py:472: ConvergenceWarning: Objective did not converge. You might want to increase the number of iterations. Duality gap: 6.000071321233008, tolerance: 1.838064159292036\n",
      "  tol, rng, random, positive)\n",
      "C:\\Users\\Alastair Tyson\\anaconda3\\lib\\site-packages\\sklearn\\linear_model\\_coordinate_descent.py:472: ConvergenceWarning: Objective did not converge. You might want to increase the number of iterations. Duality gap: 17.670835845533475, tolerance: 1.838064159292036\n",
      "  tol, rng, random, positive)\n",
      "C:\\Users\\Alastair Tyson\\anaconda3\\lib\\site-packages\\sklearn\\linear_model\\_coordinate_descent.py:472: ConvergenceWarning: Objective did not converge. You might want to increase the number of iterations. Duality gap: 17.60714927655863, tolerance: 1.838064159292036\n",
      "  tol, rng, random, positive)\n",
      "C:\\Users\\Alastair Tyson\\anaconda3\\lib\\site-packages\\sklearn\\linear_model\\_coordinate_descent.py:472: ConvergenceWarning: Objective did not converge. You might want to increase the number of iterations. Duality gap: 17.47418740752255, tolerance: 1.838064159292036\n",
      "  tol, rng, random, positive)\n",
      "C:\\Users\\Alastair Tyson\\anaconda3\\lib\\site-packages\\sklearn\\linear_model\\_coordinate_descent.py:472: ConvergenceWarning: Objective did not converge. You might want to increase the number of iterations. Duality gap: 17.234488541573228, tolerance: 1.838064159292036\n",
      "  tol, rng, random, positive)\n",
      "C:\\Users\\Alastair Tyson\\anaconda3\\lib\\site-packages\\sklearn\\linear_model\\_coordinate_descent.py:472: ConvergenceWarning: Objective did not converge. You might want to increase the number of iterations. Duality gap: 24.71286527936718, tolerance: 1.838064159292036\n",
      "  tol, rng, random, positive)\n",
      "C:\\Users\\Alastair Tyson\\anaconda3\\lib\\site-packages\\sklearn\\linear_model\\_coordinate_descent.py:472: ConvergenceWarning: Objective did not converge. You might want to increase the number of iterations. Duality gap: 23.233001069506827, tolerance: 1.838064159292036\n",
      "  tol, rng, random, positive)\n",
      "C:\\Users\\Alastair Tyson\\anaconda3\\lib\\site-packages\\sklearn\\linear_model\\_coordinate_descent.py:472: ConvergenceWarning: Objective did not converge. You might want to increase the number of iterations. Duality gap: 23.83487996174972, tolerance: 1.838064159292036\n",
      "  tol, rng, random, positive)\n",
      "C:\\Users\\Alastair Tyson\\anaconda3\\lib\\site-packages\\sklearn\\linear_model\\_coordinate_descent.py:472: ConvergenceWarning: Objective did not converge. You might want to increase the number of iterations. Duality gap: 126.38343027473638, tolerance: 1.838064159292036\n",
      "  tol, rng, random, positive)\n",
      "C:\\Users\\Alastair Tyson\\anaconda3\\lib\\site-packages\\sklearn\\linear_model\\_coordinate_descent.py:472: ConvergenceWarning: Objective did not converge. You might want to increase the number of iterations. Duality gap: 141.80211822837555, tolerance: 1.838064159292036\n",
      "  tol, rng, random, positive)\n",
      "C:\\Users\\Alastair Tyson\\anaconda3\\lib\\site-packages\\sklearn\\linear_model\\_coordinate_descent.py:472: ConvergenceWarning: Objective did not converge. You might want to increase the number of iterations. Duality gap: 143.25328745942352, tolerance: 1.838064159292036\n",
      "  tol, rng, random, positive)\n",
      "C:\\Users\\Alastair Tyson\\anaconda3\\lib\\site-packages\\sklearn\\linear_model\\_coordinate_descent.py:472: ConvergenceWarning: Objective did not converge. You might want to increase the number of iterations. Duality gap: 142.19366778705717, tolerance: 1.838064159292036\n",
      "  tol, rng, random, positive)\n",
      "C:\\Users\\Alastair Tyson\\anaconda3\\lib\\site-packages\\sklearn\\linear_model\\_coordinate_descent.py:472: ConvergenceWarning: Objective did not converge. You might want to increase the number of iterations. Duality gap: 11.370940010305276, tolerance: 2.2458350088495576\n",
      "  tol, rng, random, positive)\n",
      "C:\\Users\\Alastair Tyson\\anaconda3\\lib\\site-packages\\sklearn\\linear_model\\_coordinate_descent.py:472: ConvergenceWarning: Objective did not converge. You might want to increase the number of iterations. Duality gap: 17.96930192729269, tolerance: 2.2458350088495576\n",
      "  tol, rng, random, positive)\n",
      "C:\\Users\\Alastair Tyson\\anaconda3\\lib\\site-packages\\sklearn\\linear_model\\_coordinate_descent.py:472: ConvergenceWarning: Objective did not converge. You might want to increase the number of iterations. Duality gap: 19.75420546085479, tolerance: 2.2458350088495576\n",
      "  tol, rng, random, positive)\n",
      "C:\\Users\\Alastair Tyson\\anaconda3\\lib\\site-packages\\sklearn\\linear_model\\_coordinate_descent.py:472: ConvergenceWarning: Objective did not converge. You might want to increase the number of iterations. Duality gap: 20.096239403444997, tolerance: 2.2458350088495576\n",
      "  tol, rng, random, positive)\n",
      "C:\\Users\\Alastair Tyson\\anaconda3\\lib\\site-packages\\sklearn\\linear_model\\_coordinate_descent.py:472: ConvergenceWarning: Objective did not converge. You might want to increase the number of iterations. Duality gap: 19.97312128493286, tolerance: 2.2458350088495576\n",
      "  tol, rng, random, positive)\n",
      "C:\\Users\\Alastair Tyson\\anaconda3\\lib\\site-packages\\sklearn\\linear_model\\_coordinate_descent.py:472: ConvergenceWarning: Objective did not converge. You might want to increase the number of iterations. Duality gap: 19.654663610297575, tolerance: 2.2458350088495576\n",
      "  tol, rng, random, positive)\n",
      "C:\\Users\\Alastair Tyson\\anaconda3\\lib\\site-packages\\sklearn\\linear_model\\_coordinate_descent.py:472: ConvergenceWarning: Objective did not converge. You might want to increase the number of iterations. Duality gap: 20.854474634006692, tolerance: 2.2458350088495576\n",
      "  tol, rng, random, positive)\n",
      "C:\\Users\\Alastair Tyson\\anaconda3\\lib\\site-packages\\sklearn\\linear_model\\_coordinate_descent.py:472: ConvergenceWarning: Objective did not converge. You might want to increase the number of iterations. Duality gap: 28.321310383442324, tolerance: 2.2458350088495576\n",
      "  tol, rng, random, positive)\n",
      "C:\\Users\\Alastair Tyson\\anaconda3\\lib\\site-packages\\sklearn\\linear_model\\_coordinate_descent.py:472: ConvergenceWarning: Objective did not converge. You might want to increase the number of iterations. Duality gap: 30.18312537521888, tolerance: 2.2458350088495576\n",
      "  tol, rng, random, positive)\n",
      "C:\\Users\\Alastair Tyson\\anaconda3\\lib\\site-packages\\sklearn\\linear_model\\_coordinate_descent.py:472: ConvergenceWarning: Objective did not converge. You might want to increase the number of iterations. Duality gap: 30.565405432911575, tolerance: 2.2458350088495576\n",
      "  tol, rng, random, positive)\n",
      "C:\\Users\\Alastair Tyson\\anaconda3\\lib\\site-packages\\sklearn\\linear_model\\_coordinate_descent.py:472: ConvergenceWarning: Objective did not converge. You might want to increase the number of iterations. Duality gap: 30.417521786116595, tolerance: 2.2458350088495576\n",
      "  tol, rng, random, positive)\n",
      "C:\\Users\\Alastair Tyson\\anaconda3\\lib\\site-packages\\sklearn\\linear_model\\_coordinate_descent.py:472: ConvergenceWarning: Objective did not converge. You might want to increase the number of iterations. Duality gap: 30.008198795912904, tolerance: 2.2458350088495576\n",
      "  tol, rng, random, positive)\n",
      "C:\\Users\\Alastair Tyson\\anaconda3\\lib\\site-packages\\sklearn\\linear_model\\_coordinate_descent.py:472: ConvergenceWarning: Objective did not converge. You might want to increase the number of iterations. Duality gap: 29.431650508651728, tolerance: 2.2458350088495576\n",
      "  tol, rng, random, positive)\n",
      "C:\\Users\\Alastair Tyson\\anaconda3\\lib\\site-packages\\sklearn\\linear_model\\_coordinate_descent.py:472: ConvergenceWarning: Objective did not converge. You might want to increase the number of iterations. Duality gap: 23.174204480834305, tolerance: 2.2458350088495576\n",
      "  tol, rng, random, positive)\n",
      "C:\\Users\\Alastair Tyson\\anaconda3\\lib\\site-packages\\sklearn\\linear_model\\_coordinate_descent.py:472: ConvergenceWarning: Objective did not converge. You might want to increase the number of iterations. Duality gap: 30.49474223395009, tolerance: 2.2458350088495576\n",
      "  tol, rng, random, positive)\n",
      "C:\\Users\\Alastair Tyson\\anaconda3\\lib\\site-packages\\sklearn\\linear_model\\_coordinate_descent.py:472: ConvergenceWarning: Objective did not converge. You might want to increase the number of iterations. Duality gap: 29.951232262325902, tolerance: 2.2458350088495576\n",
      "  tol, rng, random, positive)\n",
      "C:\\Users\\Alastair Tyson\\anaconda3\\lib\\site-packages\\sklearn\\linear_model\\_coordinate_descent.py:472: ConvergenceWarning: Objective did not converge. You might want to increase the number of iterations. Duality gap: 29.964263453310195, tolerance: 2.2458350088495576\n",
      "  tol, rng, random, positive)\n",
      "C:\\Users\\Alastair Tyson\\anaconda3\\lib\\site-packages\\sklearn\\linear_model\\_coordinate_descent.py:472: ConvergenceWarning: Objective did not converge. You might want to increase the number of iterations. Duality gap: 29.753624215796663, tolerance: 2.2458350088495576\n",
      "  tol, rng, random, positive)\n",
      "C:\\Users\\Alastair Tyson\\anaconda3\\lib\\site-packages\\sklearn\\linear_model\\_coordinate_descent.py:472: ConvergenceWarning: Objective did not converge. You might want to increase the number of iterations. Duality gap: 29.353156070827026, tolerance: 2.2458350088495576\n",
      "  tol, rng, random, positive)\n",
      "C:\\Users\\Alastair Tyson\\anaconda3\\lib\\site-packages\\sklearn\\linear_model\\_coordinate_descent.py:472: ConvergenceWarning: Objective did not converge. You might want to increase the number of iterations. Duality gap: 28.795857960240028, tolerance: 2.2458350088495576\n",
      "  tol, rng, random, positive)\n",
      "C:\\Users\\Alastair Tyson\\anaconda3\\lib\\site-packages\\sklearn\\linear_model\\_coordinate_descent.py:472: ConvergenceWarning: Objective did not converge. You might want to increase the number of iterations. Duality gap: 28.114437117603302, tolerance: 2.2458350088495576\n",
      "  tol, rng, random, positive)\n",
      "C:\\Users\\Alastair Tyson\\anaconda3\\lib\\site-packages\\sklearn\\linear_model\\_coordinate_descent.py:472: ConvergenceWarning: Objective did not converge. You might want to increase the number of iterations. Duality gap: 4.102523153218499, tolerance: 2.199157471365639\n",
      "  tol, rng, random, positive)\n",
      "C:\\Users\\Alastair Tyson\\anaconda3\\lib\\site-packages\\sklearn\\linear_model\\_coordinate_descent.py:472: ConvergenceWarning: Objective did not converge. You might want to increase the number of iterations. Duality gap: 11.50397251389768, tolerance: 2.199157471365639\n",
      "  tol, rng, random, positive)\n",
      "C:\\Users\\Alastair Tyson\\anaconda3\\lib\\site-packages\\sklearn\\linear_model\\_coordinate_descent.py:472: ConvergenceWarning: Objective did not converge. You might want to increase the number of iterations. Duality gap: 11.520882246926703, tolerance: 2.199157471365639\n",
      "  tol, rng, random, positive)\n",
      "C:\\Users\\Alastair Tyson\\anaconda3\\lib\\site-packages\\sklearn\\linear_model\\_coordinate_descent.py:472: ConvergenceWarning: Objective did not converge. You might want to increase the number of iterations. Duality gap: 11.560899519163286, tolerance: 2.199157471365639\n",
      "  tol, rng, random, positive)\n",
      "C:\\Users\\Alastair Tyson\\anaconda3\\lib\\site-packages\\sklearn\\linear_model\\_coordinate_descent.py:472: ConvergenceWarning: Objective did not converge. You might want to increase the number of iterations. Duality gap: 11.487717488285853, tolerance: 2.199157471365639\n",
      "  tol, rng, random, positive)\n",
      "C:\\Users\\Alastair Tyson\\anaconda3\\lib\\site-packages\\sklearn\\linear_model\\_coordinate_descent.py:472: ConvergenceWarning: Objective did not converge. You might want to increase the number of iterations. Duality gap: 11.331515421397853, tolerance: 2.199157471365639\n",
      "  tol, rng, random, positive)\n",
      "C:\\Users\\Alastair Tyson\\anaconda3\\lib\\site-packages\\sklearn\\linear_model\\_coordinate_descent.py:472: ConvergenceWarning: Objective did not converge. You might want to increase the number of iterations. Duality gap: 11.111096103821183, tolerance: 2.199157471365639\n",
      "  tol, rng, random, positive)\n",
      "C:\\Users\\Alastair Tyson\\anaconda3\\lib\\site-packages\\sklearn\\linear_model\\_coordinate_descent.py:472: ConvergenceWarning: Objective did not converge. You might want to increase the number of iterations. Duality gap: 10.840849673468256, tolerance: 2.199157471365639\n",
      "  tol, rng, random, positive)\n",
      "C:\\Users\\Alastair Tyson\\anaconda3\\lib\\site-packages\\sklearn\\linear_model\\_coordinate_descent.py:472: ConvergenceWarning: Objective did not converge. You might want to increase the number of iterations. Duality gap: 10.532619839690597, tolerance: 2.199157471365639\n",
      "  tol, rng, random, positive)\n",
      "C:\\Users\\Alastair Tyson\\anaconda3\\lib\\site-packages\\sklearn\\linear_model\\_coordinate_descent.py:472: ConvergenceWarning: Objective did not converge. You might want to increase the number of iterations. Duality gap: 10.196297445434539, tolerance: 2.199157471365639\n",
      "  tol, rng, random, positive)\n",
      "C:\\Users\\Alastair Tyson\\anaconda3\\lib\\site-packages\\sklearn\\linear_model\\_coordinate_descent.py:472: ConvergenceWarning: Objective did not converge. You might want to increase the number of iterations. Duality gap: 9.840142754952467, tolerance: 2.199157471365639\n",
      "  tol, rng, random, positive)\n",
      "C:\\Users\\Alastair Tyson\\anaconda3\\lib\\site-packages\\sklearn\\linear_model\\_coordinate_descent.py:472: ConvergenceWarning: Objective did not converge. You might want to increase the number of iterations. Duality gap: 9.47102834821635, tolerance: 2.199157471365639\n",
      "  tol, rng, random, positive)\n",
      "C:\\Users\\Alastair Tyson\\anaconda3\\lib\\site-packages\\sklearn\\linear_model\\_coordinate_descent.py:472: ConvergenceWarning: Objective did not converge. You might want to increase the number of iterations. Duality gap: 9.094642247928277, tolerance: 2.199157471365639\n",
      "  tol, rng, random, positive)\n",
      "C:\\Users\\Alastair Tyson\\anaconda3\\lib\\site-packages\\sklearn\\linear_model\\_coordinate_descent.py:472: ConvergenceWarning: Objective did not converge. You might want to increase the number of iterations. Duality gap: 8.715661963425191, tolerance: 2.199157471365639\n",
      "  tol, rng, random, positive)\n",
      "C:\\Users\\Alastair Tyson\\anaconda3\\lib\\site-packages\\sklearn\\linear_model\\_coordinate_descent.py:472: ConvergenceWarning: Objective did not converge. You might want to increase the number of iterations. Duality gap: 8.337904329702724, tolerance: 2.199157471365639\n",
      "  tol, rng, random, positive)\n",
      "C:\\Users\\Alastair Tyson\\anaconda3\\lib\\site-packages\\sklearn\\linear_model\\_coordinate_descent.py:472: ConvergenceWarning: Objective did not converge. You might want to increase the number of iterations. Duality gap: 25.07989246192119, tolerance: 2.199157471365639\n",
      "  tol, rng, random, positive)\n",
      "C:\\Users\\Alastair Tyson\\anaconda3\\lib\\site-packages\\sklearn\\linear_model\\_coordinate_descent.py:472: ConvergenceWarning: Objective did not converge. You might want to increase the number of iterations. Duality gap: 39.273995563291464, tolerance: 2.199157471365639\n",
      "  tol, rng, random, positive)\n",
      "C:\\Users\\Alastair Tyson\\anaconda3\\lib\\site-packages\\sklearn\\linear_model\\_coordinate_descent.py:472: ConvergenceWarning: Objective did not converge. You might want to increase the number of iterations. Duality gap: 40.243327775442594, tolerance: 2.199157471365639\n",
      "  tol, rng, random, positive)\n",
      "C:\\Users\\Alastair Tyson\\anaconda3\\lib\\site-packages\\sklearn\\linear_model\\_coordinate_descent.py:472: ConvergenceWarning: Objective did not converge. You might want to increase the number of iterations. Duality gap: 40.82893628786496, tolerance: 2.199157471365639\n",
      "  tol, rng, random, positive)\n",
      "C:\\Users\\Alastair Tyson\\anaconda3\\lib\\site-packages\\sklearn\\linear_model\\_coordinate_descent.py:472: ConvergenceWarning: Objective did not converge. You might want to increase the number of iterations. Duality gap: 40.92402864763608, tolerance: 2.199157471365639\n",
      "  tol, rng, random, positive)\n",
      "C:\\Users\\Alastair Tyson\\anaconda3\\lib\\site-packages\\sklearn\\linear_model\\_coordinate_descent.py:472: ConvergenceWarning: Objective did not converge. You might want to increase the number of iterations. Duality gap: 40.68233422411231, tolerance: 2.199157471365639\n",
      "  tol, rng, random, positive)\n",
      "C:\\Users\\Alastair Tyson\\anaconda3\\lib\\site-packages\\sklearn\\linear_model\\_coordinate_descent.py:472: ConvergenceWarning: Objective did not converge. You might want to increase the number of iterations. Duality gap: 40.179814187829834, tolerance: 2.199157471365639\n",
      "  tol, rng, random, positive)\n",
      "C:\\Users\\Alastair Tyson\\anaconda3\\lib\\site-packages\\sklearn\\linear_model\\_coordinate_descent.py:472: ConvergenceWarning: Objective did not converge. You might want to increase the number of iterations. Duality gap: 39.47213307680795, tolerance: 2.199157471365639\n",
      "  tol, rng, random, positive)\n",
      "C:\\Users\\Alastair Tyson\\anaconda3\\lib\\site-packages\\sklearn\\linear_model\\_coordinate_descent.py:472: ConvergenceWarning: Objective did not converge. You might want to increase the number of iterations. Duality gap: 10.469339658775425, tolerance: 2.210163162995595\n",
      "  tol, rng, random, positive)\n",
      "C:\\Users\\Alastair Tyson\\anaconda3\\lib\\site-packages\\sklearn\\linear_model\\_coordinate_descent.py:472: ConvergenceWarning: Objective did not converge. You might want to increase the number of iterations. Duality gap: 18.383706464475836, tolerance: 2.210163162995595\n",
      "  tol, rng, random, positive)\n",
      "C:\\Users\\Alastair Tyson\\anaconda3\\lib\\site-packages\\sklearn\\linear_model\\_coordinate_descent.py:472: ConvergenceWarning: Objective did not converge. You might want to increase the number of iterations. Duality gap: 20.184685877818993, tolerance: 2.210163162995595\n",
      "  tol, rng, random, positive)\n",
      "C:\\Users\\Alastair Tyson\\anaconda3\\lib\\site-packages\\sklearn\\linear_model\\_coordinate_descent.py:472: ConvergenceWarning: Objective did not converge. You might want to increase the number of iterations. Duality gap: 20.451151651286636, tolerance: 2.210163162995595\n",
      "  tol, rng, random, positive)\n",
      "C:\\Users\\Alastair Tyson\\anaconda3\\lib\\site-packages\\sklearn\\linear_model\\_coordinate_descent.py:472: ConvergenceWarning: Objective did not converge. You might want to increase the number of iterations. Duality gap: 20.30954191911769, tolerance: 2.210163162995595\n",
      "  tol, rng, random, positive)\n",
      "C:\\Users\\Alastair Tyson\\anaconda3\\lib\\site-packages\\sklearn\\linear_model\\_coordinate_descent.py:472: ConvergenceWarning: Objective did not converge. You might want to increase the number of iterations. Duality gap: 19.987048631899597, tolerance: 2.210163162995595\n",
      "  tol, rng, random, positive)\n",
      "C:\\Users\\Alastair Tyson\\anaconda3\\lib\\site-packages\\sklearn\\linear_model\\_coordinate_descent.py:472: ConvergenceWarning: Objective did not converge. You might want to increase the number of iterations. Duality gap: 19.557288790530947, tolerance: 2.210163162995595\n",
      "  tol, rng, random, positive)\n",
      "C:\\Users\\Alastair Tyson\\anaconda3\\lib\\site-packages\\sklearn\\linear_model\\_coordinate_descent.py:472: ConvergenceWarning: Objective did not converge. You might want to increase the number of iterations. Duality gap: 19.053267429333573, tolerance: 2.210163162995595\n",
      "  tol, rng, random, positive)\n",
      "C:\\Users\\Alastair Tyson\\anaconda3\\lib\\site-packages\\sklearn\\linear_model\\_coordinate_descent.py:472: ConvergenceWarning: Objective did not converge. You might want to increase the number of iterations. Duality gap: 18.49561885631192, tolerance: 2.210163162995595\n",
      "  tol, rng, random, positive)\n",
      "C:\\Users\\Alastair Tyson\\anaconda3\\lib\\site-packages\\sklearn\\linear_model\\_coordinate_descent.py:472: ConvergenceWarning: Objective did not converge. You might want to increase the number of iterations. Duality gap: 17.899895728907723, tolerance: 2.210163162995595\n",
      "  tol, rng, random, positive)\n",
      "C:\\Users\\Alastair Tyson\\anaconda3\\lib\\site-packages\\sklearn\\linear_model\\_coordinate_descent.py:472: ConvergenceWarning: Objective did not converge. You might want to increase the number of iterations. Duality gap: 18.96551250025186, tolerance: 2.210163162995595\n",
      "  tol, rng, random, positive)\n",
      "C:\\Users\\Alastair Tyson\\anaconda3\\lib\\site-packages\\sklearn\\linear_model\\_coordinate_descent.py:472: ConvergenceWarning: Objective did not converge. You might want to increase the number of iterations. Duality gap: 19.74678084961124, tolerance: 2.210163162995595\n",
      "  tol, rng, random, positive)\n",
      "C:\\Users\\Alastair Tyson\\anaconda3\\lib\\site-packages\\sklearn\\linear_model\\_coordinate_descent.py:472: ConvergenceWarning: Objective did not converge. You might want to increase the number of iterations. Duality gap: 16.927535094242558, tolerance: 2.210163162995595\n",
      "  tol, rng, random, positive)\n",
      "C:\\Users\\Alastair Tyson\\anaconda3\\lib\\site-packages\\sklearn\\linear_model\\_coordinate_descent.py:472: ConvergenceWarning: Objective did not converge. You might want to increase the number of iterations. Duality gap: 20.110436737496457, tolerance: 2.210163162995595\n",
      "  tol, rng, random, positive)\n",
      "C:\\Users\\Alastair Tyson\\anaconda3\\lib\\site-packages\\sklearn\\linear_model\\_coordinate_descent.py:472: ConvergenceWarning: Objective did not converge. You might want to increase the number of iterations. Duality gap: 21.549698514119882, tolerance: 2.210163162995595\n",
      "  tol, rng, random, positive)\n",
      "C:\\Users\\Alastair Tyson\\anaconda3\\lib\\site-packages\\sklearn\\linear_model\\_coordinate_descent.py:472: ConvergenceWarning: Objective did not converge. You might want to increase the number of iterations. Duality gap: 22.1439515926304, tolerance: 2.210163162995595\n",
      "  tol, rng, random, positive)\n",
      "C:\\Users\\Alastair Tyson\\anaconda3\\lib\\site-packages\\sklearn\\linear_model\\_coordinate_descent.py:472: ConvergenceWarning: Objective did not converge. You might want to increase the number of iterations. Duality gap: 22.328622459390317, tolerance: 2.210163162995595\n",
      "  tol, rng, random, positive)\n",
      "C:\\Users\\Alastair Tyson\\anaconda3\\lib\\site-packages\\sklearn\\linear_model\\_coordinate_descent.py:472: ConvergenceWarning: Objective did not converge. You might want to increase the number of iterations. Duality gap: 22.265911798012894, tolerance: 2.210163162995595\n",
      "  tol, rng, random, positive)\n",
      "C:\\Users\\Alastair Tyson\\anaconda3\\lib\\site-packages\\sklearn\\linear_model\\_coordinate_descent.py:472: ConvergenceWarning: Objective did not converge. You might want to increase the number of iterations. Duality gap: 22.025612840090616, tolerance: 2.210163162995595\n",
      "  tol, rng, random, positive)\n",
      "C:\\Users\\Alastair Tyson\\anaconda3\\lib\\site-packages\\sklearn\\linear_model\\_coordinate_descent.py:472: ConvergenceWarning: Objective did not converge. You might want to increase the number of iterations. Duality gap: 21.64926453377302, tolerance: 2.210163162995595\n",
      "  tol, rng, random, positive)\n",
      "C:\\Users\\Alastair Tyson\\anaconda3\\lib\\site-packages\\sklearn\\linear_model\\_coordinate_descent.py:472: ConvergenceWarning: Objective did not converge. You might want to increase the number of iterations. Duality gap: 34.38523566339609, tolerance: 2.210163162995595\n",
      "  tol, rng, random, positive)\n",
      "C:\\Users\\Alastair Tyson\\anaconda3\\lib\\site-packages\\sklearn\\linear_model\\_coordinate_descent.py:472: ConvergenceWarning: Objective did not converge. You might want to increase the number of iterations. Duality gap: 37.042258922489054, tolerance: 2.210163162995595\n",
      "  tol, rng, random, positive)\n",
      "C:\\Users\\Alastair Tyson\\anaconda3\\lib\\site-packages\\sklearn\\linear_model\\_coordinate_descent.py:476: ConvergenceWarning: Objective did not converge. You might want to increase the number of iterations. Duality gap: 2502.284605318527, tolerance: 2.6764862685512365\n",
      "  positive)\n",
      "C:\\Users\\Alastair Tyson\\anaconda3\\lib\\site-packages\\sklearn\\linear_model\\_coordinate_descent.py:472: ConvergenceWarning: Objective did not converge. You might want to increase the number of iterations. Duality gap: 5.520888379829557, tolerance: 1.9031167654867256\n",
      "  tol, rng, random, positive)\n",
      "C:\\Users\\Alastair Tyson\\anaconda3\\lib\\site-packages\\sklearn\\linear_model\\_coordinate_descent.py:472: ConvergenceWarning: Objective did not converge. You might want to increase the number of iterations. Duality gap: 6.224342066601821, tolerance: 1.9031167654867256\n",
      "  tol, rng, random, positive)\n",
      "C:\\Users\\Alastair Tyson\\anaconda3\\lib\\site-packages\\sklearn\\linear_model\\_coordinate_descent.py:472: ConvergenceWarning: Objective did not converge. You might want to increase the number of iterations. Duality gap: 6.045009301585196, tolerance: 1.9031167654867256\n",
      "  tol, rng, random, positive)\n",
      "C:\\Users\\Alastair Tyson\\anaconda3\\lib\\site-packages\\sklearn\\linear_model\\_coordinate_descent.py:472: ConvergenceWarning: Objective did not converge. You might want to increase the number of iterations. Duality gap: 5.753335668148793, tolerance: 1.9031167654867256\n",
      "  tol, rng, random, positive)\n",
      "C:\\Users\\Alastair Tyson\\anaconda3\\lib\\site-packages\\sklearn\\linear_model\\_coordinate_descent.py:472: ConvergenceWarning: Objective did not converge. You might want to increase the number of iterations. Duality gap: 5.335124263248872, tolerance: 1.9031167654867256\n",
      "  tol, rng, random, positive)\n",
      "C:\\Users\\Alastair Tyson\\anaconda3\\lib\\site-packages\\sklearn\\linear_model\\_coordinate_descent.py:472: ConvergenceWarning: Objective did not converge. You might want to increase the number of iterations. Duality gap: 2.970027573959669, tolerance: 1.9031167654867256\n",
      "  tol, rng, random, positive)\n",
      "C:\\Users\\Alastair Tyson\\anaconda3\\lib\\site-packages\\sklearn\\linear_model\\_coordinate_descent.py:472: ConvergenceWarning: Objective did not converge. You might want to increase the number of iterations. Duality gap: 2.630029385900343, tolerance: 1.9031167654867256\n",
      "  tol, rng, random, positive)\n",
      "C:\\Users\\Alastair Tyson\\anaconda3\\lib\\site-packages\\sklearn\\linear_model\\_coordinate_descent.py:472: ConvergenceWarning: Objective did not converge. You might want to increase the number of iterations. Duality gap: 8.586896330053605, tolerance: 1.9031167654867256\n",
      "  tol, rng, random, positive)\n",
      "C:\\Users\\Alastair Tyson\\anaconda3\\lib\\site-packages\\sklearn\\linear_model\\_coordinate_descent.py:472: ConvergenceWarning: Objective did not converge. You might want to increase the number of iterations. Duality gap: 6.8687644115179864, tolerance: 1.9031167654867256\n",
      "  tol, rng, random, positive)\n",
      "C:\\Users\\Alastair Tyson\\anaconda3\\lib\\site-packages\\sklearn\\linear_model\\_coordinate_descent.py:472: ConvergenceWarning: Objective did not converge. You might want to increase the number of iterations. Duality gap: 7.013631451483889, tolerance: 1.9031167654867256\n",
      "  tol, rng, random, positive)\n",
      "C:\\Users\\Alastair Tyson\\anaconda3\\lib\\site-packages\\sklearn\\linear_model\\_coordinate_descent.py:472: ConvergenceWarning: Objective did not converge. You might want to increase the number of iterations. Duality gap: 65.39601844466051, tolerance: 1.9031167654867256\n",
      "  tol, rng, random, positive)\n",
      "C:\\Users\\Alastair Tyson\\anaconda3\\lib\\site-packages\\sklearn\\linear_model\\_coordinate_descent.py:472: ConvergenceWarning: Objective did not converge. You might want to increase the number of iterations. Duality gap: 93.00319415089871, tolerance: 1.9031167654867256\n",
      "  tol, rng, random, positive)\n",
      "C:\\Users\\Alastair Tyson\\anaconda3\\lib\\site-packages\\sklearn\\linear_model\\_coordinate_descent.py:472: ConvergenceWarning: Objective did not converge. You might want to increase the number of iterations. Duality gap: 87.61338981329936, tolerance: 1.9031167654867256\n",
      "  tol, rng, random, positive)\n",
      "C:\\Users\\Alastair Tyson\\anaconda3\\lib\\site-packages\\sklearn\\linear_model\\_coordinate_descent.py:472: ConvergenceWarning: Objective did not converge. You might want to increase the number of iterations. Duality gap: 93.9088583177363, tolerance: 1.9031167654867256\n",
      "  tol, rng, random, positive)\n",
      "C:\\Users\\Alastair Tyson\\anaconda3\\lib\\site-packages\\sklearn\\linear_model\\_coordinate_descent.py:472: ConvergenceWarning: Objective did not converge. You might want to increase the number of iterations. Duality gap: 96.84168484272595, tolerance: 1.9031167654867256\n",
      "  tol, rng, random, positive)\n",
      "C:\\Users\\Alastair Tyson\\anaconda3\\lib\\site-packages\\sklearn\\linear_model\\_coordinate_descent.py:472: ConvergenceWarning: Objective did not converge. You might want to increase the number of iterations. Duality gap: 98.5638794528495, tolerance: 1.9031167654867256\n",
      "  tol, rng, random, positive)\n",
      "C:\\Users\\Alastair Tyson\\anaconda3\\lib\\site-packages\\sklearn\\linear_model\\_coordinate_descent.py:472: ConvergenceWarning: Objective did not converge. You might want to increase the number of iterations. Duality gap: 99.24854529084405, tolerance: 1.9031167654867256\n",
      "  tol, rng, random, positive)\n",
      "C:\\Users\\Alastair Tyson\\anaconda3\\lib\\site-packages\\sklearn\\linear_model\\_coordinate_descent.py:472: ConvergenceWarning: Objective did not converge. You might want to increase the number of iterations. Duality gap: 25.470042399254453, tolerance: 1.9031167654867256\n",
      "  tol, rng, random, positive)\n",
      "C:\\Users\\Alastair Tyson\\anaconda3\\lib\\site-packages\\sklearn\\linear_model\\_coordinate_descent.py:472: ConvergenceWarning: Objective did not converge. You might want to increase the number of iterations. Duality gap: 11.947627783387361, tolerance: 1.9031167654867256\n",
      "  tol, rng, random, positive)\n",
      "C:\\Users\\Alastair Tyson\\anaconda3\\lib\\site-packages\\sklearn\\linear_model\\_coordinate_descent.py:472: ConvergenceWarning: Objective did not converge. You might want to increase the number of iterations. Duality gap: 12.05629525913264, tolerance: 1.9031167654867256\n",
      "  tol, rng, random, positive)\n",
      "C:\\Users\\Alastair Tyson\\anaconda3\\lib\\site-packages\\sklearn\\linear_model\\_coordinate_descent.py:472: ConvergenceWarning: Objective did not converge. You might want to increase the number of iterations. Duality gap: 53.619490983574906, tolerance: 1.9031167654867256\n",
      "  tol, rng, random, positive)\n",
      "C:\\Users\\Alastair Tyson\\anaconda3\\lib\\site-packages\\sklearn\\linear_model\\_coordinate_descent.py:472: ConvergenceWarning: Objective did not converge. You might want to increase the number of iterations. Duality gap: 98.78918785934002, tolerance: 1.9031167654867256\n",
      "  tol, rng, random, positive)\n",
      "C:\\Users\\Alastair Tyson\\anaconda3\\lib\\site-packages\\sklearn\\linear_model\\_coordinate_descent.py:472: ConvergenceWarning: Objective did not converge. You might want to increase the number of iterations. Duality gap: 88.02855484694646, tolerance: 1.9031167654867256\n",
      "  tol, rng, random, positive)\n",
      "C:\\Users\\Alastair Tyson\\anaconda3\\lib\\site-packages\\sklearn\\linear_model\\_coordinate_descent.py:472: ConvergenceWarning: Objective did not converge. You might want to increase the number of iterations. Duality gap: 2.2407842306529346, tolerance: 1.86410242920354\n",
      "  tol, rng, random, positive)\n",
      "C:\\Users\\Alastair Tyson\\anaconda3\\lib\\site-packages\\sklearn\\linear_model\\_coordinate_descent.py:472: ConvergenceWarning: Objective did not converge. You might want to increase the number of iterations. Duality gap: 5.535149380059011, tolerance: 1.86410242920354\n",
      "  tol, rng, random, positive)\n",
      "C:\\Users\\Alastair Tyson\\anaconda3\\lib\\site-packages\\sklearn\\linear_model\\_coordinate_descent.py:472: ConvergenceWarning: Objective did not converge. You might want to increase the number of iterations. Duality gap: 8.985114643747693, tolerance: 1.86410242920354\n",
      "  tol, rng, random, positive)\n",
      "C:\\Users\\Alastair Tyson\\anaconda3\\lib\\site-packages\\sklearn\\linear_model\\_coordinate_descent.py:472: ConvergenceWarning: Objective did not converge. You might want to increase the number of iterations. Duality gap: 9.234767866422771, tolerance: 1.86410242920354\n",
      "  tol, rng, random, positive)\n",
      "C:\\Users\\Alastair Tyson\\anaconda3\\lib\\site-packages\\sklearn\\linear_model\\_coordinate_descent.py:472: ConvergenceWarning: Objective did not converge. You might want to increase the number of iterations. Duality gap: 8.923904549218605, tolerance: 1.86410242920354\n",
      "  tol, rng, random, positive)\n",
      "C:\\Users\\Alastair Tyson\\anaconda3\\lib\\site-packages\\sklearn\\linear_model\\_coordinate_descent.py:472: ConvergenceWarning: Objective did not converge. You might want to increase the number of iterations. Duality gap: 8.64410944566589, tolerance: 1.86410242920354\n",
      "  tol, rng, random, positive)\n",
      "C:\\Users\\Alastair Tyson\\anaconda3\\lib\\site-packages\\sklearn\\linear_model\\_coordinate_descent.py:472: ConvergenceWarning: Objective did not converge. You might want to increase the number of iterations. Duality gap: 13.4409960860321, tolerance: 1.86410242920354\n",
      "  tol, rng, random, positive)\n",
      "C:\\Users\\Alastair Tyson\\anaconda3\\lib\\site-packages\\sklearn\\linear_model\\_coordinate_descent.py:472: ConvergenceWarning: Objective did not converge. You might want to increase the number of iterations. Duality gap: 13.601268040143623, tolerance: 1.86410242920354\n",
      "  tol, rng, random, positive)\n",
      "C:\\Users\\Alastair Tyson\\anaconda3\\lib\\site-packages\\sklearn\\linear_model\\_coordinate_descent.py:472: ConvergenceWarning: Objective did not converge. You might want to increase the number of iterations. Duality gap: 13.538632026145024, tolerance: 1.86410242920354\n",
      "  tol, rng, random, positive)\n",
      "C:\\Users\\Alastair Tyson\\anaconda3\\lib\\site-packages\\sklearn\\linear_model\\_coordinate_descent.py:472: ConvergenceWarning: Objective did not converge. You might want to increase the number of iterations. Duality gap: 13.378704772320816, tolerance: 1.86410242920354\n",
      "  tol, rng, random, positive)\n",
      "C:\\Users\\Alastair Tyson\\anaconda3\\lib\\site-packages\\sklearn\\linear_model\\_coordinate_descent.py:472: ConvergenceWarning: Objective did not converge. You might want to increase the number of iterations. Duality gap: 13.143665594435333, tolerance: 1.86410242920354\n",
      "  tol, rng, random, positive)\n",
      "C:\\Users\\Alastair Tyson\\anaconda3\\lib\\site-packages\\sklearn\\linear_model\\_coordinate_descent.py:472: ConvergenceWarning: Objective did not converge. You might want to increase the number of iterations. Duality gap: 4.778416273014955, tolerance: 1.86410242920354\n",
      "  tol, rng, random, positive)\n",
      "C:\\Users\\Alastair Tyson\\anaconda3\\lib\\site-packages\\sklearn\\linear_model\\_coordinate_descent.py:472: ConvergenceWarning: Objective did not converge. You might want to increase the number of iterations. Duality gap: 39.06378677179782, tolerance: 1.86410242920354\n",
      "  tol, rng, random, positive)\n",
      "C:\\Users\\Alastair Tyson\\anaconda3\\lib\\site-packages\\sklearn\\linear_model\\_coordinate_descent.py:472: ConvergenceWarning: Objective did not converge. You might want to increase the number of iterations. Duality gap: 38.56210886185636, tolerance: 1.86410242920354\n",
      "  tol, rng, random, positive)\n",
      "C:\\Users\\Alastair Tyson\\anaconda3\\lib\\site-packages\\sklearn\\linear_model\\_coordinate_descent.py:472: ConvergenceWarning: Objective did not converge. You might want to increase the number of iterations. Duality gap: 38.40567394415848, tolerance: 1.86410242920354\n",
      "  tol, rng, random, positive)\n",
      "C:\\Users\\Alastair Tyson\\anaconda3\\lib\\site-packages\\sklearn\\linear_model\\_coordinate_descent.py:472: ConvergenceWarning: Objective did not converge. You might want to increase the number of iterations. Duality gap: 179.31502074407217, tolerance: 1.86410242920354\n",
      "  tol, rng, random, positive)\n",
      "C:\\Users\\Alastair Tyson\\anaconda3\\lib\\site-packages\\sklearn\\linear_model\\_coordinate_descent.py:472: ConvergenceWarning: Objective did not converge. You might want to increase the number of iterations. Duality gap: 156.98803131940258, tolerance: 1.86410242920354\n",
      "  tol, rng, random, positive)\n",
      "C:\\Users\\Alastair Tyson\\anaconda3\\lib\\site-packages\\sklearn\\linear_model\\_coordinate_descent.py:472: ConvergenceWarning: Objective did not converge. You might want to increase the number of iterations. Duality gap: 147.86381436423744, tolerance: 1.86410242920354\n",
      "  tol, rng, random, positive)\n",
      "C:\\Users\\Alastair Tyson\\anaconda3\\lib\\site-packages\\sklearn\\linear_model\\_coordinate_descent.py:472: ConvergenceWarning: Objective did not converge. You might want to increase the number of iterations. Duality gap: 154.53956192355872, tolerance: 1.86410242920354\n",
      "  tol, rng, random, positive)\n",
      "C:\\Users\\Alastair Tyson\\anaconda3\\lib\\site-packages\\sklearn\\linear_model\\_coordinate_descent.py:472: ConvergenceWarning: Objective did not converge. You might want to increase the number of iterations. Duality gap: 155.4531753944393, tolerance: 1.86410242920354\n",
      "  tol, rng, random, positive)\n",
      "C:\\Users\\Alastair Tyson\\anaconda3\\lib\\site-packages\\sklearn\\linear_model\\_coordinate_descent.py:472: ConvergenceWarning: Objective did not converge. You might want to increase the number of iterations. Duality gap: 155.20853696477025, tolerance: 1.86410242920354\n",
      "  tol, rng, random, positive)\n",
      "C:\\Users\\Alastair Tyson\\anaconda3\\lib\\site-packages\\sklearn\\linear_model\\_coordinate_descent.py:472: ConvergenceWarning: Objective did not converge. You might want to increase the number of iterations. Duality gap: 154.00694547835064, tolerance: 1.86410242920354\n",
      "  tol, rng, random, positive)\n",
      "C:\\Users\\Alastair Tyson\\anaconda3\\lib\\site-packages\\sklearn\\linear_model\\_coordinate_descent.py:472: ConvergenceWarning: Objective did not converge. You might want to increase the number of iterations. Duality gap: 152.05978263472753, tolerance: 1.86410242920354\n",
      "  tol, rng, random, positive)\n",
      "C:\\Users\\Alastair Tyson\\anaconda3\\lib\\site-packages\\sklearn\\linear_model\\_coordinate_descent.py:472: ConvergenceWarning: Objective did not converge. You might want to increase the number of iterations. Duality gap: 44.62459530283013, tolerance: 1.86410242920354\n",
      "  tol, rng, random, positive)\n",
      "C:\\Users\\Alastair Tyson\\anaconda3\\lib\\site-packages\\sklearn\\linear_model\\_coordinate_descent.py:472: ConvergenceWarning: Objective did not converge. You might want to increase the number of iterations. Duality gap: 8.677400321737878, tolerance: 1.9304866415929203\n",
      "  tol, rng, random, positive)\n",
      "C:\\Users\\Alastair Tyson\\anaconda3\\lib\\site-packages\\sklearn\\linear_model\\_coordinate_descent.py:472: ConvergenceWarning: Objective did not converge. You might want to increase the number of iterations. Duality gap: 8.517620189171794, tolerance: 1.9304866415929203\n",
      "  tol, rng, random, positive)\n",
      "C:\\Users\\Alastair Tyson\\anaconda3\\lib\\site-packages\\sklearn\\linear_model\\_coordinate_descent.py:472: ConvergenceWarning: Objective did not converge. You might want to increase the number of iterations. Duality gap: 6.504688839437222, tolerance: 1.9304866415929203\n",
      "  tol, rng, random, positive)\n",
      "C:\\Users\\Alastair Tyson\\anaconda3\\lib\\site-packages\\sklearn\\linear_model\\_coordinate_descent.py:472: ConvergenceWarning: Objective did not converge. You might want to increase the number of iterations. Duality gap: 6.193197145092199, tolerance: 1.9304866415929203\n",
      "  tol, rng, random, positive)\n",
      "C:\\Users\\Alastair Tyson\\anaconda3\\lib\\site-packages\\sklearn\\linear_model\\_coordinate_descent.py:472: ConvergenceWarning: Objective did not converge. You might want to increase the number of iterations. Duality gap: 6.124505052719542, tolerance: 1.9304866415929203\n",
      "  tol, rng, random, positive)\n",
      "C:\\Users\\Alastair Tyson\\anaconda3\\lib\\site-packages\\sklearn\\linear_model\\_coordinate_descent.py:472: ConvergenceWarning: Objective did not converge. You might want to increase the number of iterations. Duality gap: 6.058764269655512, tolerance: 1.9304866415929203\n",
      "  tol, rng, random, positive)\n",
      "C:\\Users\\Alastair Tyson\\anaconda3\\lib\\site-packages\\sklearn\\linear_model\\_coordinate_descent.py:472: ConvergenceWarning: Objective did not converge. You might want to increase the number of iterations. Duality gap: 5.961530433040025, tolerance: 1.9304866415929203\n",
      "  tol, rng, random, positive)\n",
      "C:\\Users\\Alastair Tyson\\anaconda3\\lib\\site-packages\\sklearn\\linear_model\\_coordinate_descent.py:472: ConvergenceWarning: Objective did not converge. You might want to increase the number of iterations. Duality gap: 10.267533524525788, tolerance: 1.9304866415929203\n",
      "  tol, rng, random, positive)\n",
      "C:\\Users\\Alastair Tyson\\anaconda3\\lib\\site-packages\\sklearn\\linear_model\\_coordinate_descent.py:472: ConvergenceWarning: Objective did not converge. You might want to increase the number of iterations. Duality gap: 14.892687171122816, tolerance: 1.9304866415929203\n",
      "  tol, rng, random, positive)\n",
      "C:\\Users\\Alastair Tyson\\anaconda3\\lib\\site-packages\\sklearn\\linear_model\\_coordinate_descent.py:472: ConvergenceWarning: Objective did not converge. You might want to increase the number of iterations. Duality gap: 15.928642901906642, tolerance: 1.9304866415929203\n",
      "  tol, rng, random, positive)\n",
      "C:\\Users\\Alastair Tyson\\anaconda3\\lib\\site-packages\\sklearn\\linear_model\\_coordinate_descent.py:472: ConvergenceWarning: Objective did not converge. You might want to increase the number of iterations. Duality gap: 16.139840932371044, tolerance: 1.9304866415929203\n",
      "  tol, rng, random, positive)\n",
      "C:\\Users\\Alastair Tyson\\anaconda3\\lib\\site-packages\\sklearn\\linear_model\\_coordinate_descent.py:472: ConvergenceWarning: Objective did not converge. You might want to increase the number of iterations. Duality gap: 16.086621475503307, tolerance: 1.9304866415929203\n",
      "  tol, rng, random, positive)\n",
      "C:\\Users\\Alastair Tyson\\anaconda3\\lib\\site-packages\\sklearn\\linear_model\\_coordinate_descent.py:472: ConvergenceWarning: Objective did not converge. You might want to increase the number of iterations. Duality gap: 15.89440370599732, tolerance: 1.9304866415929203\n",
      "  tol, rng, random, positive)\n",
      "C:\\Users\\Alastair Tyson\\anaconda3\\lib\\site-packages\\sklearn\\linear_model\\_coordinate_descent.py:472: ConvergenceWarning: Objective did not converge. You might want to increase the number of iterations. Duality gap: 15.604949226179997, tolerance: 1.9304866415929203\n",
      "  tol, rng, random, positive)\n",
      "C:\\Users\\Alastair Tyson\\anaconda3\\lib\\site-packages\\sklearn\\linear_model\\_coordinate_descent.py:472: ConvergenceWarning: Objective did not converge. You might want to increase the number of iterations. Duality gap: 55.29404812307257, tolerance: 1.9304866415929203\n",
      "  tol, rng, random, positive)\n",
      "C:\\Users\\Alastair Tyson\\anaconda3\\lib\\site-packages\\sklearn\\linear_model\\_coordinate_descent.py:472: ConvergenceWarning: Objective did not converge. You might want to increase the number of iterations. Duality gap: 60.03221542960273, tolerance: 1.9304866415929203\n",
      "  tol, rng, random, positive)\n",
      "C:\\Users\\Alastair Tyson\\anaconda3\\lib\\site-packages\\sklearn\\linear_model\\_coordinate_descent.py:472: ConvergenceWarning: Objective did not converge. You might want to increase the number of iterations. Duality gap: 65.21035788260633, tolerance: 1.9304866415929203\n",
      "  tol, rng, random, positive)\n",
      "C:\\Users\\Alastair Tyson\\anaconda3\\lib\\site-packages\\sklearn\\linear_model\\_coordinate_descent.py:472: ConvergenceWarning: Objective did not converge. You might want to increase the number of iterations. Duality gap: 84.11799711348431, tolerance: 1.9304866415929203\n",
      "  tol, rng, random, positive)\n",
      "C:\\Users\\Alastair Tyson\\anaconda3\\lib\\site-packages\\sklearn\\linear_model\\_coordinate_descent.py:472: ConvergenceWarning: Objective did not converge. You might want to increase the number of iterations. Duality gap: 61.25761075898663, tolerance: 1.9304866415929203\n",
      "  tol, rng, random, positive)\n",
      "C:\\Users\\Alastair Tyson\\anaconda3\\lib\\site-packages\\sklearn\\linear_model\\_coordinate_descent.py:472: ConvergenceWarning: Objective did not converge. You might want to increase the number of iterations. Duality gap: 59.94047605110882, tolerance: 1.9304866415929203\n",
      "  tol, rng, random, positive)\n",
      "C:\\Users\\Alastair Tyson\\anaconda3\\lib\\site-packages\\sklearn\\linear_model\\_coordinate_descent.py:472: ConvergenceWarning: Objective did not converge. You might want to increase the number of iterations. Duality gap: 58.68770043211225, tolerance: 1.9304866415929203\n",
      "  tol, rng, random, positive)\n",
      "C:\\Users\\Alastair Tyson\\anaconda3\\lib\\site-packages\\sklearn\\linear_model\\_coordinate_descent.py:472: ConvergenceWarning: Objective did not converge. You might want to increase the number of iterations. Duality gap: 57.364531943436305, tolerance: 1.9304866415929203\n",
      "  tol, rng, random, positive)\n",
      "C:\\Users\\Alastair Tyson\\anaconda3\\lib\\site-packages\\sklearn\\linear_model\\_coordinate_descent.py:472: ConvergenceWarning: Objective did not converge. You might want to increase the number of iterations. Duality gap: 55.936424571940734, tolerance: 1.9304866415929203\n",
      "  tol, rng, random, positive)\n",
      "C:\\Users\\Alastair Tyson\\anaconda3\\lib\\site-packages\\sklearn\\linear_model\\_coordinate_descent.py:472: ConvergenceWarning: Objective did not converge. You might want to increase the number of iterations. Duality gap: 3.7272389265526726, tolerance: 1.9028080792951545\n",
      "  tol, rng, random, positive)\n"
     ]
    },
    {
     "name": "stderr",
     "output_type": "stream",
     "text": [
      "C:\\Users\\Alastair Tyson\\anaconda3\\lib\\site-packages\\sklearn\\linear_model\\_coordinate_descent.py:472: ConvergenceWarning: Objective did not converge. You might want to increase the number of iterations. Duality gap: 7.89731114121787, tolerance: 1.9028080792951545\n",
      "  tol, rng, random, positive)\n",
      "C:\\Users\\Alastair Tyson\\anaconda3\\lib\\site-packages\\sklearn\\linear_model\\_coordinate_descent.py:472: ConvergenceWarning: Objective did not converge. You might want to increase the number of iterations. Duality gap: 9.349135926509916, tolerance: 1.9028080792951545\n",
      "  tol, rng, random, positive)\n",
      "C:\\Users\\Alastair Tyson\\anaconda3\\lib\\site-packages\\sklearn\\linear_model\\_coordinate_descent.py:472: ConvergenceWarning: Objective did not converge. You might want to increase the number of iterations. Duality gap: 9.4313887639928, tolerance: 1.9028080792951545\n",
      "  tol, rng, random, positive)\n",
      "C:\\Users\\Alastair Tyson\\anaconda3\\lib\\site-packages\\sklearn\\linear_model\\_coordinate_descent.py:472: ConvergenceWarning: Objective did not converge. You might want to increase the number of iterations. Duality gap: 9.419367404437253, tolerance: 1.9028080792951545\n",
      "  tol, rng, random, positive)\n",
      "C:\\Users\\Alastair Tyson\\anaconda3\\lib\\site-packages\\sklearn\\linear_model\\_coordinate_descent.py:472: ConvergenceWarning: Objective did not converge. You might want to increase the number of iterations. Duality gap: 9.334505122707924, tolerance: 1.9028080792951545\n",
      "  tol, rng, random, positive)\n",
      "C:\\Users\\Alastair Tyson\\anaconda3\\lib\\site-packages\\sklearn\\linear_model\\_coordinate_descent.py:472: ConvergenceWarning: Objective did not converge. You might want to increase the number of iterations. Duality gap: 9.188693191817038, tolerance: 1.9028080792951545\n",
      "  tol, rng, random, positive)\n",
      "C:\\Users\\Alastair Tyson\\anaconda3\\lib\\site-packages\\sklearn\\linear_model\\_coordinate_descent.py:472: ConvergenceWarning: Objective did not converge. You might want to increase the number of iterations. Duality gap: 8.994053507612989, tolerance: 1.9028080792951545\n",
      "  tol, rng, random, positive)\n",
      "C:\\Users\\Alastair Tyson\\anaconda3\\lib\\site-packages\\sklearn\\linear_model\\_coordinate_descent.py:472: ConvergenceWarning: Objective did not converge. You might want to increase the number of iterations. Duality gap: 8.761383175740775, tolerance: 1.9028080792951545\n",
      "  tol, rng, random, positive)\n",
      "C:\\Users\\Alastair Tyson\\anaconda3\\lib\\site-packages\\sklearn\\linear_model\\_coordinate_descent.py:472: ConvergenceWarning: Objective did not converge. You might want to increase the number of iterations. Duality gap: 8.499883573337684, tolerance: 1.9028080792951545\n",
      "  tol, rng, random, positive)\n",
      "C:\\Users\\Alastair Tyson\\anaconda3\\lib\\site-packages\\sklearn\\linear_model\\_coordinate_descent.py:472: ConvergenceWarning: Objective did not converge. You might want to increase the number of iterations. Duality gap: 8.217291194356221, tolerance: 1.9028080792951545\n",
      "  tol, rng, random, positive)\n",
      "C:\\Users\\Alastair Tyson\\anaconda3\\lib\\site-packages\\sklearn\\linear_model\\_coordinate_descent.py:472: ConvergenceWarning: Objective did not converge. You might want to increase the number of iterations. Duality gap: 7.920069891175444, tolerance: 1.9028080792951545\n",
      "  tol, rng, random, positive)\n",
      "C:\\Users\\Alastair Tyson\\anaconda3\\lib\\site-packages\\sklearn\\linear_model\\_coordinate_descent.py:472: ConvergenceWarning: Objective did not converge. You might want to increase the number of iterations. Duality gap: 7.61359166449256, tolerance: 1.9028080792951545\n",
      "  tol, rng, random, positive)\n",
      "C:\\Users\\Alastair Tyson\\anaconda3\\lib\\site-packages\\sklearn\\linear_model\\_coordinate_descent.py:472: ConvergenceWarning: Objective did not converge. You might want to increase the number of iterations. Duality gap: 7.302295259275525, tolerance: 1.9028080792951545\n",
      "  tol, rng, random, positive)\n",
      "C:\\Users\\Alastair Tyson\\anaconda3\\lib\\site-packages\\sklearn\\linear_model\\_coordinate_descent.py:472: ConvergenceWarning: Objective did not converge. You might want to increase the number of iterations. Duality gap: 96.62343024226357, tolerance: 1.9028080792951545\n",
      "  tol, rng, random, positive)\n",
      "C:\\Users\\Alastair Tyson\\anaconda3\\lib\\site-packages\\sklearn\\linear_model\\_coordinate_descent.py:472: ConvergenceWarning: Objective did not converge. You might want to increase the number of iterations. Duality gap: 142.11369493478924, tolerance: 1.9028080792951545\n",
      "  tol, rng, random, positive)\n",
      "C:\\Users\\Alastair Tyson\\anaconda3\\lib\\site-packages\\sklearn\\linear_model\\_coordinate_descent.py:472: ConvergenceWarning: Objective did not converge. You might want to increase the number of iterations. Duality gap: 127.60223610478533, tolerance: 1.9028080792951545\n",
      "  tol, rng, random, positive)\n",
      "C:\\Users\\Alastair Tyson\\anaconda3\\lib\\site-packages\\sklearn\\linear_model\\_coordinate_descent.py:472: ConvergenceWarning: Objective did not converge. You might want to increase the number of iterations. Duality gap: 131.68655837507868, tolerance: 1.9028080792951545\n",
      "  tol, rng, random, positive)\n",
      "C:\\Users\\Alastair Tyson\\anaconda3\\lib\\site-packages\\sklearn\\linear_model\\_coordinate_descent.py:472: ConvergenceWarning: Objective did not converge. You might want to increase the number of iterations. Duality gap: 132.17172176105487, tolerance: 1.9028080792951545\n",
      "  tol, rng, random, positive)\n",
      "C:\\Users\\Alastair Tyson\\anaconda3\\lib\\site-packages\\sklearn\\linear_model\\_coordinate_descent.py:472: ConvergenceWarning: Objective did not converge. You might want to increase the number of iterations. Duality gap: 131.74946697339783, tolerance: 1.9028080792951545\n",
      "  tol, rng, random, positive)\n",
      "C:\\Users\\Alastair Tyson\\anaconda3\\lib\\site-packages\\sklearn\\linear_model\\_coordinate_descent.py:472: ConvergenceWarning: Objective did not converge. You might want to increase the number of iterations. Duality gap: 130.59874621204654, tolerance: 1.9028080792951545\n",
      "  tol, rng, random, positive)\n",
      "C:\\Users\\Alastair Tyson\\anaconda3\\lib\\site-packages\\sklearn\\linear_model\\_coordinate_descent.py:472: ConvergenceWarning: Objective did not converge. You might want to increase the number of iterations. Duality gap: 128.8671439636837, tolerance: 1.9028080792951545\n",
      "  tol, rng, random, positive)\n",
      "C:\\Users\\Alastair Tyson\\anaconda3\\lib\\site-packages\\sklearn\\linear_model\\_coordinate_descent.py:472: ConvergenceWarning: Objective did not converge. You might want to increase the number of iterations. Duality gap: 126.6839754330058, tolerance: 1.9028080792951545\n",
      "  tol, rng, random, positive)\n",
      "C:\\Users\\Alastair Tyson\\anaconda3\\lib\\site-packages\\sklearn\\linear_model\\_coordinate_descent.py:472: ConvergenceWarning: Objective did not converge. You might want to increase the number of iterations. Duality gap: 5.1660270779175335, tolerance: 1.9126787929515416\n",
      "  tol, rng, random, positive)\n",
      "C:\\Users\\Alastair Tyson\\anaconda3\\lib\\site-packages\\sklearn\\linear_model\\_coordinate_descent.py:472: ConvergenceWarning: Objective did not converge. You might want to increase the number of iterations. Duality gap: 6.324777027415621, tolerance: 1.9126787929515416\n",
      "  tol, rng, random, positive)\n",
      "C:\\Users\\Alastair Tyson\\anaconda3\\lib\\site-packages\\sklearn\\linear_model\\_coordinate_descent.py:472: ConvergenceWarning: Objective did not converge. You might want to increase the number of iterations. Duality gap: 6.428086806929059, tolerance: 1.9126787929515416\n",
      "  tol, rng, random, positive)\n",
      "C:\\Users\\Alastair Tyson\\anaconda3\\lib\\site-packages\\sklearn\\linear_model\\_coordinate_descent.py:472: ConvergenceWarning: Objective did not converge. You might want to increase the number of iterations. Duality gap: 6.305898582817463, tolerance: 1.9126787929515416\n",
      "  tol, rng, random, positive)\n",
      "C:\\Users\\Alastair Tyson\\anaconda3\\lib\\site-packages\\sklearn\\linear_model\\_coordinate_descent.py:472: ConvergenceWarning: Objective did not converge. You might want to increase the number of iterations. Duality gap: 6.1248514709241135, tolerance: 1.9126787929515416\n",
      "  tol, rng, random, positive)\n",
      "C:\\Users\\Alastair Tyson\\anaconda3\\lib\\site-packages\\sklearn\\linear_model\\_coordinate_descent.py:472: ConvergenceWarning: Objective did not converge. You might want to increase the number of iterations. Duality gap: 5.921227857592385, tolerance: 1.9126787929515416\n",
      "  tol, rng, random, positive)\n",
      "C:\\Users\\Alastair Tyson\\anaconda3\\lib\\site-packages\\sklearn\\linear_model\\_coordinate_descent.py:472: ConvergenceWarning: Objective did not converge. You might want to increase the number of iterations. Duality gap: 12.789977749685931, tolerance: 1.9126787929515416\n",
      "  tol, rng, random, positive)\n",
      "C:\\Users\\Alastair Tyson\\anaconda3\\lib\\site-packages\\sklearn\\linear_model\\_coordinate_descent.py:472: ConvergenceWarning: Objective did not converge. You might want to increase the number of iterations. Duality gap: 72.89637714700439, tolerance: 1.9126787929515416\n",
      "  tol, rng, random, positive)\n",
      "C:\\Users\\Alastair Tyson\\anaconda3\\lib\\site-packages\\sklearn\\linear_model\\_coordinate_descent.py:472: ConvergenceWarning: Objective did not converge. You might want to increase the number of iterations. Duality gap: 115.8113615029124, tolerance: 1.9126787929515416\n",
      "  tol, rng, random, positive)\n",
      "C:\\Users\\Alastair Tyson\\anaconda3\\lib\\site-packages\\sklearn\\linear_model\\_coordinate_descent.py:472: ConvergenceWarning: Objective did not converge. You might want to increase the number of iterations. Duality gap: 58.841119564096516, tolerance: 1.9126787929515416\n",
      "  tol, rng, random, positive)\n",
      "C:\\Users\\Alastair Tyson\\anaconda3\\lib\\site-packages\\sklearn\\linear_model\\_coordinate_descent.py:472: ConvergenceWarning: Objective did not converge. You might want to increase the number of iterations. Duality gap: 58.03935354429177, tolerance: 1.9126787929515416\n",
      "  tol, rng, random, positive)\n",
      "C:\\Users\\Alastair Tyson\\anaconda3\\lib\\site-packages\\sklearn\\linear_model\\_coordinate_descent.py:472: ConvergenceWarning: Objective did not converge. You might want to increase the number of iterations. Duality gap: 59.52815285555516, tolerance: 1.9126787929515416\n",
      "  tol, rng, random, positive)\n",
      "C:\\Users\\Alastair Tyson\\anaconda3\\lib\\site-packages\\sklearn\\linear_model\\_coordinate_descent.py:472: ConvergenceWarning: Objective did not converge. You might want to increase the number of iterations. Duality gap: 60.07332215076167, tolerance: 1.9126787929515416\n",
      "  tol, rng, random, positive)\n",
      "C:\\Users\\Alastair Tyson\\anaconda3\\lib\\site-packages\\sklearn\\linear_model\\_coordinate_descent.py:472: ConvergenceWarning: Objective did not converge. You might want to increase the number of iterations. Duality gap: 60.117146830008096, tolerance: 1.9126787929515416\n",
      "  tol, rng, random, positive)\n",
      "C:\\Users\\Alastair Tyson\\anaconda3\\lib\\site-packages\\sklearn\\linear_model\\_coordinate_descent.py:472: ConvergenceWarning: Objective did not converge. You might want to increase the number of iterations. Duality gap: 59.71487073598837, tolerance: 1.9126787929515416\n",
      "  tol, rng, random, positive)\n",
      "C:\\Users\\Alastair Tyson\\anaconda3\\lib\\site-packages\\sklearn\\linear_model\\_coordinate_descent.py:472: ConvergenceWarning: Objective did not converge. You might want to increase the number of iterations. Duality gap: 59.194032927371154, tolerance: 1.9126787929515416\n",
      "  tol, rng, random, positive)\n",
      "C:\\Users\\Alastair Tyson\\anaconda3\\lib\\site-packages\\sklearn\\linear_model\\_coordinate_descent.py:472: ConvergenceWarning: Objective did not converge. You might want to increase the number of iterations. Duality gap: 86.33596644422505, tolerance: 1.9126787929515416\n",
      "  tol, rng, random, positive)\n",
      "C:\\Users\\Alastair Tyson\\anaconda3\\lib\\site-packages\\sklearn\\linear_model\\_coordinate_descent.py:472: ConvergenceWarning: Objective did not converge. You might want to increase the number of iterations. Duality gap: 81.26605613781976, tolerance: 1.9126787929515416\n",
      "  tol, rng, random, positive)\n",
      "C:\\Users\\Alastair Tyson\\anaconda3\\lib\\site-packages\\sklearn\\linear_model\\_coordinate_descent.py:472: ConvergenceWarning: Objective did not converge. You might want to increase the number of iterations. Duality gap: 78.96995788903314, tolerance: 1.9126787929515416\n",
      "  tol, rng, random, positive)\n",
      "C:\\Users\\Alastair Tyson\\anaconda3\\lib\\site-packages\\sklearn\\linear_model\\_coordinate_descent.py:476: ConvergenceWarning: Objective did not converge. You might want to increase the number of iterations. Duality gap: 2277.08713486713, tolerance: 2.3791732791519435\n",
      "  positive)\n",
      "C:\\Users\\Alastair Tyson\\anaconda3\\lib\\site-packages\\sklearn\\linear_model\\_coordinate_descent.py:472: ConvergenceWarning: Objective did not converge. You might want to increase the number of iterations. Duality gap: 2.553818402637262, tolerance: 1.9573325663716814\n",
      "  tol, rng, random, positive)\n",
      "C:\\Users\\Alastair Tyson\\anaconda3\\lib\\site-packages\\sklearn\\linear_model\\_coordinate_descent.py:472: ConvergenceWarning: Objective did not converge. You might want to increase the number of iterations. Duality gap: 2.867831498877422, tolerance: 1.9573325663716814\n",
      "  tol, rng, random, positive)\n",
      "C:\\Users\\Alastair Tyson\\anaconda3\\lib\\site-packages\\sklearn\\linear_model\\_coordinate_descent.py:472: ConvergenceWarning: Objective did not converge. You might want to increase the number of iterations. Duality gap: 2.888652554678629, tolerance: 1.9573325663716814\n",
      "  tol, rng, random, positive)\n",
      "C:\\Users\\Alastair Tyson\\anaconda3\\lib\\site-packages\\sklearn\\linear_model\\_coordinate_descent.py:472: ConvergenceWarning: Objective did not converge. You might want to increase the number of iterations. Duality gap: 2.8559738282747276, tolerance: 1.9573325663716814\n",
      "  tol, rng, random, positive)\n",
      "C:\\Users\\Alastair Tyson\\anaconda3\\lib\\site-packages\\sklearn\\linear_model\\_coordinate_descent.py:472: ConvergenceWarning: Objective did not converge. You might want to increase the number of iterations. Duality gap: 6.284401994302243, tolerance: 1.9573325663716814\n",
      "  tol, rng, random, positive)\n",
      "C:\\Users\\Alastair Tyson\\anaconda3\\lib\\site-packages\\sklearn\\linear_model\\_coordinate_descent.py:472: ConvergenceWarning: Objective did not converge. You might want to increase the number of iterations. Duality gap: 5.988104193886102, tolerance: 1.9573325663716814\n",
      "  tol, rng, random, positive)\n",
      "C:\\Users\\Alastair Tyson\\anaconda3\\lib\\site-packages\\sklearn\\linear_model\\_coordinate_descent.py:472: ConvergenceWarning: Objective did not converge. You might want to increase the number of iterations. Duality gap: 5.875616732671915, tolerance: 1.9573325663716814\n",
      "  tol, rng, random, positive)\n",
      "C:\\Users\\Alastair Tyson\\anaconda3\\lib\\site-packages\\sklearn\\linear_model\\_coordinate_descent.py:472: ConvergenceWarning: Objective did not converge. You might want to increase the number of iterations. Duality gap: 5.713796416221157, tolerance: 1.9573325663716814\n",
      "  tol, rng, random, positive)\n",
      "C:\\Users\\Alastair Tyson\\anaconda3\\lib\\site-packages\\sklearn\\linear_model\\_coordinate_descent.py:472: ConvergenceWarning: Objective did not converge. You might want to increase the number of iterations. Duality gap: 14.275498937518023, tolerance: 1.9573325663716814\n",
      "  tol, rng, random, positive)\n",
      "C:\\Users\\Alastair Tyson\\anaconda3\\lib\\site-packages\\sklearn\\linear_model\\_coordinate_descent.py:472: ConvergenceWarning: Objective did not converge. You might want to increase the number of iterations. Duality gap: 17.395529759429337, tolerance: 1.9573325663716814\n",
      "  tol, rng, random, positive)\n",
      "C:\\Users\\Alastair Tyson\\anaconda3\\lib\\site-packages\\sklearn\\linear_model\\_coordinate_descent.py:472: ConvergenceWarning: Objective did not converge. You might want to increase the number of iterations. Duality gap: 17.41813209445263, tolerance: 1.9573325663716814\n",
      "  tol, rng, random, positive)\n",
      "C:\\Users\\Alastair Tyson\\anaconda3\\lib\\site-packages\\sklearn\\linear_model\\_coordinate_descent.py:472: ConvergenceWarning: Objective did not converge. You might want to increase the number of iterations. Duality gap: 17.236839811756, tolerance: 1.9573325663716814\n",
      "  tol, rng, random, positive)\n",
      "C:\\Users\\Alastair Tyson\\anaconda3\\lib\\site-packages\\sklearn\\linear_model\\_coordinate_descent.py:472: ConvergenceWarning: Objective did not converge. You might want to increase the number of iterations. Duality gap: 16.94415318713709, tolerance: 1.9573325663716814\n",
      "  tol, rng, random, positive)\n",
      "C:\\Users\\Alastair Tyson\\anaconda3\\lib\\site-packages\\sklearn\\linear_model\\_coordinate_descent.py:472: ConvergenceWarning: Objective did not converge. You might want to increase the number of iterations. Duality gap: 16.570271122089252, tolerance: 1.9573325663716814\n",
      "  tol, rng, random, positive)\n",
      "C:\\Users\\Alastair Tyson\\anaconda3\\lib\\site-packages\\sklearn\\linear_model\\_coordinate_descent.py:472: ConvergenceWarning: Objective did not converge. You might want to increase the number of iterations. Duality gap: 75.9651524221772, tolerance: 1.9573325663716814\n",
      "  tol, rng, random, positive)\n",
      "C:\\Users\\Alastair Tyson\\anaconda3\\lib\\site-packages\\sklearn\\linear_model\\_coordinate_descent.py:472: ConvergenceWarning: Objective did not converge. You might want to increase the number of iterations. Duality gap: 44.900414602561796, tolerance: 1.9573325663716814\n",
      "  tol, rng, random, positive)\n",
      "C:\\Users\\Alastair Tyson\\anaconda3\\lib\\site-packages\\sklearn\\linear_model\\_coordinate_descent.py:472: ConvergenceWarning: Objective did not converge. You might want to increase the number of iterations. Duality gap: 45.88719455447608, tolerance: 1.9573325663716814\n",
      "  tol, rng, random, positive)\n",
      "C:\\Users\\Alastair Tyson\\anaconda3\\lib\\site-packages\\sklearn\\linear_model\\_coordinate_descent.py:472: ConvergenceWarning: Objective did not converge. You might want to increase the number of iterations. Duality gap: 46.49267088989109, tolerance: 1.9573325663716814\n",
      "  tol, rng, random, positive)\n",
      "C:\\Users\\Alastair Tyson\\anaconda3\\lib\\site-packages\\sklearn\\linear_model\\_coordinate_descent.py:472: ConvergenceWarning: Objective did not converge. You might want to increase the number of iterations. Duality gap: 46.36326490119973, tolerance: 1.9573325663716814\n",
      "  tol, rng, random, positive)\n",
      "C:\\Users\\Alastair Tyson\\anaconda3\\lib\\site-packages\\sklearn\\linear_model\\_coordinate_descent.py:472: ConvergenceWarning: Objective did not converge. You might want to increase the number of iterations. Duality gap: 45.88411057374287, tolerance: 1.9573325663716814\n",
      "  tol, rng, random, positive)\n",
      "C:\\Users\\Alastair Tyson\\anaconda3\\lib\\site-packages\\sklearn\\linear_model\\_coordinate_descent.py:472: ConvergenceWarning: Objective did not converge. You might want to increase the number of iterations. Duality gap: 45.14761014736996, tolerance: 1.9573325663716814\n",
      "  tol, rng, random, positive)\n",
      "C:\\Users\\Alastair Tyson\\anaconda3\\lib\\site-packages\\sklearn\\linear_model\\_coordinate_descent.py:472: ConvergenceWarning: Objective did not converge. You might want to increase the number of iterations. Duality gap: 44.211954625017825, tolerance: 1.9573325663716814\n",
      "  tol, rng, random, positive)\n",
      "C:\\Users\\Alastair Tyson\\anaconda3\\lib\\site-packages\\sklearn\\linear_model\\_coordinate_descent.py:472: ConvergenceWarning: Objective did not converge. You might want to increase the number of iterations. Duality gap: 6.478950039987467, tolerance: 1.91774785840708\n",
      "  tol, rng, random, positive)\n",
      "C:\\Users\\Alastair Tyson\\anaconda3\\lib\\site-packages\\sklearn\\linear_model\\_coordinate_descent.py:472: ConvergenceWarning: Objective did not converge. You might want to increase the number of iterations. Duality gap: 9.151229059001707, tolerance: 1.91774785840708\n",
      "  tol, rng, random, positive)\n",
      "C:\\Users\\Alastair Tyson\\anaconda3\\lib\\site-packages\\sklearn\\linear_model\\_coordinate_descent.py:472: ConvergenceWarning: Objective did not converge. You might want to increase the number of iterations. Duality gap: 9.007548854064225, tolerance: 1.91774785840708\n",
      "  tol, rng, random, positive)\n",
      "C:\\Users\\Alastair Tyson\\anaconda3\\lib\\site-packages\\sklearn\\linear_model\\_coordinate_descent.py:472: ConvergenceWarning: Objective did not converge. You might want to increase the number of iterations. Duality gap: 8.968196327678015, tolerance: 1.91774785840708\n",
      "  tol, rng, random, positive)\n",
      "C:\\Users\\Alastair Tyson\\anaconda3\\lib\\site-packages\\sklearn\\linear_model\\_coordinate_descent.py:472: ConvergenceWarning: Objective did not converge. You might want to increase the number of iterations. Duality gap: 8.8894777782225, tolerance: 1.91774785840708\n",
      "  tol, rng, random, positive)\n",
      "C:\\Users\\Alastair Tyson\\anaconda3\\lib\\site-packages\\sklearn\\linear_model\\_coordinate_descent.py:472: ConvergenceWarning: Objective did not converge. You might want to increase the number of iterations. Duality gap: 8.755618250715997, tolerance: 1.91774785840708\n",
      "  tol, rng, random, positive)\n",
      "C:\\Users\\Alastair Tyson\\anaconda3\\lib\\site-packages\\sklearn\\linear_model\\_coordinate_descent.py:472: ConvergenceWarning: Objective did not converge. You might want to increase the number of iterations. Duality gap: 8.574146281094727, tolerance: 1.91774785840708\n",
      "  tol, rng, random, positive)\n",
      "C:\\Users\\Alastair Tyson\\anaconda3\\lib\\site-packages\\sklearn\\linear_model\\_coordinate_descent.py:472: ConvergenceWarning: Objective did not converge. You might want to increase the number of iterations. Duality gap: 8.354975355543502, tolerance: 1.91774785840708\n",
      "  tol, rng, random, positive)\n",
      "C:\\Users\\Alastair Tyson\\anaconda3\\lib\\site-packages\\sklearn\\linear_model\\_coordinate_descent.py:472: ConvergenceWarning: Objective did not converge. You might want to increase the number of iterations. Duality gap: 8.107040749111547, tolerance: 1.91774785840708\n",
      "  tol, rng, random, positive)\n",
      "C:\\Users\\Alastair Tyson\\anaconda3\\lib\\site-packages\\sklearn\\linear_model\\_coordinate_descent.py:472: ConvergenceWarning: Objective did not converge. You might want to increase the number of iterations. Duality gap: 6.370053366064894, tolerance: 1.91774785840708\n",
      "  tol, rng, random, positive)\n",
      "C:\\Users\\Alastair Tyson\\anaconda3\\lib\\site-packages\\sklearn\\linear_model\\_coordinate_descent.py:472: ConvergenceWarning: Objective did not converge. You might want to increase the number of iterations. Duality gap: 30.919750978828233, tolerance: 1.91774785840708\n",
      "  tol, rng, random, positive)\n",
      "C:\\Users\\Alastair Tyson\\anaconda3\\lib\\site-packages\\sklearn\\linear_model\\_coordinate_descent.py:472: ConvergenceWarning: Objective did not converge. You might want to increase the number of iterations. Duality gap: 30.08921739789912, tolerance: 1.91774785840708\n",
      "  tol, rng, random, positive)\n",
      "C:\\Users\\Alastair Tyson\\anaconda3\\lib\\site-packages\\sklearn\\linear_model\\_coordinate_descent.py:472: ConvergenceWarning: Objective did not converge. You might want to increase the number of iterations. Duality gap: 29.71246747105579, tolerance: 1.91774785840708\n",
      "  tol, rng, random, positive)\n",
      "C:\\Users\\Alastair Tyson\\anaconda3\\lib\\site-packages\\sklearn\\linear_model\\_coordinate_descent.py:472: ConvergenceWarning: Objective did not converge. You might want to increase the number of iterations. Duality gap: 29.21466022838831, tolerance: 1.91774785840708\n",
      "  tol, rng, random, positive)\n",
      "C:\\Users\\Alastair Tyson\\anaconda3\\lib\\site-packages\\sklearn\\linear_model\\_coordinate_descent.py:472: ConvergenceWarning: Objective did not converge. You might want to increase the number of iterations. Duality gap: 28.590134229914838, tolerance: 1.91774785840708\n",
      "  tol, rng, random, positive)\n",
      "C:\\Users\\Alastair Tyson\\anaconda3\\lib\\site-packages\\sklearn\\linear_model\\_coordinate_descent.py:472: ConvergenceWarning: Objective did not converge. You might want to increase the number of iterations. Duality gap: 27.86385837873968, tolerance: 1.91774785840708\n",
      "  tol, rng, random, positive)\n",
      "C:\\Users\\Alastair Tyson\\anaconda3\\lib\\site-packages\\sklearn\\linear_model\\_coordinate_descent.py:472: ConvergenceWarning: Objective did not converge. You might want to increase the number of iterations. Duality gap: 27.060748992025765, tolerance: 1.91774785840708\n",
      "  tol, rng, random, positive)\n",
      "C:\\Users\\Alastair Tyson\\anaconda3\\lib\\site-packages\\sklearn\\linear_model\\_coordinate_descent.py:472: ConvergenceWarning: Objective did not converge. You might want to increase the number of iterations. Duality gap: 26.20226641411864, tolerance: 1.91774785840708\n",
      "  tol, rng, random, positive)\n",
      "C:\\Users\\Alastair Tyson\\anaconda3\\lib\\site-packages\\sklearn\\linear_model\\_coordinate_descent.py:472: ConvergenceWarning: Objective did not converge. You might want to increase the number of iterations. Duality gap: 25.30639002938551, tolerance: 1.91774785840708\n",
      "  tol, rng, random, positive)\n",
      "C:\\Users\\Alastair Tyson\\anaconda3\\lib\\site-packages\\sklearn\\linear_model\\_coordinate_descent.py:472: ConvergenceWarning: Objective did not converge. You might want to increase the number of iterations. Duality gap: 24.388044570627244, tolerance: 1.91774785840708\n",
      "  tol, rng, random, positive)\n",
      "C:\\Users\\Alastair Tyson\\anaconda3\\lib\\site-packages\\sklearn\\linear_model\\_coordinate_descent.py:472: ConvergenceWarning: Objective did not converge. You might want to increase the number of iterations. Duality gap: 23.459535099981622, tolerance: 1.91774785840708\n",
      "  tol, rng, random, positive)\n",
      "C:\\Users\\Alastair Tyson\\anaconda3\\lib\\site-packages\\sklearn\\linear_model\\_coordinate_descent.py:472: ConvergenceWarning: Objective did not converge. You might want to increase the number of iterations. Duality gap: 86.5973163770177, tolerance: 1.91774785840708\n",
      "  tol, rng, random, positive)\n",
      "C:\\Users\\Alastair Tyson\\anaconda3\\lib\\site-packages\\sklearn\\linear_model\\_coordinate_descent.py:472: ConvergenceWarning: Objective did not converge. You might want to increase the number of iterations. Duality gap: 67.53569281937871, tolerance: 1.91774785840708\n",
      "  tol, rng, random, positive)\n",
      "C:\\Users\\Alastair Tyson\\anaconda3\\lib\\site-packages\\sklearn\\linear_model\\_coordinate_descent.py:472: ConvergenceWarning: Objective did not converge. You might want to increase the number of iterations. Duality gap: 3.2468616209398533, tolerance: 1.8122185176991152\n",
      "  tol, rng, random, positive)\n",
      "C:\\Users\\Alastair Tyson\\anaconda3\\lib\\site-packages\\sklearn\\linear_model\\_coordinate_descent.py:472: ConvergenceWarning: Objective did not converge. You might want to increase the number of iterations. Duality gap: 4.608940711771538, tolerance: 1.8122185176991152\n",
      "  tol, rng, random, positive)\n",
      "C:\\Users\\Alastair Tyson\\anaconda3\\lib\\site-packages\\sklearn\\linear_model\\_coordinate_descent.py:472: ConvergenceWarning: Objective did not converge. You might want to increase the number of iterations. Duality gap: 5.3697693156282185, tolerance: 1.8122185176991152\n",
      "  tol, rng, random, positive)\n",
      "C:\\Users\\Alastair Tyson\\anaconda3\\lib\\site-packages\\sklearn\\linear_model\\_coordinate_descent.py:472: ConvergenceWarning: Objective did not converge. You might want to increase the number of iterations. Duality gap: 5.761909957642274, tolerance: 1.8122185176991152\n",
      "  tol, rng, random, positive)\n",
      "C:\\Users\\Alastair Tyson\\anaconda3\\lib\\site-packages\\sklearn\\linear_model\\_coordinate_descent.py:472: ConvergenceWarning: Objective did not converge. You might want to increase the number of iterations. Duality gap: 5.744630202916596, tolerance: 1.8122185176991152\n",
      "  tol, rng, random, positive)\n",
      "C:\\Users\\Alastair Tyson\\anaconda3\\lib\\site-packages\\sklearn\\linear_model\\_coordinate_descent.py:472: ConvergenceWarning: Objective did not converge. You might want to increase the number of iterations. Duality gap: 5.6432637895550215, tolerance: 1.8122185176991152\n",
      "  tol, rng, random, positive)\n",
      "C:\\Users\\Alastair Tyson\\anaconda3\\lib\\site-packages\\sklearn\\linear_model\\_coordinate_descent.py:472: ConvergenceWarning: Objective did not converge. You might want to increase the number of iterations. Duality gap: 5.506755200374755, tolerance: 1.8122185176991152\n",
      "  tol, rng, random, positive)\n",
      "C:\\Users\\Alastair Tyson\\anaconda3\\lib\\site-packages\\sklearn\\linear_model\\_coordinate_descent.py:472: ConvergenceWarning: Objective did not converge. You might want to increase the number of iterations. Duality gap: 5.348023765453945, tolerance: 1.8122185176991152\n",
      "  tol, rng, random, positive)\n",
      "C:\\Users\\Alastair Tyson\\anaconda3\\lib\\site-packages\\sklearn\\linear_model\\_coordinate_descent.py:472: ConvergenceWarning: Objective did not converge. You might want to increase the number of iterations. Duality gap: 5.173450783679982, tolerance: 1.8122185176991152\n",
      "  tol, rng, random, positive)\n",
      "C:\\Users\\Alastair Tyson\\anaconda3\\lib\\site-packages\\sklearn\\linear_model\\_coordinate_descent.py:472: ConvergenceWarning: Objective did not converge. You might want to increase the number of iterations. Duality gap: 4.987682942397441, tolerance: 1.8122185176991152\n",
      "  tol, rng, random, positive)\n",
      "C:\\Users\\Alastair Tyson\\anaconda3\\lib\\site-packages\\sklearn\\linear_model\\_coordinate_descent.py:472: ConvergenceWarning: Objective did not converge. You might want to increase the number of iterations. Duality gap: 6.5976755901901925, tolerance: 1.8122185176991152\n",
      "  tol, rng, random, positive)\n",
      "C:\\Users\\Alastair Tyson\\anaconda3\\lib\\site-packages\\sklearn\\linear_model\\_coordinate_descent.py:472: ConvergenceWarning: Objective did not converge. You might want to increase the number of iterations. Duality gap: 12.996978068222234, tolerance: 1.8122185176991152\n",
      "  tol, rng, random, positive)\n",
      "C:\\Users\\Alastair Tyson\\anaconda3\\lib\\site-packages\\sklearn\\linear_model\\_coordinate_descent.py:472: ConvergenceWarning: Objective did not converge. You might want to increase the number of iterations. Duality gap: 12.964382953186941, tolerance: 1.8122185176991152\n",
      "  tol, rng, random, positive)\n",
      "C:\\Users\\Alastair Tyson\\anaconda3\\lib\\site-packages\\sklearn\\linear_model\\_coordinate_descent.py:472: ConvergenceWarning: Objective did not converge. You might want to increase the number of iterations. Duality gap: 12.7712293968616, tolerance: 1.8122185176991152\n",
      "  tol, rng, random, positive)\n",
      "C:\\Users\\Alastair Tyson\\anaconda3\\lib\\site-packages\\sklearn\\linear_model\\_coordinate_descent.py:472: ConvergenceWarning: Objective did not converge. You might want to increase the number of iterations. Duality gap: 12.508951815958426, tolerance: 1.8122185176991152\n",
      "  tol, rng, random, positive)\n",
      "C:\\Users\\Alastair Tyson\\anaconda3\\lib\\site-packages\\sklearn\\linear_model\\_coordinate_descent.py:472: ConvergenceWarning: Objective did not converge. You might want to increase the number of iterations. Duality gap: 12.193628378008725, tolerance: 1.8122185176991152\n",
      "  tol, rng, random, positive)\n",
      "C:\\Users\\Alastair Tyson\\anaconda3\\lib\\site-packages\\sklearn\\linear_model\\_coordinate_descent.py:472: ConvergenceWarning: Objective did not converge. You might want to increase the number of iterations. Duality gap: 11.838247953485734, tolerance: 1.8122185176991152\n",
      "  tol, rng, random, positive)\n",
      "C:\\Users\\Alastair Tyson\\anaconda3\\lib\\site-packages\\sklearn\\linear_model\\_coordinate_descent.py:472: ConvergenceWarning: Objective did not converge. You might want to increase the number of iterations. Duality gap: 11.453529855573834, tolerance: 1.8122185176991152\n",
      "  tol, rng, random, positive)\n",
      "C:\\Users\\Alastair Tyson\\anaconda3\\lib\\site-packages\\sklearn\\linear_model\\_coordinate_descent.py:472: ConvergenceWarning: Objective did not converge. You might want to increase the number of iterations. Duality gap: 11.048397755901533, tolerance: 1.8122185176991152\n",
      "  tol, rng, random, positive)\n",
      "C:\\Users\\Alastair Tyson\\anaconda3\\lib\\site-packages\\sklearn\\linear_model\\_coordinate_descent.py:472: ConvergenceWarning: Objective did not converge. You might want to increase the number of iterations. Duality gap: 10.630264537624498, tolerance: 1.8122185176991152\n",
      "  tol, rng, random, positive)\n",
      "C:\\Users\\Alastair Tyson\\anaconda3\\lib\\site-packages\\sklearn\\linear_model\\_coordinate_descent.py:472: ConvergenceWarning: Objective did not converge. You might want to increase the number of iterations. Duality gap: 47.62411438977142, tolerance: 1.8122185176991152\n",
      "  tol, rng, random, positive)\n",
      "C:\\Users\\Alastair Tyson\\anaconda3\\lib\\site-packages\\sklearn\\linear_model\\_coordinate_descent.py:472: ConvergenceWarning: Objective did not converge. You might want to increase the number of iterations. Duality gap: 14.491487321384739, tolerance: 1.8122185176991152\n",
      "  tol, rng, random, positive)\n",
      "C:\\Users\\Alastair Tyson\\anaconda3\\lib\\site-packages\\sklearn\\linear_model\\_coordinate_descent.py:472: ConvergenceWarning: Objective did not converge. You might want to increase the number of iterations. Duality gap: 14.668282872504278, tolerance: 1.8122185176991152\n",
      "  tol, rng, random, positive)\n",
      "C:\\Users\\Alastair Tyson\\anaconda3\\lib\\site-packages\\sklearn\\linear_model\\_coordinate_descent.py:472: ConvergenceWarning: Objective did not converge. You might want to increase the number of iterations. Duality gap: 2.6269754798868235, tolerance: 2.071826\n",
      "  tol, rng, random, positive)\n",
      "C:\\Users\\Alastair Tyson\\anaconda3\\lib\\site-packages\\sklearn\\linear_model\\_coordinate_descent.py:472: ConvergenceWarning: Objective did not converge. You might want to increase the number of iterations. Duality gap: 12.02723550014889, tolerance: 2.071826\n",
      "  tol, rng, random, positive)\n",
      "C:\\Users\\Alastair Tyson\\anaconda3\\lib\\site-packages\\sklearn\\linear_model\\_coordinate_descent.py:472: ConvergenceWarning: Objective did not converge. You might want to increase the number of iterations. Duality gap: 9.25400705643915, tolerance: 2.071826\n",
      "  tol, rng, random, positive)\n",
      "C:\\Users\\Alastair Tyson\\anaconda3\\lib\\site-packages\\sklearn\\linear_model\\_coordinate_descent.py:472: ConvergenceWarning: Objective did not converge. You might want to increase the number of iterations. Duality gap: 8.646099200795106, tolerance: 2.071826\n",
      "  tol, rng, random, positive)\n",
      "C:\\Users\\Alastair Tyson\\anaconda3\\lib\\site-packages\\sklearn\\linear_model\\_coordinate_descent.py:472: ConvergenceWarning: Objective did not converge. You might want to increase the number of iterations. Duality gap: 8.512148797109148, tolerance: 2.071826\n",
      "  tol, rng, random, positive)\n",
      "C:\\Users\\Alastair Tyson\\anaconda3\\lib\\site-packages\\sklearn\\linear_model\\_coordinate_descent.py:472: ConvergenceWarning: Objective did not converge. You might want to increase the number of iterations. Duality gap: 8.396924044898697, tolerance: 2.071826\n",
      "  tol, rng, random, positive)\n",
      "C:\\Users\\Alastair Tyson\\anaconda3\\lib\\site-packages\\sklearn\\linear_model\\_coordinate_descent.py:472: ConvergenceWarning: Objective did not converge. You might want to increase the number of iterations. Duality gap: 8.241806145004375, tolerance: 2.071826\n",
      "  tol, rng, random, positive)\n",
      "C:\\Users\\Alastair Tyson\\anaconda3\\lib\\site-packages\\sklearn\\linear_model\\_coordinate_descent.py:472: ConvergenceWarning: Objective did not converge. You might want to increase the number of iterations. Duality gap: 8.047363891953864, tolerance: 2.071826\n",
      "  tol, rng, random, positive)\n",
      "C:\\Users\\Alastair Tyson\\anaconda3\\lib\\site-packages\\sklearn\\linear_model\\_coordinate_descent.py:472: ConvergenceWarning: Objective did not converge. You might want to increase the number of iterations. Duality gap: 7.821516690284625, tolerance: 2.071826\n",
      "  tol, rng, random, positive)\n",
      "C:\\Users\\Alastair Tyson\\anaconda3\\lib\\site-packages\\sklearn\\linear_model\\_coordinate_descent.py:472: ConvergenceWarning: Objective did not converge. You might want to increase the number of iterations. Duality gap: 7.698220254213993, tolerance: 2.071826\n",
      "  tol, rng, random, positive)\n",
      "C:\\Users\\Alastair Tyson\\anaconda3\\lib\\site-packages\\sklearn\\linear_model\\_coordinate_descent.py:472: ConvergenceWarning: Objective did not converge. You might want to increase the number of iterations. Duality gap: 16.591575830891088, tolerance: 2.071826\n",
      "  tol, rng, random, positive)\n",
      "C:\\Users\\Alastair Tyson\\anaconda3\\lib\\site-packages\\sklearn\\linear_model\\_coordinate_descent.py:472: ConvergenceWarning: Objective did not converge. You might want to increase the number of iterations. Duality gap: 18.918820944547406, tolerance: 2.071826\n",
      "  tol, rng, random, positive)\n",
      "C:\\Users\\Alastair Tyson\\anaconda3\\lib\\site-packages\\sklearn\\linear_model\\_coordinate_descent.py:472: ConvergenceWarning: Objective did not converge. You might want to increase the number of iterations. Duality gap: 18.569342425468676, tolerance: 2.071826\n",
      "  tol, rng, random, positive)\n",
      "C:\\Users\\Alastair Tyson\\anaconda3\\lib\\site-packages\\sklearn\\linear_model\\_coordinate_descent.py:472: ConvergenceWarning: Objective did not converge. You might want to increase the number of iterations. Duality gap: 18.256810298920755, tolerance: 2.071826\n",
      "  tol, rng, random, positive)\n",
      "C:\\Users\\Alastair Tyson\\anaconda3\\lib\\site-packages\\sklearn\\linear_model\\_coordinate_descent.py:472: ConvergenceWarning: Objective did not converge. You might want to increase the number of iterations. Duality gap: 17.869666791119016, tolerance: 2.071826\n",
      "  tol, rng, random, positive)\n",
      "C:\\Users\\Alastair Tyson\\anaconda3\\lib\\site-packages\\sklearn\\linear_model\\_coordinate_descent.py:472: ConvergenceWarning: Objective did not converge. You might want to increase the number of iterations. Duality gap: 17.41214573902289, tolerance: 2.071826\n",
      "  tol, rng, random, positive)\n",
      "C:\\Users\\Alastair Tyson\\anaconda3\\lib\\site-packages\\sklearn\\linear_model\\_coordinate_descent.py:472: ConvergenceWarning: Objective did not converge. You might want to increase the number of iterations. Duality gap: 16.899870582721633, tolerance: 2.071826\n",
      "  tol, rng, random, positive)\n",
      "C:\\Users\\Alastair Tyson\\anaconda3\\lib\\site-packages\\sklearn\\linear_model\\_coordinate_descent.py:472: ConvergenceWarning: Objective did not converge. You might want to increase the number of iterations. Duality gap: 16.347449933266034, tolerance: 2.071826\n",
      "  tol, rng, random, positive)\n",
      "C:\\Users\\Alastair Tyson\\anaconda3\\lib\\site-packages\\sklearn\\linear_model\\_coordinate_descent.py:472: ConvergenceWarning: Objective did not converge. You might want to increase the number of iterations. Duality gap: 15.767284237272179, tolerance: 2.071826\n",
      "  tol, rng, random, positive)\n",
      "C:\\Users\\Alastair Tyson\\anaconda3\\lib\\site-packages\\sklearn\\linear_model\\_coordinate_descent.py:472: ConvergenceWarning: Objective did not converge. You might want to increase the number of iterations. Duality gap: 69.66649241187406, tolerance: 2.071826\n",
      "  tol, rng, random, positive)\n",
      "C:\\Users\\Alastair Tyson\\anaconda3\\lib\\site-packages\\sklearn\\linear_model\\_coordinate_descent.py:472: ConvergenceWarning: Objective did not converge. You might want to increase the number of iterations. Duality gap: 30.635467355824403, tolerance: 2.071826\n",
      "  tol, rng, random, positive)\n",
      "C:\\Users\\Alastair Tyson\\anaconda3\\lib\\site-packages\\sklearn\\linear_model\\_coordinate_descent.py:472: ConvergenceWarning: Objective did not converge. You might want to increase the number of iterations. Duality gap: 29.993280886769753, tolerance: 2.071826\n",
      "  tol, rng, random, positive)\n",
      "C:\\Users\\Alastair Tyson\\anaconda3\\lib\\site-packages\\sklearn\\linear_model\\_coordinate_descent.py:472: ConvergenceWarning: Objective did not converge. You might want to increase the number of iterations. Duality gap: 29.57383385956382, tolerance: 2.071826\n",
      "  tol, rng, random, positive)\n",
      "C:\\Users\\Alastair Tyson\\anaconda3\\lib\\site-packages\\sklearn\\linear_model\\_coordinate_descent.py:472: ConvergenceWarning: Objective did not converge. You might want to increase the number of iterations. Duality gap: 28.97627708953769, tolerance: 2.071826\n",
      "  tol, rng, random, positive)\n",
      "C:\\Users\\Alastair Tyson\\anaconda3\\lib\\site-packages\\sklearn\\linear_model\\_coordinate_descent.py:472: ConvergenceWarning: Objective did not converge. You might want to increase the number of iterations. Duality gap: 5.719656369197764, tolerance: 1.9669022466960353\n",
      "  tol, rng, random, positive)\n",
      "C:\\Users\\Alastair Tyson\\anaconda3\\lib\\site-packages\\sklearn\\linear_model\\_coordinate_descent.py:472: ConvergenceWarning: Objective did not converge. You might want to increase the number of iterations. Duality gap: 6.705451045494556, tolerance: 1.9669022466960353\n",
      "  tol, rng, random, positive)\n",
      "C:\\Users\\Alastair Tyson\\anaconda3\\lib\\site-packages\\sklearn\\linear_model\\_coordinate_descent.py:472: ConvergenceWarning: Objective did not converge. You might want to increase the number of iterations. Duality gap: 6.688489080144791, tolerance: 1.9669022466960353\n",
      "  tol, rng, random, positive)\n",
      "C:\\Users\\Alastair Tyson\\anaconda3\\lib\\site-packages\\sklearn\\linear_model\\_coordinate_descent.py:472: ConvergenceWarning: Objective did not converge. You might want to increase the number of iterations. Duality gap: 6.498649189851676, tolerance: 1.9669022466960353\n",
      "  tol, rng, random, positive)\n",
      "C:\\Users\\Alastair Tyson\\anaconda3\\lib\\site-packages\\sklearn\\linear_model\\_coordinate_descent.py:472: ConvergenceWarning: Objective did not converge. You might want to increase the number of iterations. Duality gap: 6.2706938088895186, tolerance: 1.9669022466960353\n",
      "  tol, rng, random, positive)\n",
      "C:\\Users\\Alastair Tyson\\anaconda3\\lib\\site-packages\\sklearn\\linear_model\\_coordinate_descent.py:472: ConvergenceWarning: Objective did not converge. You might want to increase the number of iterations. Duality gap: 6.029430951115501, tolerance: 1.9669022466960353\n",
      "  tol, rng, random, positive)\n",
      "C:\\Users\\Alastair Tyson\\anaconda3\\lib\\site-packages\\sklearn\\linear_model\\_coordinate_descent.py:472: ConvergenceWarning: Objective did not converge. You might want to increase the number of iterations. Duality gap: 5.781905583691696, tolerance: 1.9669022466960353\n",
      "  tol, rng, random, positive)\n",
      "C:\\Users\\Alastair Tyson\\anaconda3\\lib\\site-packages\\sklearn\\linear_model\\_coordinate_descent.py:472: ConvergenceWarning: Objective did not converge. You might want to increase the number of iterations. Duality gap: 8.719902954192548, tolerance: 1.9669022466960353\n",
      "  tol, rng, random, positive)\n",
      "C:\\Users\\Alastair Tyson\\anaconda3\\lib\\site-packages\\sklearn\\linear_model\\_coordinate_descent.py:472: ConvergenceWarning: Objective did not converge. You might want to increase the number of iterations. Duality gap: 16.890499501325394, tolerance: 1.9669022466960353\n",
      "  tol, rng, random, positive)\n",
      "C:\\Users\\Alastair Tyson\\anaconda3\\lib\\site-packages\\sklearn\\linear_model\\_coordinate_descent.py:472: ConvergenceWarning: Objective did not converge. You might want to increase the number of iterations. Duality gap: 15.915452327631101, tolerance: 1.9669022466960353\n",
      "  tol, rng, random, positive)\n",
      "C:\\Users\\Alastair Tyson\\anaconda3\\lib\\site-packages\\sklearn\\linear_model\\_coordinate_descent.py:472: ConvergenceWarning: Objective did not converge. You might want to increase the number of iterations. Duality gap: 15.430098144359363, tolerance: 1.9669022466960353\n",
      "  tol, rng, random, positive)\n",
      "C:\\Users\\Alastair Tyson\\anaconda3\\lib\\site-packages\\sklearn\\linear_model\\_coordinate_descent.py:472: ConvergenceWarning: Objective did not converge. You might want to increase the number of iterations. Duality gap: 14.971425451786672, tolerance: 1.9669022466960353\n",
      "  tol, rng, random, positive)\n",
      "C:\\Users\\Alastair Tyson\\anaconda3\\lib\\site-packages\\sklearn\\linear_model\\_coordinate_descent.py:472: ConvergenceWarning: Objective did not converge. You might want to increase the number of iterations. Duality gap: 14.485752573939862, tolerance: 1.9669022466960353\n",
      "  tol, rng, random, positive)\n",
      "C:\\Users\\Alastair Tyson\\anaconda3\\lib\\site-packages\\sklearn\\linear_model\\_coordinate_descent.py:472: ConvergenceWarning: Objective did not converge. You might want to increase the number of iterations. Duality gap: 62.00241178845954, tolerance: 1.9669022466960353\n",
      "  tol, rng, random, positive)\n",
      "C:\\Users\\Alastair Tyson\\anaconda3\\lib\\site-packages\\sklearn\\linear_model\\_coordinate_descent.py:472: ConvergenceWarning: Objective did not converge. You might want to increase the number of iterations. Duality gap: 74.80722990403501, tolerance: 1.9669022466960353\n",
      "  tol, rng, random, positive)\n",
      "C:\\Users\\Alastair Tyson\\anaconda3\\lib\\site-packages\\sklearn\\linear_model\\_coordinate_descent.py:472: ConvergenceWarning: Objective did not converge. You might want to increase the number of iterations. Duality gap: 75.41271081644845, tolerance: 1.9669022466960353\n",
      "  tol, rng, random, positive)\n",
      "C:\\Users\\Alastair Tyson\\anaconda3\\lib\\site-packages\\sklearn\\linear_model\\_coordinate_descent.py:472: ConvergenceWarning: Objective did not converge. You might want to increase the number of iterations. Duality gap: 29.78671098394625, tolerance: 1.9669022466960353\n",
      "  tol, rng, random, positive)\n",
      "C:\\Users\\Alastair Tyson\\anaconda3\\lib\\site-packages\\sklearn\\linear_model\\_coordinate_descent.py:472: ConvergenceWarning: Objective did not converge. You might want to increase the number of iterations. Duality gap: 26.448023661178922, tolerance: 1.9669022466960353\n",
      "  tol, rng, random, positive)\n",
      "C:\\Users\\Alastair Tyson\\anaconda3\\lib\\site-packages\\sklearn\\linear_model\\_coordinate_descent.py:472: ConvergenceWarning: Objective did not converge. You might want to increase the number of iterations. Duality gap: 25.754983876771803, tolerance: 1.9669022466960353\n",
      "  tol, rng, random, positive)\n",
      "C:\\Users\\Alastair Tyson\\anaconda3\\lib\\site-packages\\sklearn\\linear_model\\_coordinate_descent.py:472: ConvergenceWarning: Objective did not converge. You might want to increase the number of iterations. Duality gap: 25.347947745320198, tolerance: 1.9669022466960353\n",
      "  tol, rng, random, positive)\n",
      "C:\\Users\\Alastair Tyson\\anaconda3\\lib\\site-packages\\sklearn\\linear_model\\_coordinate_descent.py:476: ConvergenceWarning: Objective did not converge. You might want to increase the number of iterations. Duality gap: 2516.6311104539705, tolerance: 2.433287187279152\n",
      "  positive)\n",
      "C:\\Users\\Alastair Tyson\\anaconda3\\lib\\site-packages\\sklearn\\linear_model\\_coordinate_descent.py:472: ConvergenceWarning: Objective did not converge. You might want to increase the number of iterations. Duality gap: 2.6435664272721624, tolerance: 2.082257162995594\n",
      "  tol, rng, random, positive)\n",
      "C:\\Users\\Alastair Tyson\\anaconda3\\lib\\site-packages\\sklearn\\linear_model\\_coordinate_descent.py:472: ConvergenceWarning: Objective did not converge. You might want to increase the number of iterations. Duality gap: 5.087385730194001, tolerance: 2.082257162995594\n",
      "  tol, rng, random, positive)\n",
      "C:\\Users\\Alastair Tyson\\anaconda3\\lib\\site-packages\\sklearn\\linear_model\\_coordinate_descent.py:472: ConvergenceWarning: Objective did not converge. You might want to increase the number of iterations. Duality gap: 5.445912545592364, tolerance: 2.082257162995594\n",
      "  tol, rng, random, positive)\n",
      "C:\\Users\\Alastair Tyson\\anaconda3\\lib\\site-packages\\sklearn\\linear_model\\_coordinate_descent.py:472: ConvergenceWarning: Objective did not converge. You might want to increase the number of iterations. Duality gap: 5.459998367279695, tolerance: 2.082257162995594\n",
      "  tol, rng, random, positive)\n",
      "C:\\Users\\Alastair Tyson\\anaconda3\\lib\\site-packages\\sklearn\\linear_model\\_coordinate_descent.py:472: ConvergenceWarning: Objective did not converge. You might want to increase the number of iterations. Duality gap: 5.390269239424015, tolerance: 2.082257162995594\n",
      "  tol, rng, random, positive)\n",
      "C:\\Users\\Alastair Tyson\\anaconda3\\lib\\site-packages\\sklearn\\linear_model\\_coordinate_descent.py:472: ConvergenceWarning: Objective did not converge. You might want to increase the number of iterations. Duality gap: 5.2828555082014645, tolerance: 2.082257162995594\n",
      "  tol, rng, random, positive)\n",
      "C:\\Users\\Alastair Tyson\\anaconda3\\lib\\site-packages\\sklearn\\linear_model\\_coordinate_descent.py:472: ConvergenceWarning: Objective did not converge. You might want to increase the number of iterations. Duality gap: 5.150273956412093, tolerance: 2.082257162995594\n",
      "  tol, rng, random, positive)\n",
      "C:\\Users\\Alastair Tyson\\anaconda3\\lib\\site-packages\\sklearn\\linear_model\\_coordinate_descent.py:472: ConvergenceWarning: Objective did not converge. You might want to increase the number of iterations. Duality gap: 4.999105432003489, tolerance: 2.082257162995594\n",
      "  tol, rng, random, positive)\n",
      "C:\\Users\\Alastair Tyson\\anaconda3\\lib\\site-packages\\sklearn\\linear_model\\_coordinate_descent.py:472: ConvergenceWarning: Objective did not converge. You might want to increase the number of iterations. Duality gap: 4.834285641004499, tolerance: 2.082257162995594\n",
      "  tol, rng, random, positive)\n",
      "C:\\Users\\Alastair Tyson\\anaconda3\\lib\\site-packages\\sklearn\\linear_model\\_coordinate_descent.py:472: ConvergenceWarning: Objective did not converge. You might want to increase the number of iterations. Duality gap: 9.310873063615873, tolerance: 2.082257162995594\n",
      "  tol, rng, random, positive)\n",
      "C:\\Users\\Alastair Tyson\\anaconda3\\lib\\site-packages\\sklearn\\linear_model\\_coordinate_descent.py:472: ConvergenceWarning: Objective did not converge. You might want to increase the number of iterations. Duality gap: 39.44966494553955, tolerance: 2.082257162995594\n",
      "  tol, rng, random, positive)\n",
      "C:\\Users\\Alastair Tyson\\anaconda3\\lib\\site-packages\\sklearn\\linear_model\\_coordinate_descent.py:472: ConvergenceWarning: Objective did not converge. You might want to increase the number of iterations. Duality gap: 41.27689731332157, tolerance: 2.082257162995594\n",
      "  tol, rng, random, positive)\n",
      "C:\\Users\\Alastair Tyson\\anaconda3\\lib\\site-packages\\sklearn\\linear_model\\_coordinate_descent.py:472: ConvergenceWarning: Objective did not converge. You might want to increase the number of iterations. Duality gap: 43.38752469253268, tolerance: 2.082257162995594\n",
      "  tol, rng, random, positive)\n",
      "C:\\Users\\Alastair Tyson\\anaconda3\\lib\\site-packages\\sklearn\\linear_model\\_coordinate_descent.py:472: ConvergenceWarning: Objective did not converge. You might want to increase the number of iterations. Duality gap: 44.73271837608627, tolerance: 2.082257162995594\n",
      "  tol, rng, random, positive)\n",
      "C:\\Users\\Alastair Tyson\\anaconda3\\lib\\site-packages\\sklearn\\linear_model\\_coordinate_descent.py:472: ConvergenceWarning: Objective did not converge. You might want to increase the number of iterations. Duality gap: 45.46095498427985, tolerance: 2.082257162995594\n",
      "  tol, rng, random, positive)\n",
      "C:\\Users\\Alastair Tyson\\anaconda3\\lib\\site-packages\\sklearn\\linear_model\\_coordinate_descent.py:472: ConvergenceWarning: Objective did not converge. You might want to increase the number of iterations. Duality gap: 45.690690667271156, tolerance: 2.082257162995594\n",
      "  tol, rng, random, positive)\n",
      "C:\\Users\\Alastair Tyson\\anaconda3\\lib\\site-packages\\sklearn\\linear_model\\_coordinate_descent.py:472: ConvergenceWarning: Objective did not converge. You might want to increase the number of iterations. Duality gap: 45.51514563275941, tolerance: 2.082257162995594\n",
      "  tol, rng, random, positive)\n",
      "C:\\Users\\Alastair Tyson\\anaconda3\\lib\\site-packages\\sklearn\\linear_model\\_coordinate_descent.py:472: ConvergenceWarning: Objective did not converge. You might want to increase the number of iterations. Duality gap: 45.01258096072161, tolerance: 2.082257162995594\n",
      "  tol, rng, random, positive)\n",
      "C:\\Users\\Alastair Tyson\\anaconda3\\lib\\site-packages\\sklearn\\linear_model\\_coordinate_descent.py:472: ConvergenceWarning: Objective did not converge. You might want to increase the number of iterations. Duality gap: 44.24920070929511, tolerance: 2.082257162995594\n",
      "  tol, rng, random, positive)\n",
      "C:\\Users\\Alastair Tyson\\anaconda3\\lib\\site-packages\\sklearn\\linear_model\\_coordinate_descent.py:472: ConvergenceWarning: Objective did not converge. You might want to increase the number of iterations. Duality gap: 43.28097073861318, tolerance: 2.082257162995594\n",
      "  tol, rng, random, positive)\n",
      "C:\\Users\\Alastair Tyson\\anaconda3\\lib\\site-packages\\sklearn\\linear_model\\_coordinate_descent.py:472: ConvergenceWarning: Objective did not converge. You might want to increase the number of iterations. Duality gap: 42.15508114896147, tolerance: 2.082257162995594\n",
      "  tol, rng, random, positive)\n",
      "C:\\Users\\Alastair Tyson\\anaconda3\\lib\\site-packages\\sklearn\\linear_model\\_coordinate_descent.py:472: ConvergenceWarning: Objective did not converge. You might want to increase the number of iterations. Duality gap: 40.91119269549745, tolerance: 2.082257162995594\n",
      "  tol, rng, random, positive)\n",
      "C:\\Users\\Alastair Tyson\\anaconda3\\lib\\site-packages\\sklearn\\linear_model\\_coordinate_descent.py:472: ConvergenceWarning: Objective did not converge. You might want to increase the number of iterations. Duality gap: 39.58251119466331, tolerance: 2.082257162995594\n",
      "  tol, rng, random, positive)\n",
      "C:\\Users\\Alastair Tyson\\anaconda3\\lib\\site-packages\\sklearn\\linear_model\\_coordinate_descent.py:472: ConvergenceWarning: Objective did not converge. You might want to increase the number of iterations. Duality gap: 8.060925886877158, tolerance: 2.043270696035242\n",
      "  tol, rng, random, positive)\n",
      "C:\\Users\\Alastair Tyson\\anaconda3\\lib\\site-packages\\sklearn\\linear_model\\_coordinate_descent.py:472: ConvergenceWarning: Objective did not converge. You might want to increase the number of iterations. Duality gap: 10.11688969224815, tolerance: 2.043270696035242\n",
      "  tol, rng, random, positive)\n",
      "C:\\Users\\Alastair Tyson\\anaconda3\\lib\\site-packages\\sklearn\\linear_model\\_coordinate_descent.py:472: ConvergenceWarning: Objective did not converge. You might want to increase the number of iterations. Duality gap: 10.408667481982775, tolerance: 2.043270696035242\n",
      "  tol, rng, random, positive)\n",
      "C:\\Users\\Alastair Tyson\\anaconda3\\lib\\site-packages\\sklearn\\linear_model\\_coordinate_descent.py:472: ConvergenceWarning: Objective did not converge. You might want to increase the number of iterations. Duality gap: 10.297936930683136, tolerance: 2.043270696035242\n",
      "  tol, rng, random, positive)\n",
      "C:\\Users\\Alastair Tyson\\anaconda3\\lib\\site-packages\\sklearn\\linear_model\\_coordinate_descent.py:472: ConvergenceWarning: Objective did not converge. You might want to increase the number of iterations. Duality gap: 10.071440502781115, tolerance: 2.043270696035242\n",
      "  tol, rng, random, positive)\n",
      "C:\\Users\\Alastair Tyson\\anaconda3\\lib\\site-packages\\sklearn\\linear_model\\_coordinate_descent.py:472: ConvergenceWarning: Objective did not converge. You might want to increase the number of iterations. Duality gap: 9.794772982641007, tolerance: 2.043270696035242\n",
      "  tol, rng, random, positive)\n",
      "C:\\Users\\Alastair Tyson\\anaconda3\\lib\\site-packages\\sklearn\\linear_model\\_coordinate_descent.py:472: ConvergenceWarning: Objective did not converge. You might want to increase the number of iterations. Duality gap: 9.488070091832924, tolerance: 2.043270696035242\n",
      "  tol, rng, random, positive)\n",
      "C:\\Users\\Alastair Tyson\\anaconda3\\lib\\site-packages\\sklearn\\linear_model\\_coordinate_descent.py:472: ConvergenceWarning: Objective did not converge. You might want to increase the number of iterations. Duality gap: 9.161310562272774, tolerance: 2.043270696035242\n",
      "  tol, rng, random, positive)\n",
      "C:\\Users\\Alastair Tyson\\anaconda3\\lib\\site-packages\\sklearn\\linear_model\\_coordinate_descent.py:472: ConvergenceWarning: Objective did not converge. You might want to increase the number of iterations. Duality gap: 8.786151363316094, tolerance: 2.043270696035242\n",
      "  tol, rng, random, positive)\n",
      "C:\\Users\\Alastair Tyson\\anaconda3\\lib\\site-packages\\sklearn\\linear_model\\_coordinate_descent.py:472: ConvergenceWarning: Objective did not converge. You might want to increase the number of iterations. Duality gap: 73.65561964390417, tolerance: 2.043270696035242\n",
      "  tol, rng, random, positive)\n",
      "C:\\Users\\Alastair Tyson\\anaconda3\\lib\\site-packages\\sklearn\\linear_model\\_coordinate_descent.py:472: ConvergenceWarning: Objective did not converge. You might want to increase the number of iterations. Duality gap: 85.44009796615501, tolerance: 2.043270696035242\n",
      "  tol, rng, random, positive)\n",
      "C:\\Users\\Alastair Tyson\\anaconda3\\lib\\site-packages\\sklearn\\linear_model\\_coordinate_descent.py:472: ConvergenceWarning: Objective did not converge. You might want to increase the number of iterations. Duality gap: 112.69795160022659, tolerance: 2.043270696035242\n",
      "  tol, rng, random, positive)\n",
      "C:\\Users\\Alastair Tyson\\anaconda3\\lib\\site-packages\\sklearn\\linear_model\\_coordinate_descent.py:472: ConvergenceWarning: Objective did not converge. You might want to increase the number of iterations. Duality gap: 69.66198484109555, tolerance: 2.043270696035242\n",
      "  tol, rng, random, positive)\n",
      "C:\\Users\\Alastair Tyson\\anaconda3\\lib\\site-packages\\sklearn\\linear_model\\_coordinate_descent.py:472: ConvergenceWarning: Objective did not converge. You might want to increase the number of iterations. Duality gap: 68.31427199586142, tolerance: 2.043270696035242\n",
      "  tol, rng, random, positive)\n",
      "C:\\Users\\Alastair Tyson\\anaconda3\\lib\\site-packages\\sklearn\\linear_model\\_coordinate_descent.py:472: ConvergenceWarning: Objective did not converge. You might want to increase the number of iterations. Duality gap: 69.87328256483488, tolerance: 2.043270696035242\n",
      "  tol, rng, random, positive)\n",
      "C:\\Users\\Alastair Tyson\\anaconda3\\lib\\site-packages\\sklearn\\linear_model\\_coordinate_descent.py:472: ConvergenceWarning: Objective did not converge. You might want to increase the number of iterations. Duality gap: 70.47301272284858, tolerance: 2.043270696035242\n",
      "  tol, rng, random, positive)\n",
      "C:\\Users\\Alastair Tyson\\anaconda3\\lib\\site-packages\\sklearn\\linear_model\\_coordinate_descent.py:472: ConvergenceWarning: Objective did not converge. You might want to increase the number of iterations. Duality gap: 70.46956599603436, tolerance: 2.043270696035242\n",
      "  tol, rng, random, positive)\n",
      "C:\\Users\\Alastair Tyson\\anaconda3\\lib\\site-packages\\sklearn\\linear_model\\_coordinate_descent.py:472: ConvergenceWarning: Objective did not converge. You might want to increase the number of iterations. Duality gap: 69.9633128740279, tolerance: 2.043270696035242\n",
      "  tol, rng, random, positive)\n",
      "C:\\Users\\Alastair Tyson\\anaconda3\\lib\\site-packages\\sklearn\\linear_model\\_coordinate_descent.py:472: ConvergenceWarning: Objective did not converge. You might want to increase the number of iterations. Duality gap: 69.05173272861975, tolerance: 2.043270696035242\n",
      "  tol, rng, random, positive)\n",
      "C:\\Users\\Alastair Tyson\\anaconda3\\lib\\site-packages\\sklearn\\linear_model\\_coordinate_descent.py:472: ConvergenceWarning: Objective did not converge. You might want to increase the number of iterations. Duality gap: 67.81903541905467, tolerance: 2.043270696035242\n",
      "  tol, rng, random, positive)\n",
      "C:\\Users\\Alastair Tyson\\anaconda3\\lib\\site-packages\\sklearn\\linear_model\\_coordinate_descent.py:472: ConvergenceWarning: Objective did not converge. You might want to increase the number of iterations. Duality gap: 66.33660246134787, tolerance: 2.043270696035242\n",
      "  tol, rng, random, positive)\n",
      "C:\\Users\\Alastair Tyson\\anaconda3\\lib\\site-packages\\sklearn\\linear_model\\_coordinate_descent.py:472: ConvergenceWarning: Objective did not converge. You might want to increase the number of iterations. Duality gap: 8.251114539518312, tolerance: 1.9380946872246696\n",
      "  tol, rng, random, positive)\n",
      "C:\\Users\\Alastair Tyson\\anaconda3\\lib\\site-packages\\sklearn\\linear_model\\_coordinate_descent.py:472: ConvergenceWarning: Objective did not converge. You might want to increase the number of iterations. Duality gap: 10.003373426756298, tolerance: 1.9380946872246696\n",
      "  tol, rng, random, positive)\n",
      "C:\\Users\\Alastair Tyson\\anaconda3\\lib\\site-packages\\sklearn\\linear_model\\_coordinate_descent.py:472: ConvergenceWarning: Objective did not converge. You might want to increase the number of iterations. Duality gap: 10.28636338817796, tolerance: 1.9380946872246696\n",
      "  tol, rng, random, positive)\n",
      "C:\\Users\\Alastair Tyson\\anaconda3\\lib\\site-packages\\sklearn\\linear_model\\_coordinate_descent.py:472: ConvergenceWarning: Objective did not converge. You might want to increase the number of iterations. Duality gap: 10.20987702540333, tolerance: 1.9380946872246696\n",
      "  tol, rng, random, positive)\n",
      "C:\\Users\\Alastair Tyson\\anaconda3\\lib\\site-packages\\sklearn\\linear_model\\_coordinate_descent.py:472: ConvergenceWarning: Objective did not converge. You might want to increase the number of iterations. Duality gap: 10.017531208626679, tolerance: 1.9380946872246696\n",
      "  tol, rng, random, positive)\n",
      "C:\\Users\\Alastair Tyson\\anaconda3\\lib\\site-packages\\sklearn\\linear_model\\_coordinate_descent.py:472: ConvergenceWarning: Objective did not converge. You might want to increase the number of iterations. Duality gap: 9.768899216331192, tolerance: 1.9380946872246696\n",
      "  tol, rng, random, positive)\n",
      "C:\\Users\\Alastair Tyson\\anaconda3\\lib\\site-packages\\sklearn\\linear_model\\_coordinate_descent.py:472: ConvergenceWarning: Objective did not converge. You might want to increase the number of iterations. Duality gap: 9.484128357947156, tolerance: 1.9380946872246696\n",
      "  tol, rng, random, positive)\n",
      "C:\\Users\\Alastair Tyson\\anaconda3\\lib\\site-packages\\sklearn\\linear_model\\_coordinate_descent.py:472: ConvergenceWarning: Objective did not converge. You might want to increase the number of iterations. Duality gap: 9.174028038622055, tolerance: 1.9380946872246696\n",
      "  tol, rng, random, positive)\n",
      "C:\\Users\\Alastair Tyson\\anaconda3\\lib\\site-packages\\sklearn\\linear_model\\_coordinate_descent.py:472: ConvergenceWarning: Objective did not converge. You might want to increase the number of iterations. Duality gap: 8.846403119499882, tolerance: 1.9380946872246696\n",
      "  tol, rng, random, positive)\n",
      "C:\\Users\\Alastair Tyson\\anaconda3\\lib\\site-packages\\sklearn\\linear_model\\_coordinate_descent.py:472: ConvergenceWarning: Objective did not converge. You might want to increase the number of iterations. Duality gap: 8.507499359859139, tolerance: 1.9380946872246696\n",
      "  tol, rng, random, positive)\n",
      "C:\\Users\\Alastair Tyson\\anaconda3\\lib\\site-packages\\sklearn\\linear_model\\_coordinate_descent.py:472: ConvergenceWarning: Objective did not converge. You might want to increase the number of iterations. Duality gap: 8.16243399382438, tolerance: 1.9380946872246696\n",
      "  tol, rng, random, positive)\n",
      "C:\\Users\\Alastair Tyson\\anaconda3\\lib\\site-packages\\sklearn\\linear_model\\_coordinate_descent.py:472: ConvergenceWarning: Objective did not converge. You might want to increase the number of iterations. Duality gap: 8.000204894364288, tolerance: 1.9380946872246696\n",
      "  tol, rng, random, positive)\n",
      "C:\\Users\\Alastair Tyson\\anaconda3\\lib\\site-packages\\sklearn\\linear_model\\_coordinate_descent.py:472: ConvergenceWarning: Objective did not converge. You might want to increase the number of iterations. Duality gap: 7.620490249751128, tolerance: 1.9380946872246696\n",
      "  tol, rng, random, positive)\n",
      "C:\\Users\\Alastair Tyson\\anaconda3\\lib\\site-packages\\sklearn\\linear_model\\_coordinate_descent.py:472: ConvergenceWarning: Objective did not converge. You might want to increase the number of iterations. Duality gap: 15.75270564902712, tolerance: 1.9380946872246696\n",
      "  tol, rng, random, positive)\n",
      "C:\\Users\\Alastair Tyson\\anaconda3\\lib\\site-packages\\sklearn\\linear_model\\_coordinate_descent.py:472: ConvergenceWarning: Objective did not converge. You might want to increase the number of iterations. Duality gap: 16.158146654818665, tolerance: 1.9380946872246696\n",
      "  tol, rng, random, positive)\n",
      "C:\\Users\\Alastair Tyson\\anaconda3\\lib\\site-packages\\sklearn\\linear_model\\_coordinate_descent.py:472: ConvergenceWarning: Objective did not converge. You might want to increase the number of iterations. Duality gap: 16.383025881120375, tolerance: 1.9380946872246696\n",
      "  tol, rng, random, positive)\n",
      "C:\\Users\\Alastair Tyson\\anaconda3\\lib\\site-packages\\sklearn\\linear_model\\_coordinate_descent.py:472: ConvergenceWarning: Objective did not converge. You might want to increase the number of iterations. Duality gap: 16.439096418462213, tolerance: 1.9380946872246696\n",
      "  tol, rng, random, positive)\n",
      "C:\\Users\\Alastair Tyson\\anaconda3\\lib\\site-packages\\sklearn\\linear_model\\_coordinate_descent.py:472: ConvergenceWarning: Objective did not converge. You might want to increase the number of iterations. Duality gap: 16.350294904663315, tolerance: 1.9380946872246696\n",
      "  tol, rng, random, positive)\n",
      "C:\\Users\\Alastair Tyson\\anaconda3\\lib\\site-packages\\sklearn\\linear_model\\_coordinate_descent.py:472: ConvergenceWarning: Objective did not converge. You might want to increase the number of iterations. Duality gap: 16.14400886720796, tolerance: 1.9380946872246696\n",
      "  tol, rng, random, positive)\n",
      "C:\\Users\\Alastair Tyson\\anaconda3\\lib\\site-packages\\sklearn\\linear_model\\_coordinate_descent.py:472: ConvergenceWarning: Objective did not converge. You might want to increase the number of iterations. Duality gap: 15.844072520310874, tolerance: 1.9380946872246696\n",
      "  tol, rng, random, positive)\n",
      "C:\\Users\\Alastair Tyson\\anaconda3\\lib\\site-packages\\sklearn\\linear_model\\_coordinate_descent.py:472: ConvergenceWarning: Objective did not converge. You might want to increase the number of iterations. Duality gap: 15.470770905587415, tolerance: 1.9380946872246696\n",
      "  tol, rng, random, positive)\n",
      "C:\\Users\\Alastair Tyson\\anaconda3\\lib\\site-packages\\sklearn\\linear_model\\_coordinate_descent.py:472: ConvergenceWarning: Objective did not converge. You might want to increase the number of iterations. Duality gap: 8.348246767240198, tolerance: 1.9380946872246696\n",
      "  tol, rng, random, positive)\n",
      "C:\\Users\\Alastair Tyson\\anaconda3\\lib\\site-packages\\sklearn\\linear_model\\_coordinate_descent.py:472: ConvergenceWarning: Objective did not converge. You might want to increase the number of iterations. Duality gap: 5.79268972650425, tolerance: 2.1161529074889867\n",
      "  tol, rng, random, positive)\n",
      "C:\\Users\\Alastair Tyson\\anaconda3\\lib\\site-packages\\sklearn\\linear_model\\_coordinate_descent.py:472: ConvergenceWarning: Objective did not converge. You might want to increase the number of iterations. Duality gap: 3.5103139012389875, tolerance: 2.1161529074889867\n",
      "  tol, rng, random, positive)\n",
      "C:\\Users\\Alastair Tyson\\anaconda3\\lib\\site-packages\\sklearn\\linear_model\\_coordinate_descent.py:472: ConvergenceWarning: Objective did not converge. You might want to increase the number of iterations. Duality gap: 6.444787061658644, tolerance: 2.1161529074889867\n",
      "  tol, rng, random, positive)\n",
      "C:\\Users\\Alastair Tyson\\anaconda3\\lib\\site-packages\\sklearn\\linear_model\\_coordinate_descent.py:472: ConvergenceWarning: Objective did not converge. You might want to increase the number of iterations. Duality gap: 6.88965925323464, tolerance: 2.1161529074889867\n",
      "  tol, rng, random, positive)\n",
      "C:\\Users\\Alastair Tyson\\anaconda3\\lib\\site-packages\\sklearn\\linear_model\\_coordinate_descent.py:472: ConvergenceWarning: Objective did not converge. You might want to increase the number of iterations. Duality gap: 6.84438859887814, tolerance: 2.1161529074889867\n",
      "  tol, rng, random, positive)\n",
      "C:\\Users\\Alastair Tyson\\anaconda3\\lib\\site-packages\\sklearn\\linear_model\\_coordinate_descent.py:472: ConvergenceWarning: Objective did not converge. You might want to increase the number of iterations. Duality gap: 6.686537116864201, tolerance: 2.1161529074889867\n",
      "  tol, rng, random, positive)\n",
      "C:\\Users\\Alastair Tyson\\anaconda3\\lib\\site-packages\\sklearn\\linear_model\\_coordinate_descent.py:472: ConvergenceWarning: Objective did not converge. You might want to increase the number of iterations. Duality gap: 6.490365876899887, tolerance: 2.1161529074889867\n",
      "  tol, rng, random, positive)\n",
      "C:\\Users\\Alastair Tyson\\anaconda3\\lib\\site-packages\\sklearn\\linear_model\\_coordinate_descent.py:472: ConvergenceWarning: Objective did not converge. You might want to increase the number of iterations. Duality gap: 11.85504767486782, tolerance: 2.1161529074889867\n",
      "  tol, rng, random, positive)\n",
      "C:\\Users\\Alastair Tyson\\anaconda3\\lib\\site-packages\\sklearn\\linear_model\\_coordinate_descent.py:472: ConvergenceWarning: Objective did not converge. You might want to increase the number of iterations. Duality gap: 16.074752070628165, tolerance: 2.1161529074889867\n",
      "  tol, rng, random, positive)\n",
      "C:\\Users\\Alastair Tyson\\anaconda3\\lib\\site-packages\\sklearn\\linear_model\\_coordinate_descent.py:472: ConvergenceWarning: Objective did not converge. You might want to increase the number of iterations. Duality gap: 16.755658437205057, tolerance: 2.1161529074889867\n",
      "  tol, rng, random, positive)\n",
      "C:\\Users\\Alastair Tyson\\anaconda3\\lib\\site-packages\\sklearn\\linear_model\\_coordinate_descent.py:472: ConvergenceWarning: Objective did not converge. You might want to increase the number of iterations. Duality gap: 16.659228594274282, tolerance: 2.1161529074889867\n",
      "  tol, rng, random, positive)\n",
      "C:\\Users\\Alastair Tyson\\anaconda3\\lib\\site-packages\\sklearn\\linear_model\\_coordinate_descent.py:472: ConvergenceWarning: Objective did not converge. You might want to increase the number of iterations. Duality gap: 16.358930414146016, tolerance: 2.1161529074889867\n",
      "  tol, rng, random, positive)\n",
      "C:\\Users\\Alastair Tyson\\anaconda3\\lib\\site-packages\\sklearn\\linear_model\\_coordinate_descent.py:472: ConvergenceWarning: Objective did not converge. You might want to increase the number of iterations. Duality gap: 15.943167655123034, tolerance: 2.1161529074889867\n",
      "  tol, rng, random, positive)\n",
      "C:\\Users\\Alastair Tyson\\anaconda3\\lib\\site-packages\\sklearn\\linear_model\\_coordinate_descent.py:472: ConvergenceWarning: Objective did not converge. You might want to increase the number of iterations. Duality gap: 28.629723985471173, tolerance: 2.1161529074889867\n",
      "  tol, rng, random, positive)\n",
      "C:\\Users\\Alastair Tyson\\anaconda3\\lib\\site-packages\\sklearn\\linear_model\\_coordinate_descent.py:472: ConvergenceWarning: Objective did not converge. You might want to increase the number of iterations. Duality gap: 29.586244153670123, tolerance: 2.1161529074889867\n",
      "  tol, rng, random, positive)\n",
      "C:\\Users\\Alastair Tyson\\anaconda3\\lib\\site-packages\\sklearn\\linear_model\\_coordinate_descent.py:472: ConvergenceWarning: Objective did not converge. You might want to increase the number of iterations. Duality gap: 30.057592922593358, tolerance: 2.1161529074889867\n",
      "  tol, rng, random, positive)\n",
      "C:\\Users\\Alastair Tyson\\anaconda3\\lib\\site-packages\\sklearn\\linear_model\\_coordinate_descent.py:472: ConvergenceWarning: Objective did not converge. You might want to increase the number of iterations. Duality gap: 54.83697486921301, tolerance: 2.1161529074889867\n",
      "  tol, rng, random, positive)\n",
      "C:\\Users\\Alastair Tyson\\anaconda3\\lib\\site-packages\\sklearn\\linear_model\\_coordinate_descent.py:472: ConvergenceWarning: Objective did not converge. You might want to increase the number of iterations. Duality gap: 87.51532873503857, tolerance: 2.1161529074889867\n",
      "  tol, rng, random, positive)\n",
      "C:\\Users\\Alastair Tyson\\anaconda3\\lib\\site-packages\\sklearn\\linear_model\\_coordinate_descent.py:472: ConvergenceWarning: Objective did not converge. You might want to increase the number of iterations. Duality gap: 89.85651187608528, tolerance: 2.1161529074889867\n",
      "  tol, rng, random, positive)\n",
      "C:\\Users\\Alastair Tyson\\anaconda3\\lib\\site-packages\\sklearn\\linear_model\\_coordinate_descent.py:472: ConvergenceWarning: Objective did not converge. You might want to increase the number of iterations. Duality gap: 86.9961458916714, tolerance: 2.1161529074889867\n",
      "  tol, rng, random, positive)\n",
      "C:\\Users\\Alastair Tyson\\anaconda3\\lib\\site-packages\\sklearn\\linear_model\\_coordinate_descent.py:472: ConvergenceWarning: Objective did not converge. You might want to increase the number of iterations. Duality gap: 107.55141924089185, tolerance: 2.1161529074889867\n",
      "  tol, rng, random, positive)\n",
      "C:\\Users\\Alastair Tyson\\anaconda3\\lib\\site-packages\\sklearn\\linear_model\\_coordinate_descent.py:472: ConvergenceWarning: Objective did not converge. You might want to increase the number of iterations. Duality gap: 108.31109055517209, tolerance: 2.1161529074889867\n",
      "  tol, rng, random, positive)\n",
      "C:\\Users\\Alastair Tyson\\anaconda3\\lib\\site-packages\\sklearn\\linear_model\\_coordinate_descent.py:472: ConvergenceWarning: Objective did not converge. You might want to increase the number of iterations. Duality gap: 104.79454563736363, tolerance: 2.1161529074889867\n",
      "  tol, rng, random, positive)\n",
      "C:\\Users\\Alastair Tyson\\anaconda3\\lib\\site-packages\\sklearn\\linear_model\\_coordinate_descent.py:472: ConvergenceWarning: Objective did not converge. You might want to increase the number of iterations. Duality gap: 3.6375516488096764, tolerance: 2.0395553114035088\n",
      "  tol, rng, random, positive)\n",
      "C:\\Users\\Alastair Tyson\\anaconda3\\lib\\site-packages\\sklearn\\linear_model\\_coordinate_descent.py:472: ConvergenceWarning: Objective did not converge. You might want to increase the number of iterations. Duality gap: 6.123309164943748, tolerance: 2.0395553114035088\n",
      "  tol, rng, random, positive)\n",
      "C:\\Users\\Alastair Tyson\\anaconda3\\lib\\site-packages\\sklearn\\linear_model\\_coordinate_descent.py:472: ConvergenceWarning: Objective did not converge. You might want to increase the number of iterations. Duality gap: 7.526644847039279, tolerance: 2.0395553114035088\n",
      "  tol, rng, random, positive)\n",
      "C:\\Users\\Alastair Tyson\\anaconda3\\lib\\site-packages\\sklearn\\linear_model\\_coordinate_descent.py:472: ConvergenceWarning: Objective did not converge. You might want to increase the number of iterations. Duality gap: 7.557522823077306, tolerance: 2.0395553114035088\n",
      "  tol, rng, random, positive)\n",
      "C:\\Users\\Alastair Tyson\\anaconda3\\lib\\site-packages\\sklearn\\linear_model\\_coordinate_descent.py:472: ConvergenceWarning: Objective did not converge. You might want to increase the number of iterations. Duality gap: 7.3566857010664535, tolerance: 2.0395553114035088\n",
      "  tol, rng, random, positive)\n",
      "C:\\Users\\Alastair Tyson\\anaconda3\\lib\\site-packages\\sklearn\\linear_model\\_coordinate_descent.py:472: ConvergenceWarning: Objective did not converge. You might want to increase the number of iterations. Duality gap: 7.106496074338793, tolerance: 2.0395553114035088\n",
      "  tol, rng, random, positive)\n",
      "C:\\Users\\Alastair Tyson\\anaconda3\\lib\\site-packages\\sklearn\\linear_model\\_coordinate_descent.py:472: ConvergenceWarning: Objective did not converge. You might want to increase the number of iterations. Duality gap: 6.839471812170814, tolerance: 2.0395553114035088\n",
      "  tol, rng, random, positive)\n",
      "C:\\Users\\Alastair Tyson\\anaconda3\\lib\\site-packages\\sklearn\\linear_model\\_coordinate_descent.py:472: ConvergenceWarning: Objective did not converge. You might want to increase the number of iterations. Duality gap: 6.5643428038820275, tolerance: 2.0395553114035088\n",
      "  tol, rng, random, positive)\n",
      "C:\\Users\\Alastair Tyson\\anaconda3\\lib\\site-packages\\sklearn\\linear_model\\_coordinate_descent.py:472: ConvergenceWarning: Objective did not converge. You might want to increase the number of iterations. Duality gap: 6.285542677229387, tolerance: 2.0395553114035088\n",
      "  tol, rng, random, positive)\n",
      "C:\\Users\\Alastair Tyson\\anaconda3\\lib\\site-packages\\sklearn\\linear_model\\_coordinate_descent.py:472: ConvergenceWarning: Objective did not converge. You might want to increase the number of iterations. Duality gap: 6.006286177411312, tolerance: 2.0395553114035088\n",
      "  tol, rng, random, positive)\n",
      "C:\\Users\\Alastair Tyson\\anaconda3\\lib\\site-packages\\sklearn\\linear_model\\_coordinate_descent.py:472: ConvergenceWarning: Objective did not converge. You might want to increase the number of iterations. Duality gap: 5.72912212830488, tolerance: 2.0395553114035088\n",
      "  tol, rng, random, positive)\n",
      "C:\\Users\\Alastair Tyson\\anaconda3\\lib\\site-packages\\sklearn\\linear_model\\_coordinate_descent.py:472: ConvergenceWarning: Objective did not converge. You might want to increase the number of iterations. Duality gap: 5.456090096575281, tolerance: 2.0395553114035088\n",
      "  tol, rng, random, positive)\n",
      "C:\\Users\\Alastair Tyson\\anaconda3\\lib\\site-packages\\sklearn\\linear_model\\_coordinate_descent.py:472: ConvergenceWarning: Objective did not converge. You might want to increase the number of iterations. Duality gap: 8.25512345484276, tolerance: 2.0395553114035088\n",
      "  tol, rng, random, positive)\n",
      "C:\\Users\\Alastair Tyson\\anaconda3\\lib\\site-packages\\sklearn\\linear_model\\_coordinate_descent.py:472: ConvergenceWarning: Objective did not converge. You might want to increase the number of iterations. Duality gap: 14.382610947628564, tolerance: 2.0395553114035088\n",
      "  tol, rng, random, positive)\n",
      "C:\\Users\\Alastair Tyson\\anaconda3\\lib\\site-packages\\sklearn\\linear_model\\_coordinate_descent.py:472: ConvergenceWarning: Objective did not converge. You might want to increase the number of iterations. Duality gap: 33.87297415514331, tolerance: 2.0395553114035088\n",
      "  tol, rng, random, positive)\n",
      "C:\\Users\\Alastair Tyson\\anaconda3\\lib\\site-packages\\sklearn\\linear_model\\_coordinate_descent.py:472: ConvergenceWarning: Objective did not converge. You might want to increase the number of iterations. Duality gap: 35.78887712241249, tolerance: 2.0395553114035088\n",
      "  tol, rng, random, positive)\n",
      "C:\\Users\\Alastair Tyson\\anaconda3\\lib\\site-packages\\sklearn\\linear_model\\_coordinate_descent.py:472: ConvergenceWarning: Objective did not converge. You might want to increase the number of iterations. Duality gap: 35.906370837665236, tolerance: 2.0395553114035088\n",
      "  tol, rng, random, positive)\n",
      "C:\\Users\\Alastair Tyson\\anaconda3\\lib\\site-packages\\sklearn\\linear_model\\_coordinate_descent.py:472: ConvergenceWarning: Objective did not converge. You might want to increase the number of iterations. Duality gap: 36.0391710270942, tolerance: 2.0395553114035088\n",
      "  tol, rng, random, positive)\n",
      "C:\\Users\\Alastair Tyson\\anaconda3\\lib\\site-packages\\sklearn\\linear_model\\_coordinate_descent.py:472: ConvergenceWarning: Objective did not converge. You might want to increase the number of iterations. Duality gap: 35.85065830583244, tolerance: 2.0395553114035088\n",
      "  tol, rng, random, positive)\n",
      "C:\\Users\\Alastair Tyson\\anaconda3\\lib\\site-packages\\sklearn\\linear_model\\_coordinate_descent.py:472: ConvergenceWarning: Objective did not converge. You might want to increase the number of iterations. Duality gap: 35.426316570048584, tolerance: 2.0395553114035088\n",
      "  tol, rng, random, positive)\n",
      "C:\\Users\\Alastair Tyson\\anaconda3\\lib\\site-packages\\sklearn\\linear_model\\_coordinate_descent.py:472: ConvergenceWarning: Objective did not converge. You might want to increase the number of iterations. Duality gap: 34.81962966274841, tolerance: 2.0395553114035088\n",
      "  tol, rng, random, positive)\n",
      "C:\\Users\\Alastair Tyson\\anaconda3\\lib\\site-packages\\sklearn\\linear_model\\_coordinate_descent.py:476: ConvergenceWarning: Objective did not converge. You might want to increase the number of iterations. Duality gap: 2739.9136203512517, tolerance: 2.558318661971831\n",
      "  positive)\n"
     ]
    },
    {
     "data": {
      "text/plain": [
       "GridSearchCV(cv=5, error_score=nan,\n",
       "             estimator=LassoCV(alphas=None, copy_X=True, cv=None, eps=0.001,\n",
       "                               fit_intercept=True, max_iter=1000, n_alphas=100,\n",
       "                               n_jobs=None, normalize=False, positive=False,\n",
       "                               precompute='auto', random_state=None,\n",
       "                               selection='cyclic', tol=0.0001, verbose=False),\n",
       "             iid='deprecated', n_jobs=None,\n",
       "             param_grid={'max_iter': [10, 100, 1000]}, pre_dispatch='2*n_jobs',\n",
       "             refit=True, return_train_score=False, scoring=None, verbose=0)"
      ]
     },
     "execution_count": 47,
     "metadata": {},
     "output_type": "execute_result"
    }
   ],
   "source": [
    "# Fit our training data\n",
    "grid.fit(X_train,y_train)"
   ]
  },
  {
   "cell_type": "code",
   "execution_count": 48,
   "metadata": {},
   "outputs": [
    {
     "data": {
      "text/plain": [
       "LassoCV(alphas=None, copy_X=True, cv=None, eps=0.001, fit_intercept=True,\n",
       "        max_iter=100, n_alphas=100, n_jobs=None, normalize=False,\n",
       "        positive=False, precompute='auto', random_state=None,\n",
       "        selection='cyclic', tol=0.0001, verbose=False)"
      ]
     },
     "execution_count": 48,
     "metadata": {},
     "output_type": "execute_result"
    }
   ],
   "source": [
    "# Which model was best\n",
    "grid.best_estimator_"
   ]
  },
  {
   "cell_type": "code",
   "execution_count": 49,
   "metadata": {},
   "outputs": [
    {
     "data": {
      "text/plain": [
       "0.7171516714890336"
      ]
     },
     "execution_count": 49,
     "metadata": {},
     "output_type": "execute_result"
    }
   ],
   "source": [
    "# What is the score of this best estimator on unseen data?\n",
    "grid.best_estimator_.score(X_test,y_test)"
   ]
  },
  {
   "cell_type": "markdown",
   "metadata": {
    "collapsed": true
   },
   "source": [
    "<a id=\"additional-resources\"></a>\n",
    "<a id=\"additional-resources\"></a>\n",
    "### Additional Resources\n",
    "- [Bias Variance](http://scott.fortmann-roe.com/docs/BiasVariance.html)\n",
    "- University of Washington [slides](https://courses.cs.washington.edu/courses/cse546/12wi/slides/)"
   ]
  },
  {
   "cell_type": "markdown",
   "metadata": {
    "collapsed": true
   },
   "source": [
    "<a id=\"summary\"></a>\n",
    "### Summary\n",
    "\n",
    "In this lab, we compared four methods of estimating model accuracy on out-of-sample data. Throughout your regular data science work, you will likely use all four at some point:\n",
    "\n",
    "1. **Train on the entire dataset**\n",
    "2. **Train-test-split**\n",
    "3. **Cross-validation**\n",
    "4. **Three-way split**"
   ]
  },
  {
   "cell_type": "code",
   "execution_count": null,
   "metadata": {},
   "outputs": [],
   "source": []
  }
 ],
 "metadata": {
  "anaconda-cloud": {},
  "kernelspec": {
   "display_name": "Python 3",
   "language": "python",
   "name": "python3"
  },
  "language_info": {
   "codemirror_mode": {
    "name": "ipython",
    "version": 3
   },
   "file_extension": ".py",
   "mimetype": "text/x-python",
   "name": "python",
   "nbconvert_exporter": "python",
   "pygments_lexer": "ipython3",
   "version": "3.7.6"
  }
 },
 "nbformat": 4,
 "nbformat_minor": 2
}
