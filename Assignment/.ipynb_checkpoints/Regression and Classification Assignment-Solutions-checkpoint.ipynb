{
 "cells": [
  {
   "cell_type": "markdown",
   "metadata": {},
   "source": [
    "# Part 1: Regression and Classification with Wine Data"
   ]
  },
  {
   "cell_type": "markdown",
   "metadata": {},
   "source": [
    "You have recently been hired by a famous wine merchant who wants you to use your machine learning skills to help grow his business. For this exercise you will be using the UCL wine quality dataset and will be building a regression and classification model.\n",
    "\n",
    "Let's take a look at the data:"
   ]
  },
  {
   "cell_type": "code",
   "execution_count": 2,
   "metadata": {},
   "outputs": [],
   "source": [
    "import pandas as pd\n",
    "import seaborn as sns\n",
    "import matplotlib.pyplot as plt\n",
    "import numpy as np\n",
    "from sklearn.preprocessing import StandardScaler\n",
    "from sklearn.linear_model import LinearRegression, LogisticRegression\n",
    "from sklearn.model_selection import train_test_split, cross_val_score"
   ]
  },
  {
   "cell_type": "code",
   "execution_count": 3,
   "metadata": {},
   "outputs": [],
   "source": [
    "wine=pd.read_csv('wine_quality.csv')"
   ]
  },
  {
   "cell_type": "code",
   "execution_count": 4,
   "metadata": {},
   "outputs": [
    {
     "data": {
      "text/html": [
       "<div>\n",
       "<style scoped>\n",
       "    .dataframe tbody tr th:only-of-type {\n",
       "        vertical-align: middle;\n",
       "    }\n",
       "\n",
       "    .dataframe tbody tr th {\n",
       "        vertical-align: top;\n",
       "    }\n",
       "\n",
       "    .dataframe thead th {\n",
       "        text-align: right;\n",
       "    }\n",
       "</style>\n",
       "<table border=\"1\" class=\"dataframe\">\n",
       "  <thead>\n",
       "    <tr style=\"text-align: right;\">\n",
       "      <th></th>\n",
       "      <th>fixed_acidity</th>\n",
       "      <th>volatile_acidity</th>\n",
       "      <th>citric_acid</th>\n",
       "      <th>residual_sugar</th>\n",
       "      <th>chlorides</th>\n",
       "      <th>free_sulfur_dioxide</th>\n",
       "      <th>total_sulfur_dioxide</th>\n",
       "      <th>density</th>\n",
       "      <th>pH</th>\n",
       "      <th>sulphates</th>\n",
       "      <th>alcohol</th>\n",
       "      <th>quality</th>\n",
       "      <th>Colour</th>\n",
       "    </tr>\n",
       "  </thead>\n",
       "  <tbody>\n",
       "    <tr>\n",
       "      <th>0</th>\n",
       "      <td>5.7</td>\n",
       "      <td>0.25</td>\n",
       "      <td>0.27</td>\n",
       "      <td>11.50</td>\n",
       "      <td>0.040</td>\n",
       "      <td>24.0</td>\n",
       "      <td>120.0</td>\n",
       "      <td>0.99411</td>\n",
       "      <td>3.33</td>\n",
       "      <td>0.31</td>\n",
       "      <td>10.8</td>\n",
       "      <td>6</td>\n",
       "      <td>White</td>\n",
       "    </tr>\n",
       "    <tr>\n",
       "      <th>1</th>\n",
       "      <td>9.8</td>\n",
       "      <td>0.42</td>\n",
       "      <td>0.48</td>\n",
       "      <td>9.85</td>\n",
       "      <td>0.034</td>\n",
       "      <td>5.0</td>\n",
       "      <td>110.0</td>\n",
       "      <td>0.99580</td>\n",
       "      <td>2.87</td>\n",
       "      <td>0.29</td>\n",
       "      <td>10.0</td>\n",
       "      <td>5</td>\n",
       "      <td>White</td>\n",
       "    </tr>\n",
       "    <tr>\n",
       "      <th>2</th>\n",
       "      <td>7.1</td>\n",
       "      <td>0.47</td>\n",
       "      <td>0.29</td>\n",
       "      <td>14.80</td>\n",
       "      <td>0.024</td>\n",
       "      <td>22.0</td>\n",
       "      <td>142.0</td>\n",
       "      <td>0.99518</td>\n",
       "      <td>3.12</td>\n",
       "      <td>0.48</td>\n",
       "      <td>12.0</td>\n",
       "      <td>8</td>\n",
       "      <td>White</td>\n",
       "    </tr>\n",
       "    <tr>\n",
       "      <th>3</th>\n",
       "      <td>6.0</td>\n",
       "      <td>0.34</td>\n",
       "      <td>0.66</td>\n",
       "      <td>15.90</td>\n",
       "      <td>0.046</td>\n",
       "      <td>26.0</td>\n",
       "      <td>164.0</td>\n",
       "      <td>0.99790</td>\n",
       "      <td>3.14</td>\n",
       "      <td>0.50</td>\n",
       "      <td>8.8</td>\n",
       "      <td>6</td>\n",
       "      <td>White</td>\n",
       "    </tr>\n",
       "    <tr>\n",
       "      <th>4</th>\n",
       "      <td>6.7</td>\n",
       "      <td>0.46</td>\n",
       "      <td>0.21</td>\n",
       "      <td>4.00</td>\n",
       "      <td>0.034</td>\n",
       "      <td>12.0</td>\n",
       "      <td>88.0</td>\n",
       "      <td>0.99016</td>\n",
       "      <td>3.26</td>\n",
       "      <td>0.54</td>\n",
       "      <td>13.0</td>\n",
       "      <td>6</td>\n",
       "      <td>White</td>\n",
       "    </tr>\n",
       "  </tbody>\n",
       "</table>\n",
       "</div>"
      ],
      "text/plain": [
       "   fixed_acidity  volatile_acidity  citric_acid  residual_sugar  chlorides  \\\n",
       "0            5.7              0.25         0.27           11.50      0.040   \n",
       "1            9.8              0.42         0.48            9.85      0.034   \n",
       "2            7.1              0.47         0.29           14.80      0.024   \n",
       "3            6.0              0.34         0.66           15.90      0.046   \n",
       "4            6.7              0.46         0.21            4.00      0.034   \n",
       "\n",
       "   free_sulfur_dioxide  total_sulfur_dioxide  density    pH  sulphates  \\\n",
       "0                 24.0                 120.0  0.99411  3.33       0.31   \n",
       "1                  5.0                 110.0  0.99580  2.87       0.29   \n",
       "2                 22.0                 142.0  0.99518  3.12       0.48   \n",
       "3                 26.0                 164.0  0.99790  3.14       0.50   \n",
       "4                 12.0                  88.0  0.99016  3.26       0.54   \n",
       "\n",
       "   alcohol  quality Colour  \n",
       "0     10.8        6  White  \n",
       "1     10.0        5  White  \n",
       "2     12.0        8  White  \n",
       "3      8.8        6  White  \n",
       "4     13.0        6  White  "
      ]
     },
     "execution_count": 4,
     "metadata": {},
     "output_type": "execute_result"
    }
   ],
   "source": [
    "wine.head()"
   ]
  },
  {
   "cell_type": "markdown",
   "metadata": {},
   "source": [
    "## Brief\n",
    "\n",
    "In this exercise you are going to build a regression model to predict the quality of a bottle of wine, and then a classification model to predict its colour. \n",
    "\n",
    "\n",
    "We have left this assignment fairly open, you can research and use more advanced models and techniques if you want, or use more simple models if that is more comfortable. Either way, you are expected to evaluate the models you built."
   ]
  },
  {
   "cell_type": "markdown",
   "metadata": {},
   "source": [
    "## 1) Explore the data\n",
    "\n",
    "Never neglect your EDA! \n",
    "\n",
    " - Calculate summary statistics for your data\n",
    " - Check the distribution- are all fields normally distributed? Does this matter?\n",
    " - Check for Null values\n",
    " - Check for outliers, how can you visualise this? WHat do you think you should do with them?\n",
    " - Check correlations, produce a heatmap to demonstrate- which fields are most correlated with median value? Is there any examples of multicollinearity?"
   ]
  },
  {
   "cell_type": "code",
   "execution_count": 5,
   "metadata": {},
   "outputs": [
    {
     "data": {
      "text/html": [
       "<div>\n",
       "<style scoped>\n",
       "    .dataframe tbody tr th:only-of-type {\n",
       "        vertical-align: middle;\n",
       "    }\n",
       "\n",
       "    .dataframe tbody tr th {\n",
       "        vertical-align: top;\n",
       "    }\n",
       "\n",
       "    .dataframe thead th {\n",
       "        text-align: right;\n",
       "    }\n",
       "</style>\n",
       "<table border=\"1\" class=\"dataframe\">\n",
       "  <thead>\n",
       "    <tr style=\"text-align: right;\">\n",
       "      <th></th>\n",
       "      <th>fixed_acidity</th>\n",
       "      <th>volatile_acidity</th>\n",
       "      <th>citric_acid</th>\n",
       "      <th>residual_sugar</th>\n",
       "      <th>chlorides</th>\n",
       "      <th>free_sulfur_dioxide</th>\n",
       "      <th>total_sulfur_dioxide</th>\n",
       "      <th>density</th>\n",
       "      <th>pH</th>\n",
       "      <th>sulphates</th>\n",
       "      <th>alcohol</th>\n",
       "      <th>quality</th>\n",
       "    </tr>\n",
       "  </thead>\n",
       "  <tbody>\n",
       "    <tr>\n",
       "      <th>count</th>\n",
       "      <td>6497.000000</td>\n",
       "      <td>6497.000000</td>\n",
       "      <td>6497.000000</td>\n",
       "      <td>6497.000000</td>\n",
       "      <td>6497.000000</td>\n",
       "      <td>6497.000000</td>\n",
       "      <td>6497.000000</td>\n",
       "      <td>6497.000000</td>\n",
       "      <td>6497.000000</td>\n",
       "      <td>6497.000000</td>\n",
       "      <td>6497.000000</td>\n",
       "      <td>6497.000000</td>\n",
       "    </tr>\n",
       "    <tr>\n",
       "      <th>mean</th>\n",
       "      <td>7.215307</td>\n",
       "      <td>0.339666</td>\n",
       "      <td>0.318633</td>\n",
       "      <td>5.443235</td>\n",
       "      <td>0.056034</td>\n",
       "      <td>30.525319</td>\n",
       "      <td>115.744574</td>\n",
       "      <td>0.994697</td>\n",
       "      <td>3.218501</td>\n",
       "      <td>0.531268</td>\n",
       "      <td>10.491801</td>\n",
       "      <td>5.818378</td>\n",
       "    </tr>\n",
       "    <tr>\n",
       "      <th>std</th>\n",
       "      <td>1.296434</td>\n",
       "      <td>0.164636</td>\n",
       "      <td>0.145318</td>\n",
       "      <td>4.757804</td>\n",
       "      <td>0.035034</td>\n",
       "      <td>17.749400</td>\n",
       "      <td>56.521855</td>\n",
       "      <td>0.002999</td>\n",
       "      <td>0.160787</td>\n",
       "      <td>0.148806</td>\n",
       "      <td>1.192712</td>\n",
       "      <td>0.873255</td>\n",
       "    </tr>\n",
       "    <tr>\n",
       "      <th>min</th>\n",
       "      <td>3.800000</td>\n",
       "      <td>0.080000</td>\n",
       "      <td>0.000000</td>\n",
       "      <td>0.600000</td>\n",
       "      <td>0.009000</td>\n",
       "      <td>1.000000</td>\n",
       "      <td>6.000000</td>\n",
       "      <td>0.987110</td>\n",
       "      <td>2.720000</td>\n",
       "      <td>0.220000</td>\n",
       "      <td>8.000000</td>\n",
       "      <td>3.000000</td>\n",
       "    </tr>\n",
       "    <tr>\n",
       "      <th>25%</th>\n",
       "      <td>6.400000</td>\n",
       "      <td>0.230000</td>\n",
       "      <td>0.250000</td>\n",
       "      <td>1.800000</td>\n",
       "      <td>0.038000</td>\n",
       "      <td>17.000000</td>\n",
       "      <td>77.000000</td>\n",
       "      <td>0.992340</td>\n",
       "      <td>3.110000</td>\n",
       "      <td>0.430000</td>\n",
       "      <td>9.500000</td>\n",
       "      <td>5.000000</td>\n",
       "    </tr>\n",
       "    <tr>\n",
       "      <th>50%</th>\n",
       "      <td>7.000000</td>\n",
       "      <td>0.290000</td>\n",
       "      <td>0.310000</td>\n",
       "      <td>3.000000</td>\n",
       "      <td>0.047000</td>\n",
       "      <td>29.000000</td>\n",
       "      <td>118.000000</td>\n",
       "      <td>0.994890</td>\n",
       "      <td>3.210000</td>\n",
       "      <td>0.510000</td>\n",
       "      <td>10.300000</td>\n",
       "      <td>6.000000</td>\n",
       "    </tr>\n",
       "    <tr>\n",
       "      <th>75%</th>\n",
       "      <td>7.700000</td>\n",
       "      <td>0.400000</td>\n",
       "      <td>0.390000</td>\n",
       "      <td>8.100000</td>\n",
       "      <td>0.065000</td>\n",
       "      <td>41.000000</td>\n",
       "      <td>156.000000</td>\n",
       "      <td>0.996990</td>\n",
       "      <td>3.320000</td>\n",
       "      <td>0.600000</td>\n",
       "      <td>11.300000</td>\n",
       "      <td>6.000000</td>\n",
       "    </tr>\n",
       "    <tr>\n",
       "      <th>max</th>\n",
       "      <td>15.900000</td>\n",
       "      <td>1.580000</td>\n",
       "      <td>1.660000</td>\n",
       "      <td>65.800000</td>\n",
       "      <td>0.611000</td>\n",
       "      <td>289.000000</td>\n",
       "      <td>440.000000</td>\n",
       "      <td>1.038980</td>\n",
       "      <td>4.010000</td>\n",
       "      <td>2.000000</td>\n",
       "      <td>14.900000</td>\n",
       "      <td>9.000000</td>\n",
       "    </tr>\n",
       "  </tbody>\n",
       "</table>\n",
       "</div>"
      ],
      "text/plain": [
       "       fixed_acidity  volatile_acidity  citric_acid  residual_sugar  \\\n",
       "count    6497.000000       6497.000000  6497.000000     6497.000000   \n",
       "mean        7.215307          0.339666     0.318633        5.443235   \n",
       "std         1.296434          0.164636     0.145318        4.757804   \n",
       "min         3.800000          0.080000     0.000000        0.600000   \n",
       "25%         6.400000          0.230000     0.250000        1.800000   \n",
       "50%         7.000000          0.290000     0.310000        3.000000   \n",
       "75%         7.700000          0.400000     0.390000        8.100000   \n",
       "max        15.900000          1.580000     1.660000       65.800000   \n",
       "\n",
       "         chlorides  free_sulfur_dioxide  total_sulfur_dioxide      density  \\\n",
       "count  6497.000000          6497.000000           6497.000000  6497.000000   \n",
       "mean      0.056034            30.525319            115.744574     0.994697   \n",
       "std       0.035034            17.749400             56.521855     0.002999   \n",
       "min       0.009000             1.000000              6.000000     0.987110   \n",
       "25%       0.038000            17.000000             77.000000     0.992340   \n",
       "50%       0.047000            29.000000            118.000000     0.994890   \n",
       "75%       0.065000            41.000000            156.000000     0.996990   \n",
       "max       0.611000           289.000000            440.000000     1.038980   \n",
       "\n",
       "                pH    sulphates      alcohol      quality  \n",
       "count  6497.000000  6497.000000  6497.000000  6497.000000  \n",
       "mean      3.218501     0.531268    10.491801     5.818378  \n",
       "std       0.160787     0.148806     1.192712     0.873255  \n",
       "min       2.720000     0.220000     8.000000     3.000000  \n",
       "25%       3.110000     0.430000     9.500000     5.000000  \n",
       "50%       3.210000     0.510000    10.300000     6.000000  \n",
       "75%       3.320000     0.600000    11.300000     6.000000  \n",
       "max       4.010000     2.000000    14.900000     9.000000  "
      ]
     },
     "execution_count": 5,
     "metadata": {},
     "output_type": "execute_result"
    }
   ],
   "source": [
    "#Calculate summary statistics \n",
    "wine.describe()"
   ]
  },
  {
   "cell_type": "code",
   "execution_count": 8,
   "metadata": {},
   "outputs": [
    {
     "data": {
      "image/png": "[encoded data removed]",
      "text/plain": [
       "<Figure size 864x1440 with 12 Axes>"
      ]
     },
     "metadata": {
      "needs_background": "light"
     },
     "output_type": "display_data"
    }
   ],
   "source": [
    "#Plot each field as a histogram\n",
    "fig, ax = plt.subplots(ncols=3,nrows=4,figsize=(12,20))\n",
    "i=0\n",
    "j=0\n",
    "for col in wine.columns:\n",
    "    if col!='Colour':\n",
    "        wine[col].plot(kind='hist',ax=ax[i][j],title=col,bins=20)\n",
    "        j+=1\n",
    "        if j==3:\n",
    "            i+=1\n",
    "            j=0"
   ]
  },
  {
   "cell_type": "markdown",
   "metadata": {},
   "source": [
    "Only RM appears to follow a normal distribution- MEDV (our target variable) shows there area more districts at the lower end of median prices. "
   ]
  },
  {
   "cell_type": "code",
   "execution_count": 9,
   "metadata": {},
   "outputs": [
    {
     "data": {
      "text/plain": [
       "fixed_acidity           0\n",
       "volatile_acidity        0\n",
       "citric_acid             0\n",
       "residual_sugar          0\n",
       "chlorides               0\n",
       "free_sulfur_dioxide     0\n",
       "total_sulfur_dioxide    0\n",
       "density                 0\n",
       "pH                      0\n",
       "sulphates               0\n",
       "alcohol                 0\n",
       "quality                 0\n",
       "Colour                  0\n",
       "dtype: int64"
      ]
     },
     "execution_count": 9,
     "metadata": {},
     "output_type": "execute_result"
    }
   ],
   "source": [
    "#Check for Nulls\n",
    "wine.isnull().sum()"
   ]
  },
  {
   "cell_type": "code",
   "execution_count": 16,
   "metadata": {},
   "outputs": [
    {
     "data": {
      "image/png": "[encoded data removed]",
      "text/plain": [
       "<Figure size 864x864 with 1 Axes>"
      ]
     },
     "metadata": {
      "needs_background": "light"
     },
     "output_type": "display_data"
    }
   ],
   "source": [
    "#Side by side boxplots to check distribution and check for outliers\n",
    "fig, ax =plt.subplots(figsize=(12,12))\n",
    "sns.boxplot(data=wine,orient='v',fliersize=5,linewidth=3,saturation=0.5,ax=ax)\n",
    "ax.set_xticklabels(ax.get_xticklabels(),rotation=30);"
   ]
  },
  {
   "cell_type": "code",
   "execution_count": 15,
   "metadata": {},
   "outputs": [
    {
     "data": {
      "image/png": "[encoded data removed]",
      "text/plain": [
       "<Figure size 864x864 with 1 Axes>"
      ]
     },
     "metadata": {
      "needs_background": "light"
     },
     "output_type": "display_data"
    }
   ],
   "source": [
    "#Standardise the data before making the box plot so they are on the same scale\n",
    "no_colour=wine.drop('Colour',axis=1)\n",
    "data_standardised= (no_colour-no_colour.mean())/no_colour.std()\n",
    "\n",
    "fig, ax =plt.subplots(figsize=(12,12))\n",
    "sns.boxplot(data=data_standardised,orient='v',fliersize=5,linewidth=3,saturation=0.5,ax=ax)\n",
    "ax.set_xticklabels(ax.get_xticklabels(),rotation=30);"
   ]
  },
  {
   "cell_type": "code",
   "execution_count": 17,
   "metadata": {},
   "outputs": [
    {
     "data": {
      "image/png": "[encoded data removed]",
      "text/plain": [
       "<Figure size 792x648 with 2 Axes>"
      ]
     },
     "metadata": {
      "needs_background": "light"
     },
     "output_type": "display_data"
    }
   ],
   "source": [
    "#Producing a heatmap for correlation\n",
    "corr=wine.corr()\n",
    "mask = np.zeros_like(corr, dtype=np.bool)\n",
    "mask[np.triu_indices_from(mask)] = True\n",
    "f, ax = plt.subplots(figsize=(11, 9))\n",
    "\n",
    "\n",
    "cmap = sns.diverging_palette(220, 10, as_cmap=True)\n",
    "\n",
    "\n",
    "sns.heatmap(corr, mask=mask, cmap=cmap, vmax=.3, center=0,\n",
    "            square=True, linewidths=.5, cbar_kws={\"shrink\": .5});"
   ]
  },
  {
   "cell_type": "code",
   "execution_count": 18,
   "metadata": {},
   "outputs": [
    {
     "data": {
      "text/plain": [
       "fixed_acidity          -0.076743\n",
       "volatile_acidity       -0.265699\n",
       "citric_acid             0.085532\n",
       "residual_sugar         -0.036980\n",
       "chlorides              -0.200666\n",
       "free_sulfur_dioxide     0.055463\n",
       "total_sulfur_dioxide   -0.041385\n",
       "density                -0.305858\n",
       "pH                      0.019506\n",
       "sulphates               0.038485\n",
       "alcohol                 0.444319\n",
       "quality                 1.000000\n",
       "Name: quality, dtype: float64"
      ]
     },
     "execution_count": 18,
     "metadata": {},
     "output_type": "execute_result"
    }
   ],
   "source": [
    "wine.corr()['quality']"
   ]
  },
  {
   "cell_type": "markdown",
   "metadata": {},
   "source": [
    "# 2) Regression\n",
    "\n",
    "Your first task is to build a model that predicts the quality of a type of wine. You will need to build a linear regression model but you can use as many features as you like, any you do include must be justified from your EDA. Once you have created your model, evaluate it by reporting at least the r-squared.\n",
    "\n",
    "Required:\n",
    "\n",
    " - Select and justify features to be included in your model\n",
    " - Use the train_test_split function to create a training and testing set\n",
    " - Build a regression model to predict quality from your chosen features\n",
    " - Report the r-squared and at least one other performance metric\n",
    " \n",
    "Optional: \n",
    "\n",
    " - Use cross validation to evaluate the performance of your model \n",
    " - Use StandardScaler to standardise your features and compare the models performance\n",
    " - Plot the model coefficients against each other- which variable is the most important when predicting median value?\n",
    " - Plot the set of predicted values against the target variable- what does this show?\n",
    " \n",
    "Extend:\n",
    "\n",
    " - Optimise the model by using regularisation\n",
    " - Research cross validation estimators (e.g. ElasticNetCV)\n",
    " - Research sklearn Pipeline and use it in building your model"
   ]
  },
  {
   "cell_type": "code",
   "execution_count": 21,
   "metadata": {},
   "outputs": [],
   "source": [
    "#For the basic model, we will include all features, but apprentices may have chosen to omit some, make sure they hae justified why\n",
    "X=wine.copy()\n",
    "X=pd.get_dummies(X,columns=['Colour'],drop_first=True)\n",
    "y=X.pop('quality')"
   ]
  },
  {
   "cell_type": "code",
   "execution_count": 23,
   "metadata": {},
   "outputs": [],
   "source": [
    "X_train, X_test, y_train, y_test = train_test_split(X,y,train_size=0.8)"
   ]
  },
  {
   "cell_type": "code",
   "execution_count": 24,
   "metadata": {},
   "outputs": [],
   "source": [
    "scaler=StandardScaler()\n",
    "X_std=scaler.fit_transform(X_train)\n",
    "X_test_std=scaler.transform(X_test)"
   ]
  },
  {
   "cell_type": "code",
   "execution_count": 25,
   "metadata": {},
   "outputs": [],
   "source": [
    "lr=LinearRegression().fit(X_std,y_train)"
   ]
  },
  {
   "cell_type": "code",
   "execution_count": 26,
   "metadata": {},
   "outputs": [
    {
     "name": "stdout",
     "output_type": "stream",
     "text": [
      "R-Squared: 0.2987225136273406\n"
     ]
    }
   ],
   "source": [
    "print('R-Squared: ' + str(lr.score(X_test_std,y_test)))"
   ]
  },
  {
   "cell_type": "code",
   "execution_count": 27,
   "metadata": {},
   "outputs": [
    {
     "data": {
      "text/plain": [
       "0.29246486136163846"
      ]
     },
     "execution_count": 27,
     "metadata": {},
     "output_type": "execute_result"
    }
   ],
   "source": [
    "# Using cross_val_score\n",
    "cross_val_score(lr,X,y).mean()"
   ]
  },
  {
   "cell_type": "code",
   "execution_count": 28,
   "metadata": {},
   "outputs": [
    {
     "data": {
      "text/plain": [
       "0.2991311459081675"
      ]
     },
     "execution_count": 28,
     "metadata": {},
     "output_type": "execute_result"
    }
   ],
   "source": [
    "#Using ElasticNetCV\n",
    "from sklearn.linear_model import ElasticNetCV\n",
    "\n",
    "en=ElasticNetCV(l1_ratio=[0.01,0.1,0.5,0.9,0.99],cv=5).fit(X_std,y_train)\n",
    "en.score(X_test_std,y_test)"
   ]
  },
  {
   "cell_type": "code",
   "execution_count": 29,
   "metadata": {},
   "outputs": [],
   "source": [
    "#Find predictions to plot against true values\n",
    "preds=lr.predict(X)"
   ]
  },
  {
   "cell_type": "code",
   "execution_count": 30,
   "metadata": {},
   "outputs": [
    {
     "data": {
      "image/png": "[encoded data removed]",
      "text/plain": [
       "<Figure size 432x288 with 1 Axes>"
      ]
     },
     "metadata": {
      "needs_background": "light"
     },
     "output_type": "display_data"
    }
   ],
   "source": [
    "plt.plot(preds,y,'.')\n",
    "plt.xlabel('Predicted Values')\n",
    "plt.ylabel('True Values')\n",
    "plt.show()"
   ]
  },
  {
   "cell_type": "markdown",
   "metadata": {},
   "source": [
    "You can plot predicted vs real values to get an idea of how accurate the model is for predicting. The closer the points fall into the pattern of (y=x) the better the model is"
   ]
  },
  {
   "cell_type": "code",
   "execution_count": 31,
   "metadata": {},
   "outputs": [
    {
     "data": {
      "text/html": [
       "<div>\n",
       "<style scoped>\n",
       "    .dataframe tbody tr th:only-of-type {\n",
       "        vertical-align: middle;\n",
       "    }\n",
       "\n",
       "    .dataframe tbody tr th {\n",
       "        vertical-align: top;\n",
       "    }\n",
       "\n",
       "    .dataframe thead th {\n",
       "        text-align: right;\n",
       "    }\n",
       "</style>\n",
       "<table border=\"1\" class=\"dataframe\">\n",
       "  <thead>\n",
       "    <tr style=\"text-align: right;\">\n",
       "      <th></th>\n",
       "      <th>effect</th>\n",
       "      <th>Abs_effect</th>\n",
       "    </tr>\n",
       "  </thead>\n",
       "  <tbody>\n",
       "    <tr>\n",
       "      <th>fixed_acidity</th>\n",
       "      <td>0.126036</td>\n",
       "      <td>0.126036</td>\n",
       "    </tr>\n",
       "    <tr>\n",
       "      <th>volatile_acidity</th>\n",
       "      <td>-0.248193</td>\n",
       "      <td>0.248193</td>\n",
       "    </tr>\n",
       "    <tr>\n",
       "      <th>citric_acid</th>\n",
       "      <td>-0.009286</td>\n",
       "      <td>0.009286</td>\n",
       "    </tr>\n",
       "    <tr>\n",
       "      <th>residual_sugar</th>\n",
       "      <td>0.308925</td>\n",
       "      <td>0.308925</td>\n",
       "    </tr>\n",
       "    <tr>\n",
       "      <th>chlorides</th>\n",
       "      <td>-0.023760</td>\n",
       "      <td>0.023760</td>\n",
       "    </tr>\n",
       "    <tr>\n",
       "      <th>free_sulfur_dioxide</th>\n",
       "      <td>0.082734</td>\n",
       "      <td>0.082734</td>\n",
       "    </tr>\n",
       "    <tr>\n",
       "      <th>total_sulfur_dioxide</th>\n",
       "      <td>-0.077623</td>\n",
       "      <td>0.077623</td>\n",
       "    </tr>\n",
       "    <tr>\n",
       "      <th>density</th>\n",
       "      <td>-0.331664</td>\n",
       "      <td>0.331664</td>\n",
       "    </tr>\n",
       "    <tr>\n",
       "      <th>pH</th>\n",
       "      <td>0.084804</td>\n",
       "      <td>0.084804</td>\n",
       "    </tr>\n",
       "    <tr>\n",
       "      <th>sulphates</th>\n",
       "      <td>0.111475</td>\n",
       "      <td>0.111475</td>\n",
       "    </tr>\n",
       "    <tr>\n",
       "      <th>alcohol</th>\n",
       "      <td>0.256745</td>\n",
       "      <td>0.256745</td>\n",
       "    </tr>\n",
       "    <tr>\n",
       "      <th>Colour_White</th>\n",
       "      <td>-0.162141</td>\n",
       "      <td>0.162141</td>\n",
       "    </tr>\n",
       "  </tbody>\n",
       "</table>\n",
       "</div>"
      ],
      "text/plain": [
       "                        effect  Abs_effect\n",
       "fixed_acidity         0.126036    0.126036\n",
       "volatile_acidity     -0.248193    0.248193\n",
       "citric_acid          -0.009286    0.009286\n",
       "residual_sugar        0.308925    0.308925\n",
       "chlorides            -0.023760    0.023760\n",
       "free_sulfur_dioxide   0.082734    0.082734\n",
       "total_sulfur_dioxide -0.077623    0.077623\n",
       "density              -0.331664    0.331664\n",
       "pH                    0.084804    0.084804\n",
       "sulphates             0.111475    0.111475\n",
       "alcohol               0.256745    0.256745\n",
       "Colour_White         -0.162141    0.162141"
      ]
     },
     "execution_count": 31,
     "metadata": {},
     "output_type": "execute_result"
    }
   ],
   "source": [
    "#Build dataframe to show coefficients\n",
    "coef_df=pd.DataFrame(lr.coef_,index=X.columns,columns=['effect'])\n",
    "coef_df['Abs_effect']=np.abs(coef_df.effect)\n",
    "coef_df"
   ]
  },
  {
   "cell_type": "markdown",
   "metadata": {},
   "source": [
    "This dataframe shows for each feature their effect (both actual and absolute) this way we can see which features are the most useful for predicting median house prices"
   ]
  },
  {
   "cell_type": "code",
   "execution_count": 32,
   "metadata": {},
   "outputs": [
    {
     "data": {
      "image/png": "[encoded data removed]",
      "text/plain": [
       "<Figure size 720x864 with 1 Axes>"
      ]
     },
     "metadata": {
      "needs_background": "light"
     },
     "output_type": "display_data"
    }
   ],
   "source": [
    "fig, ax =plt.subplots(figsize=(10,12))\n",
    "coef_df.sort_values(by='effect').plot(kind='barh',y='effect',ax=ax,alpha=0.5);"
   ]
  },
  {
   "cell_type": "markdown",
   "metadata": {},
   "source": [
    "It appears LSTST, DIS and RAD are the most important features when predicting"
   ]
  },
  {
   "cell_type": "code",
   "execution_count": 33,
   "metadata": {},
   "outputs": [
    {
     "data": {
      "text/plain": [
       "0.2987225136273406"
      ]
     },
     "execution_count": 33,
     "metadata": {},
     "output_type": "execute_result"
    }
   ],
   "source": [
    "#Using a pipeline for efficiency\n",
    "from sklearn.pipeline import Pipeline\n",
    "\n",
    "pipe=Pipeline([('scaler',StandardScaler()),('model',LinearRegression())]).fit(X_train,y_train)\n",
    "pipe.score(X_test,y_test)"
   ]
  },
  {
   "cell_type": "markdown",
   "metadata": {},
   "source": [
    "## 3) Classification\n",
    "\n",
    "Now you have made a model to predict the quality of a wine, you have now been asked to predict whether it is red or white based off its features.\n",
    "\n",
    "You should use logistic regression, but you can research and use other classification methods if you would like. \n",
    "\n",
    "Required:\n",
    "\n",
    " - Use train_test_split to create a training and testing set\n",
    " - Build a classification model to predict 'Colour' using your chosen features\n",
    " - Report the accuracy and baseline accuracy\n",
    " \n",
    "Optional:\n",
    " \n",
    "  - Produce a confusion matrix to show how effectve your model is\n",
    "  - Calculate the precision and recall to explain how effective your model is for predicting\n",
    " \n",
    "Extend:\n",
    " \n",
    "  - Research and use other classification models (KNN, SVC, etc) and compare them to your logistic regression model\n"
   ]
  },
  {
   "cell_type": "code",
   "execution_count": 34,
   "metadata": {},
   "outputs": [
    {
     "data": {
      "text/plain": [
       "0.7538864091118977"
      ]
     },
     "execution_count": 34,
     "metadata": {},
     "output_type": "execute_result"
    }
   ],
   "source": [
    "#Find baseline estimate\n",
    "baseline=wine.Colour.value_counts(normalize=True)\n",
    "baseline.max()"
   ]
  },
  {
   "cell_type": "code",
   "execution_count": 36,
   "metadata": {},
   "outputs": [],
   "source": [
    "#Build logistic regression model\n",
    "X=wine.copy()\n",
    "y=X.pop('Colour')\n",
    "X_train, X_test, y_train, y_test = train_test_split(X,y,stratify=y)"
   ]
  },
  {
   "cell_type": "code",
   "execution_count": 37,
   "metadata": {},
   "outputs": [],
   "source": [
    "scaler=StandardScaler()\n",
    "X_std=scaler.fit_transform(X_train)\n",
    "X_test_std=scaler.transform(X_test)"
   ]
  },
  {
   "cell_type": "code",
   "execution_count": 38,
   "metadata": {},
   "outputs": [],
   "source": [
    "log=LogisticRegression().fit(X_std,y_train)"
   ]
  },
  {
   "cell_type": "code",
   "execution_count": 39,
   "metadata": {},
   "outputs": [
    {
     "name": "stdout",
     "output_type": "stream",
     "text": [
      "Baseline Accuracy: 0.7538864091118977\n",
      "Train Accuracy: 0.9936371100164204\n",
      "Test Accuracy: 0.9913846153846154\n"
     ]
    }
   ],
   "source": [
    "print('Baseline Accuracy: ' + str(baseline.max()))\n",
    "print('Train Accuracy: ' +str(log.score(X_std,y_train)))\n",
    "print('Test Accuracy: ' +str(log.score(X_test_std,y_test)))"
   ]
  },
  {
   "cell_type": "code",
   "execution_count": 1,
   "metadata": {},
   "outputs": [
    {
     "ename": "NameError",
     "evalue": "name 'plt' is not defined",
     "output_type": "error",
     "traceback": [
      "\u001b[1;31m---------------------------------------------------------------------------\u001b[0m",
      "\u001b[1;31mNameError\u001b[0m                                 Traceback (most recent call last)",
      "\u001b[1;32m<ipython-input-1-694e598b440e>\u001b[0m in \u001b[0;36m<module>\u001b[1;34m\u001b[0m\n\u001b[0;32m      1\u001b[0m \u001b[1;31m#Build a confusion Matrix\u001b[0m\u001b[1;33m\u001b[0m\u001b[1;33m\u001b[0m\u001b[1;33m\u001b[0m\u001b[0m\n\u001b[0;32m      2\u001b[0m \u001b[1;32mfrom\u001b[0m \u001b[0msklearn\u001b[0m\u001b[1;33m.\u001b[0m\u001b[0mmetrics\u001b[0m \u001b[1;32mimport\u001b[0m \u001b[0mclassification_report\u001b[0m\u001b[1;33m,\u001b[0m \u001b[0mplot_confusion_matrix\u001b[0m\u001b[1;33m\u001b[0m\u001b[1;33m\u001b[0m\u001b[0m\n\u001b[1;32m----> 3\u001b[1;33m \u001b[0mplt\u001b[0m\u001b[1;33m.\u001b[0m\u001b[0mgrid\u001b[0m\u001b[1;33m(\u001b[0m\u001b[1;32mFalse\u001b[0m\u001b[1;33m)\u001b[0m\u001b[1;33m\u001b[0m\u001b[1;33m\u001b[0m\u001b[0m\n\u001b[0m\u001b[0;32m      4\u001b[0m \u001b[0mplot_confusion_matrix\u001b[0m\u001b[1;33m(\u001b[0m\u001b[0mlog\u001b[0m\u001b[1;33m,\u001b[0m \u001b[0mX_test_std\u001b[0m\u001b[1;33m,\u001b[0m \u001b[0my_test\u001b[0m\u001b[1;33m)\u001b[0m\u001b[1;33m;\u001b[0m\u001b[1;33m\u001b[0m\u001b[1;33m\u001b[0m\u001b[0m\n\u001b[0;32m      5\u001b[0m \u001b[1;33m\u001b[0m\u001b[0m\n",
      "\u001b[1;31mNameError\u001b[0m: name 'plt' is not defined"
     ]
    }
   ],
   "source": [
    "#Build a confusion Matrix\n",
    "from sklearn.metrics import classification_report, plot_confusion_matrix\n",
    "\n",
    "plot_confusion_matrix(log, X_test_std, y_test);\n",
    "\n"
   ]
  },
  {
   "cell_type": "code",
   "execution_count": 41,
   "metadata": {},
   "outputs": [
    {
     "name": "stdout",
     "output_type": "stream",
     "text": [
      "              precision    recall  f1-score   support\n",
      "\n",
      "         Red       0.98      0.98      0.98       400\n",
      "       White       1.00      0.99      0.99      1225\n",
      "\n",
      "    accuracy                           0.99      1625\n",
      "   macro avg       0.99      0.99      0.99      1625\n",
      "weighted avg       0.99      0.99      0.99      1625\n",
      "\n"
     ]
    }
   ],
   "source": [
    "predictions=log.predict(X_test_std)\n",
    "print(classification_report(y_test,predictions))"
   ]
  },
  {
   "cell_type": "markdown",
   "metadata": {},
   "source": [
    "The confusion matrix shows the the logistic regression model is predicting well the correct labels, which is backed up by high accuracy and recall"
   ]
  },
  {
   "cell_type": "code",
   "execution_count": 42,
   "metadata": {},
   "outputs": [],
   "source": [
    "#Trying other classifiers\n",
    "from sklearn.neighbors import KNeighborsClassifier\n",
    "from sklearn.svm import SVC"
   ]
  },
  {
   "cell_type": "code",
   "execution_count": 43,
   "metadata": {},
   "outputs": [],
   "source": [
    "knn=KNeighborsClassifier().fit(X_std,y_train)\n",
    "svc=SVC().fit(X_std,y_train)"
   ]
  },
  {
   "cell_type": "code",
   "execution_count": 44,
   "metadata": {},
   "outputs": [
    {
     "name": "stdout",
     "output_type": "stream",
     "text": [
      "Baseline Accuracy: 0.7538864091118977\n",
      "Logistic Regression Accuracy: 0.9913846153846154\n",
      "KNN Accuracy: 0.9901538461538462\n",
      "SVC Accuracy: 0.9956923076923077\n"
     ]
    }
   ],
   "source": [
    "print('Baseline Accuracy: ' + str(baseline.max()))\n",
    "print('Logistic Regression Accuracy: ' +str(log.score(X_test_std,y_test)))\n",
    "print('KNN Accuracy: ' +str(knn.score(X_test_std,y_test)))\n",
    "print('SVC Accuracy: ' +str(svc.score(X_test_std,y_test)))"
   ]
  },
  {
   "cell_type": "code",
   "execution_count": 45,
   "metadata": {},
   "outputs": [],
   "source": [
    "#Try pipeline and gridsearchcv\n",
    "from sklearn.model_selection import GridSearchCV\n",
    "pipe=Pipeline([('scaler',StandardScaler()),('model',LogisticRegression())])"
   ]
  },
  {
   "cell_type": "code",
   "execution_count": 46,
   "metadata": {},
   "outputs": [
    {
     "name": "stdout",
     "output_type": "stream",
     "text": [
      "Fitting 5 folds for each of 120 candidates, totalling 600 fits\n"
     ]
    },
    {
     "name": "stderr",
     "output_type": "stream",
     "text": [
      "[Parallel(n_jobs=2)]: Using backend LokyBackend with 2 concurrent workers.\n",
      "[Parallel(n_jobs=2)]: Done 202 tasks      | elapsed:    4.4s\n",
      "[Parallel(n_jobs=2)]: Done 600 out of 600 | elapsed:   11.0s finished\n"
     ]
    }
   ],
   "source": [
    "lr_dict={\n",
    "    'model__penalty':['l1','l2'],\n",
    "    'model__C':[1,10,100,1000,10**10],\n",
    "    'model__max_iter':[1,10,100,1000],\n",
    "    'model__random_state':[0,100,2018],\n",
    "    'model__solver':['liblinear']\n",
    "    \n",
    "}\n",
    "lr_gridsearch = GridSearchCV(pipe,\n",
    "                              lr_dict,\n",
    "                              n_jobs=2, \n",
    "                              cv=5, \n",
    "                              verbose=1, \n",
    "                              return_train_score=True).fit(X_std,y_train)"
   ]
  },
  {
   "cell_type": "code",
   "execution_count": 47,
   "metadata": {},
   "outputs": [
    {
     "data": {
      "text/plain": [
       "{'model__C': 10,\n",
       " 'model__max_iter': 10,\n",
       " 'model__penalty': 'l2',\n",
       " 'model__random_state': 0,\n",
       " 'model__solver': 'liblinear'}"
      ]
     },
     "execution_count": 47,
     "metadata": {},
     "output_type": "execute_result"
    }
   ],
   "source": [
    "lr_gridsearch.best_params_"
   ]
  },
  {
   "cell_type": "code",
   "execution_count": 48,
   "metadata": {},
   "outputs": [
    {
     "data": {
      "text/plain": [
       "0.9932261359448218"
      ]
     },
     "execution_count": 48,
     "metadata": {},
     "output_type": "execute_result"
    }
   ],
   "source": [
    "lr_gridsearch.best_score_"
   ]
  },
  {
   "cell_type": "markdown",
   "metadata": {},
   "source": [
    "# Part 2\n",
    "\n",
    "Load in a dataset from your work and create a regression and classification model using whatever features you like. This can be as simple or complex as you'd like, but ensure you have justified your decisions through your EDA and evaluated the performance metrics of each model. "
   ]
  },
  {
   "cell_type": "code",
   "execution_count": null,
   "metadata": {},
   "outputs": [],
   "source": []
  }
 ],
 "metadata": {
  "kernelspec": {
   "display_name": "Python 3",
   "language": "python",
   "name": "python3"
  },
  "language_info": {
   "codemirror_mode": {
    "name": "ipython",
    "version": 3
   },
   "file_extension": ".py",
   "mimetype": "text/x-python",
   "name": "python",
   "nbconvert_exporter": "python",
   "pygments_lexer": "ipython3",
   "version": "3.7.6"
  }
 },
 "nbformat": 4,
 "nbformat_minor": 4
}
