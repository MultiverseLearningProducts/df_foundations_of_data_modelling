{
 "cells": [
  {
   "cell_type": "markdown",
   "metadata": {},
   "source": [
    "# Part 1: Regression and Classification with Wine Data"
   ]
  },
  {
   "cell_type": "markdown",
   "metadata": {},
   "source": [
    "You have recently been hired by a famous wine merchant who wants you to use your machine learning skills to help grow his business. For this exercise you will be using the UCL wine quality dataset and will be building a regression and classification model.\n",
    "\n",
    "Let's take a look at the data:"
   ]
  },
  {
   "cell_type": "code",
   "execution_count": 2,
   "metadata": {},
   "outputs": [],
   "source": [
    "import pandas as pd\n",
    "import seaborn as sns\n",
    "import matplotlib.pyplot as plt\n",
    "import numpy as np\n",
    "from sklearn.preprocessing import StandardScaler\n",
    "from sklearn.linear_model import LinearRegression, LogisticRegression\n",
    "from sklearn.model_selection import train_test_split, cross_val_score"
   ]
  },
  {
   "cell_type": "code",
   "execution_count": 3,
   "metadata": {},
   "outputs": [],
   "source": [
    "wine=pd.read_csv('wine_quality.csv')"
   ]
  },
  {
   "cell_type": "code",
   "execution_count": 4,
   "metadata": {},
   "outputs": [
    {
     "data": {
      "text/html": [
       "<div>\n",
       "<style scoped>\n",
       "    .dataframe tbody tr th:only-of-type {\n",
       "        vertical-align: middle;\n",
       "    }\n",
       "\n",
       "    .dataframe tbody tr th {\n",
       "        vertical-align: top;\n",
       "    }\n",
       "\n",
       "    .dataframe thead th {\n",
       "        text-align: right;\n",
       "    }\n",
       "</style>\n",
       "<table border=\"1\" class=\"dataframe\">\n",
       "  <thead>\n",
       "    <tr style=\"text-align: right;\">\n",
       "      <th></th>\n",
       "      <th>fixed_acidity</th>\n",
       "      <th>volatile_acidity</th>\n",
       "      <th>citric_acid</th>\n",
       "      <th>residual_sugar</th>\n",
       "      <th>chlorides</th>\n",
       "      <th>free_sulfur_dioxide</th>\n",
       "      <th>total_sulfur_dioxide</th>\n",
       "      <th>density</th>\n",
       "      <th>pH</th>\n",
       "      <th>sulphates</th>\n",
       "      <th>alcohol</th>\n",
       "      <th>quality</th>\n",
       "      <th>Colour</th>\n",
       "    </tr>\n",
       "  </thead>\n",
       "  <tbody>\n",
       "    <tr>\n",
       "      <th>0</th>\n",
       "      <td>5.7</td>\n",
       "      <td>0.25</td>\n",
       "      <td>0.27</td>\n",
       "      <td>11.50</td>\n",
       "      <td>0.040</td>\n",
       "      <td>24.0</td>\n",
       "      <td>120.0</td>\n",
       "      <td>0.99411</td>\n",
       "      <td>3.33</td>\n",
       "      <td>0.31</td>\n",
       "      <td>10.8</td>\n",
       "      <td>6</td>\n",
       "      <td>White</td>\n",
       "    </tr>\n",
       "    <tr>\n",
       "      <th>1</th>\n",
       "      <td>9.8</td>\n",
       "      <td>0.42</td>\n",
       "      <td>0.48</td>\n",
       "      <td>9.85</td>\n",
       "      <td>0.034</td>\n",
       "      <td>5.0</td>\n",
       "      <td>110.0</td>\n",
       "      <td>0.99580</td>\n",
       "      <td>2.87</td>\n",
       "      <td>0.29</td>\n",
       "      <td>10.0</td>\n",
       "      <td>5</td>\n",
       "      <td>White</td>\n",
       "    </tr>\n",
       "    <tr>\n",
       "      <th>2</th>\n",
       "      <td>7.1</td>\n",
       "      <td>0.47</td>\n",
       "      <td>0.29</td>\n",
       "      <td>14.80</td>\n",
       "      <td>0.024</td>\n",
       "      <td>22.0</td>\n",
       "      <td>142.0</td>\n",
       "      <td>0.99518</td>\n",
       "      <td>3.12</td>\n",
       "      <td>0.48</td>\n",
       "      <td>12.0</td>\n",
       "      <td>8</td>\n",
       "      <td>White</td>\n",
       "    </tr>\n",
       "    <tr>\n",
       "      <th>3</th>\n",
       "      <td>6.0</td>\n",
       "      <td>0.34</td>\n",
       "      <td>0.66</td>\n",
       "      <td>15.90</td>\n",
       "      <td>0.046</td>\n",
       "      <td>26.0</td>\n",
       "      <td>164.0</td>\n",
       "      <td>0.99790</td>\n",
       "      <td>3.14</td>\n",
       "      <td>0.50</td>\n",
       "      <td>8.8</td>\n",
       "      <td>6</td>\n",
       "      <td>White</td>\n",
       "    </tr>\n",
       "    <tr>\n",
       "      <th>4</th>\n",
       "      <td>6.7</td>\n",
       "      <td>0.46</td>\n",
       "      <td>0.21</td>\n",
       "      <td>4.00</td>\n",
       "      <td>0.034</td>\n",
       "      <td>12.0</td>\n",
       "      <td>88.0</td>\n",
       "      <td>0.99016</td>\n",
       "      <td>3.26</td>\n",
       "      <td>0.54</td>\n",
       "      <td>13.0</td>\n",
       "      <td>6</td>\n",
       "      <td>White</td>\n",
       "    </tr>\n",
       "  </tbody>\n",
       "</table>\n",
       "</div>"
      ],
      "text/plain": [
       "   fixed_acidity  volatile_acidity  citric_acid  residual_sugar  chlorides  \\\n",
       "0            5.7              0.25         0.27           11.50      0.040   \n",
       "1            9.8              0.42         0.48            9.85      0.034   \n",
       "2            7.1              0.47         0.29           14.80      0.024   \n",
       "3            6.0              0.34         0.66           15.90      0.046   \n",
       "4            6.7              0.46         0.21            4.00      0.034   \n",
       "\n",
       "   free_sulfur_dioxide  total_sulfur_dioxide  density    pH  sulphates  \\\n",
       "0                 24.0                 120.0  0.99411  3.33       0.31   \n",
       "1                  5.0                 110.0  0.99580  2.87       0.29   \n",
       "2                 22.0                 142.0  0.99518  3.12       0.48   \n",
       "3                 26.0                 164.0  0.99790  3.14       0.50   \n",
       "4                 12.0                  88.0  0.99016  3.26       0.54   \n",
       "\n",
       "   alcohol  quality Colour  \n",
       "0     10.8        6  White  \n",
       "1     10.0        5  White  \n",
       "2     12.0        8  White  \n",
       "3      8.8        6  White  \n",
       "4     13.0        6  White  "
      ]
     },
     "execution_count": 4,
     "metadata": {},
     "output_type": "execute_result"
    }
   ],
   "source": [
    "wine.head()"
   ]
  },
  {
   "cell_type": "markdown",
   "metadata": {},
   "source": [
    "## Brief\n",
    "\n",
    "In this exercise you are going to build a regression model to predict the quality of a bottle of wine, and then a classification model to predict its colour. \n",
    "\n",
    "\n",
    "We have left this assignment fairly open, you can research and use more advanced models and techniques if you want, or use more simple models if that is more comfortable. Either way, you are expected to evaluate the models you built."
   ]
  },
  {
   "cell_type": "markdown",
   "metadata": {},
   "source": [
    "## 1) Explore the data\n",
    "\n",
    "Never neglect your EDA! \n",
    "\n",
    " - Calculate summary statistics for your data\n",
    " - Check the distribution- are all fields normally distributed? Does this matter?\n",
    " - Check for Null values\n",
    " - Check for outliers, how can you visualise this? What do you think you should do with them?\n",
    " - Check correlations, produce a heatmap to demonstrate- which fields are most correlated with median value? Is there any examples of multicollinearity?"
   ]
  },
  {
   "cell_type": "code",
   "execution_count": null,
   "metadata": {},
   "outputs": [],
   "source": []
  },
  {
   "cell_type": "code",
   "execution_count": null,
   "metadata": {},
   "outputs": [],
   "source": []
  },
  {
   "cell_type": "markdown",
   "metadata": {},
   "source": [
    "# 2) Regression\n",
    "\n",
    "Your first task is to build a model that predicts the quality of a type of wine. You will need to build a linear regression model but you can use as many features as you like, any you do include must be justified from your EDA. Once you have created your model, evaluate it by reporting at least the r-squared.\n",
    "\n",
    "Required:\n",
    "\n",
    " - Select and justify features to be included in your model\n",
    " - Use the train_test_split function to create a training and testing set\n",
    " - Build a regression model to predict quality from your chosen features\n",
    " - Report the r-squared and at least one other performance metric\n",
    " \n",
    "Optional: \n",
    "\n",
    " - Use cross validation to evaluate the performance of your model \n",
    " - Use StandardScaler to standardise your features and compare the models performance\n",
    " - Plot the model coefficients against each other- which variable is the most important when predicting median value?\n",
    " - Plot the set of predicted values against the target variable- what does this show?\n",
    " \n",
    "Extend:\n",
    "\n",
    " - Optimise the model by using regularisation\n",
    " - Research cross validation estimators (e.g. ElasticNetCV)\n",
    " - Research sklearn Pipeline and use it in building your model"
   ]
  },
  {
   "cell_type": "code",
   "execution_count": null,
   "metadata": {},
   "outputs": [],
   "source": []
  },
  {
   "cell_type": "markdown",
   "metadata": {},
   "source": [
    "## 3) Classification\n",
    "\n",
    "Now you have made a model to predict the quality of a wine, you have now been asked to predict whether it is red or white based off its features.\n",
    "\n",
    "You should use logistic regression, but you can research and use other classification methods if you would like. \n",
    "\n",
    "Required:\n",
    "\n",
    " - Use train_test_split to create a training and testing set\n",
    " - Build a classification model to predict 'Colour' using your chosen features\n",
    " - Report the accuracy and baseline accuracy\n",
    " \n",
    "Optional:\n",
    " \n",
    "  - Produce a confusion matrix to show how effectve your model is\n",
    "  - Calculate the precision and recall to explain how effective your model is for predicting\n",
    " \n",
    "Extend:\n",
    " \n",
    "  - Research and use other classification models (KNN, SVC, etc) and compare them to your logistic regression model\n"
   ]
  },
  {
   "cell_type": "code",
   "execution_count": null,
   "metadata": {},
   "outputs": [],
   "source": []
  },
  {
   "cell_type": "markdown",
   "metadata": {},
   "source": [
    "# Part 2\n",
    "\n",
    "Load in a dataset from your work and create a regression and classification model using whatever features you like. This can be as simple or complex as you'd like, but ensure you have justified your decisions through your EDA and evaluated the performance metrics of each model. "
   ]
  },
  {
   "cell_type": "code",
   "execution_count": null,
   "metadata": {},
   "outputs": [],
   "source": []
  }
 ],
 "metadata": {
  "kernelspec": {
   "display_name": "Python 3",
   "language": "python",
   "name": "python3"
  },
  "language_info": {
   "codemirror_mode": {
    "name": "ipython",
    "version": 3
   },
   "file_extension": ".py",
   "mimetype": "text/x-python",
   "name": "python",
   "nbconvert_exporter": "python",
   "pygments_lexer": "ipython3",
   "version": "3.7.6"
  }
 },
 "nbformat": 4,
 "nbformat_minor": 4
}
